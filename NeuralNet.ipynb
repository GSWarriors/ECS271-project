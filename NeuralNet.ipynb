{
 "cells": [
  {
   "cell_type": "markdown",
   "id": "45363b1f",
   "metadata": {},
   "source": [
    "# Neural Networks"
   ]
  },
  {
   "cell_type": "code",
   "execution_count": 33,
   "id": "b7c8f4f9",
   "metadata": {},
   "outputs": [],
   "source": [
    "import torch\n",
    "import torch.nn as nn\n",
    "import torch.optim as optim\n",
    "from torch.utils.data import Dataset, DataLoader\n",
    "import pandas as pd\n",
    "import numpy as np\n",
    "import matplotlib.pyplot as plt\n",
    "import os\n",
    "from typing import List\n",
    "\n",
    "# Set random seeds\n",
    "def set_seed(seed: int = 0):\n",
    "  np.random.seed(seed)\n",
    "  torch.manual_seed(seed)\n",
    "  os.environ['PYTHONHASHSEED'] = str(seed)\n",
    "set_seed()"
   ]
  },
  {
   "cell_type": "code",
   "execution_count": 65,
   "id": "2f610cec",
   "metadata": {},
   "outputs": [],
   "source": [
    "def init_weights(m):\n",
    "    if isinstance(m, nn.Linear):\n",
    "        torch.nn.init.xavier_uniform_(m.weight)\n",
    "        m.bias.data.fill_(0.01)\n",
    "\n",
    "class FullyConnected(nn.Module):\n",
    "         \n",
    "    def __init__(self, in_features, num_classes, activation = nn.ReLU, num_layers: int = 3):\n",
    "        assert num_layers % 2 == 1, \"Please give an odd number of layers\"\n",
    "        super().__init__()\n",
    "        self.layers = nn.ModuleList()\n",
    "        for i in range(num_layers // 2):\n",
    "            self.layers.append(nn.Sequential(\n",
    "                nn.Linear(in_features * (2 ** i), in_features * (2 ** (i + 1)), bias=True),\n",
    "                activation()\n",
    "            ))\n",
    "        for i in reversed(range(num_layers // 2)):\n",
    "            self.layers.append(nn.Sequential(\n",
    "                nn.Linear(in_features * (2 ** (i + 1)), in_features * (2 ** i), bias=True),\n",
    "                activation()\n",
    "            ))\n",
    "        self.layers.append(nn.Linear(in_features, num_classes))\n",
    "        for l in self.layers:\n",
    "            l.apply(init_weights)\n",
    "        \n",
    "    def forward(self, X):\n",
    "        for l in self.layers:\n",
    "            X = l(X)\n",
    "        return X"
   ]
  },
  {
   "cell_type": "code",
   "execution_count": 66,
   "id": "f3e217c1",
   "metadata": {},
   "outputs": [],
   "source": [
    "class TabularDataset(Dataset):\n",
    "    def __init__(self, X, y):\n",
    "        self.X = X\n",
    "        self.y = y\n",
    "        \n",
    "    def __len__(self):\n",
    "        return len(self.y)\n",
    "    \n",
    "    def __getitem__(self, idx):\n",
    "        return self.X[idx], self.y[idx]"
   ]
  },
  {
   "cell_type": "code",
   "execution_count": 67,
   "id": "4c1ab660",
   "metadata": {},
   "outputs": [],
   "source": [
    "# Prepare data\n",
    "\n",
    "df = np.array(pd.read_csv(\"fetal_health.csv\"), dtype=np.float32)\n",
    "np.random.shuffle(df)\n",
    "X = np.array(df[:, :-1])\n",
    "y = np.array(df[:, -1], dtype=np.int64) - 1 # We subtract 1 to make classes 0,1,2 instead of 1,2,3\n",
    "num_data = len(y)\n",
    "num_train = int(np.floor(num_data * 0.6))\n",
    "num_val = int(np.floor(num_data * 0.2))\n",
    "\n",
    "train_X = X[:num_train]\n",
    "train_y = y[:num_train]\n",
    "\n",
    "val_X = X[num_train:num_train + num_val]\n",
    "val_y = y[num_train:num_train + num_val]\n",
    "\n",
    "test_X = X[num_train + num_val:]\n",
    "test_y = y[num_train + num_val:]"
   ]
  },
  {
   "cell_type": "code",
   "execution_count": 68,
   "id": "b365a68f",
   "metadata": {},
   "outputs": [],
   "source": [
    "device = torch.device(\"cuda:0\" if torch.cuda.is_available() else \"cpu\")\n",
    "def calculateAccuracy(dataloader: torch.utils.data.DataLoader, model: nn.Module):\n",
    "    total = 0\n",
    "    correct = 0\n",
    "    model = model.to(device)\n",
    "    with torch.no_grad():\n",
    "        for data in dataloader:\n",
    "            inputs, labels = data\n",
    "            inputs, labels = inputs.to(device), labels.to(device)\n",
    "            outputs = model(inputs)\n",
    "            _, predicted = torch.max(outputs.data, 1)\n",
    "            total += labels.size(0)\n",
    "            correct += (predicted == labels).sum().item()\n",
    "        accuracy = 100 * correct / total\n",
    "    return accuracy\n",
    "\n",
    "def train(model: nn.Module, \n",
    "        trainset: torch.utils.data.Dataset,\n",
    "        testset: torch.utils.data.Dataset,\n",
    "        loss_criterion = nn.CrossEntropyLoss, \n",
    "        optimizer = optim.Adam,\n",
    "        lr: float = 0.001,\n",
    "        weight_decay: float = 0.001, \n",
    "        batch_size: int = 4, \n",
    "        num_epochs: int = 50,\n",
    "        verbose: bool = False):\n",
    "    set_seed()\n",
    "    patience = 0\n",
    "    max_test_acc = -1.0\n",
    "    trainloader = torch.utils.data.DataLoader(trainset, batch_size=batch_size, shuffle=True, drop_last=True)\n",
    "    testloader = torch.utils.data.DataLoader(testset, batch_size=batch_size, shuffle=False, drop_last=True)\n",
    "    model = model.to(device)\n",
    "\n",
    "    optimizer = optimizer(model.parameters(), lr=lr, weight_decay=weight_decay)\n",
    "    loss_criterion = loss_criterion()\n",
    "    losses = []\n",
    "    train_accs = []\n",
    "    test_accs = []\n",
    "    for epoch in range(num_epochs):  # loop over the dataset multiple times\n",
    "\n",
    "        running_loss = 0.0\n",
    "        for i, data in enumerate(trainloader, 0):\n",
    "            # get the inputs\n",
    "            inputs, labels = data\n",
    "            inputs, labels = inputs.to(device), labels.to(device)\n",
    "\n",
    "            # zero the parameter gradients\n",
    "            optimizer.zero_grad()\n",
    "\n",
    "            # forward + backward + optimize\n",
    "            outputs = model(inputs)\n",
    "            loss = loss_criterion(outputs, labels)\n",
    "            loss.backward()\n",
    "            optimizer.step()\n",
    "\n",
    "            # print statistics\n",
    "            running_loss += loss.item()\n",
    "            if i % 4 == 3:    # print every 4 mini-batches\n",
    "                average_loss = running_loss / 4\n",
    "                if verbose:\n",
    "                    print(f'[{epoch + 1}, {i + 1}] loss: {average_loss:.3f}')\n",
    "                losses.append(average_loss)\n",
    "                running_loss = 0.0\n",
    "        \n",
    "        # End of epoch, calculate accuracies\n",
    "        train_accuracy = calculateAccuracy(trainloader, model)\n",
    "        train_accs.append(train_accuracy)\n",
    "        if verbose:\n",
    "            print(f'[Epoch {epoch + 1}] Train accuracy:  {train_accuracy:.2f}%')\n",
    "\n",
    "        test_accuracy = calculateAccuracy(testloader, model)\n",
    "        test_accs.append(test_accuracy)\n",
    "        if verbose:\n",
    "            print(f'[Epoch {epoch + 1}] Test accuracy:  {test_accuracy:.2f}%')\n",
    "            \n",
    "        if test_accuracy > max_test_acc:\n",
    "            max_test_acc = test_accuracy\n",
    "            patience = 0\n",
    "        else:\n",
    "            patience += 1\n",
    "        \n",
    "        if patience >= 15:\n",
    "            print('Patience reached, no improvements for 15 epochs. Early stopping.')\n",
    "            return losses, train_accs, test_accs\n",
    "        \n",
    "    print('Finished Training')   \n",
    "    return losses, train_accs, test_accs\n",
    "\n",
    "def plot(labels, loss_lists, train_acc_lists, test_acc_lists):\n",
    "    for i, loss_list in enumerate(loss_lists): \n",
    "        plt.plot(loss_list, label=f\"{labels[i]}\")\n",
    "    plt.title(\"Loss Curve\")\n",
    "    leg = plt.legend(bbox_to_anchor=(1.05, 1.0), loc='upper left')\n",
    "    leg.get_frame().set_alpha(0.5)\n",
    "    plt.show()\n",
    "\n",
    "    for i, train_acc_list in enumerate(train_acc_lists):\n",
    "        plt.plot(train_acc_list, label=f\"{labels[i]}\")\n",
    "    plt.title(\"Training Set Accuracies\")\n",
    "    leg = plt.legend(bbox_to_anchor=(1.05, 1.0), loc='upper left')\n",
    "    leg.get_frame().set_alpha(0.5)\n",
    "    plt.show()\n",
    "\n",
    "    for i, test_acc_list in enumerate(test_acc_lists):\n",
    "        plt.plot(test_acc_list, label=f\"{labels[i]}\")\n",
    "    plt.title(\"Test Set Accuracies\")\n",
    "    leg = plt.legend(bbox_to_anchor=(1.05, 1.0), loc='upper left')\n",
    "    leg.get_frame().set_alpha(0.5)\n",
    "    plt.show()"
   ]
  },
  {
   "cell_type": "code",
   "execution_count": 76,
   "id": "e092ebeb",
   "metadata": {},
   "outputs": [],
   "source": [
    "loss_criterion_dict = {\n",
    "    \"nn.CrossEntropyLoss\": nn.CrossEntropyLoss\n",
    "}\n",
    "activation_dict = {\n",
    "    \"nn.PReLU\": nn.PReLU, \n",
    "    \"nn.ReLU\": nn.ReLU, \n",
    "    \"nn.LeakyReLU\": nn.LeakyReLU,\n",
    "    \"nn.Tanh\": nn.Tanh, \n",
    "    \"nn.Sigmoid\": nn.Sigmoid\n",
    "}\n",
    "optimizer_dict = {\n",
    "    \"optim.Adam\": optim.Adam,\n",
    "    \"optim.SGD\": optim.SGD, \n",
    "    \"optim.Adagrad\": optim.Adagrad,\n",
    "    \"optim.RMSprop\": optim.RMSprop\n",
    "}\n",
    "class Hyperparam:\n",
    "  def __init__(self, batch_size: int = 64, lr: float = 1e-2, \n",
    "              weight_decay: float = 1e-3, loss_criterion: str = \"nn.CrossEntropyLoss\",\n",
    "              num_layers: int = 3, activation: str = \"nn.ReLU\", optimizer: str = \"optim.Adam\"):\n",
    "    super().__init__()\n",
    "    self.batch_size = batch_size\n",
    "    self.lr = lr\n",
    "    self.weight_decay = weight_decay\n",
    "    self.num_layers = num_layers\n",
    "    self.loss_criterion = loss_criterion_dict[loss_criterion]\n",
    "    self.activation = activation_dict[activation]\n",
    "    self.optimizer = optimizer_dict[optimizer]\n",
    "\n",
    "hyperparam = Hyperparam()\n",
    "train_dataset = TabularDataset(train_X, train_y)\n",
    "val_dataset = TabularDataset(val_X, val_y)\n"
   ]
  },
  {
   "cell_type": "code",
   "execution_count": 77,
   "id": "fc228a18",
   "metadata": {},
   "outputs": [],
   "source": [
    "model = FullyConnected(train_X.shape[1], len(np.unique(y)),\n",
    "                       activation=hyperparam.activation, num_layers=hyperparam.num_layers)\n"
   ]
  },
  {
   "cell_type": "code",
   "execution_count": 78,
   "id": "e5f01377",
   "metadata": {},
   "outputs": [
    {
     "data": {
      "text/plain": [
       "1893"
      ]
     },
     "execution_count": 78,
     "metadata": {},
     "output_type": "execute_result"
    }
   ],
   "source": [
    "sum(p.numel() for p in model.parameters())\n"
   ]
  },
  {
   "cell_type": "code",
   "execution_count": 79,
   "id": "0b6cc59c",
   "metadata": {},
   "outputs": [
    {
     "name": "stdout",
     "output_type": "stream",
     "text": [
      "Patience reached, no improvements for 15 epochs. Early stopping.\n"
     ]
    }
   ],
   "source": [
    "losses, train_accuracies, val_accuracies = train(\n",
    "  model=FullyConnected(train_X.shape[1], len(np.unique(y)), \n",
    "                        activation=hyperparam.activation, num_layers=hyperparam.num_layers),\n",
    "  trainset=train_dataset,\n",
    "  testset=val_dataset,\n",
    "  loss_criterion=hyperparam.loss_criterion,\n",
    "  lr=hyperparam.lr,\n",
    "  batch_size=hyperparam.batch_size,\n",
    "  optimizer=hyperparam.optimizer\n",
    ")"
   ]
  },
  {
   "cell_type": "code",
   "execution_count": 80,
   "id": "b1621605",
   "metadata": {},
   "outputs": [
    {
     "data": {
      "image/png": "[encoded data removed]",
      "text/plain": [
       "<Figure size 432x288 with 1 Axes>"
      ]
     },
     "metadata": {
      "needs_background": "light"
     },
     "output_type": "display_data"
    },
    {
     "data": {
      "image/png": "[encoded data removed]",
      "text/plain": [
       "<Figure size 432x288 with 1 Axes>"
      ]
     },
     "metadata": {
      "needs_background": "light"
     },
     "output_type": "display_data"
    },
    {
     "data": {
      "image/png": "[encoded data removed]",
      "text/plain": [
       "<Figure size 432x288 with 1 Axes>"
      ]
     },
     "metadata": {
      "needs_background": "light"
     },
     "output_type": "display_data"
    }
   ],
   "source": [
    "plot([\"Initial\"], [losses], [train_accuracies], [val_accuracies])"
   ]
  },
  {
   "cell_type": "code",
   "execution_count": 81,
   "id": "a7b96363",
   "metadata": {},
   "outputs": [],
   "source": [
    "import optuna"
   ]
  },
  {
   "cell_type": "code",
   "execution_count": 82,
   "id": "4abb8047",
   "metadata": {},
   "outputs": [
    {
     "name": "stderr",
     "output_type": "stream",
     "text": [
      "\u001b[32m[I 2022-02-25 00:04:07,947]\u001b[0m A new study created in memory with name: no-name-8412f6c4-b821-4999-bd48-0fd9e03cf545\u001b[0m\n",
      "\u001b[32m[I 2022-02-25 00:04:37,821]\u001b[0m Trial 0 finished with value: 79.05882352941177 and parameters: {'batch_size': 1, 'lr': 0.027720777971672265, 'weight_decay': 4.352086845316767e-05, 'optimizer': 'optim.RMSprop', 'activation': 'nn.Sigmoid', 'loss_criterion': 'nn.CrossEntropyLoss', 'num_layers': 7}. Best is trial 0 with value: 79.05882352941177.\u001b[0m\n"
     ]
    },
    {
     "name": "stdout",
     "output_type": "stream",
     "text": [
      "Patience reached, no improvements for 15 epochs. Early stopping.\n"
     ]
    },
    {
     "name": "stderr",
     "output_type": "stream",
     "text": [
      "\u001b[32m[I 2022-02-25 00:04:38,305]\u001b[0m Trial 1 finished with value: 78.515625 and parameters: {'batch_size': 256, 'lr': 0.0001425868184189085, 'weight_decay': 0.00050989447484736, 'optimizer': 'optim.Adam', 'activation': 'nn.Tanh', 'loss_criterion': 'nn.CrossEntropyLoss', 'num_layers': 5}. Best is trial 0 with value: 79.05882352941177.\u001b[0m\n"
     ]
    },
    {
     "name": "stdout",
     "output_type": "stream",
     "text": [
      "Patience reached, no improvements for 15 epochs. Early stopping.\n"
     ]
    },
    {
     "name": "stderr",
     "output_type": "stream",
     "text": [
      "\u001b[32m[I 2022-02-25 00:04:44,961]\u001b[0m Trial 2 finished with value: 85.84905660377359 and parameters: {'batch_size': 4, 'lr': 0.003482650840607596, 'weight_decay': 0.0002775777646786967, 'optimizer': 'optim.Adagrad', 'activation': 'nn.ReLU', 'loss_criterion': 'nn.CrossEntropyLoss', 'num_layers': 3}. Best is trial 2 with value: 85.84905660377359.\u001b[0m\n"
     ]
    },
    {
     "name": "stdout",
     "output_type": "stream",
     "text": [
      "Patience reached, no improvements for 15 epochs. Early stopping.\n"
     ]
    },
    {
     "name": "stderr",
     "output_type": "stream",
     "text": [
      "\u001b[32m[I 2022-02-25 00:04:45,880]\u001b[0m Trial 3 finished with value: 86.328125 and parameters: {'batch_size': 256, 'lr': 0.0003691554224926285, 'weight_decay': 0.00018587301616427237, 'optimizer': 'optim.Adagrad', 'activation': 'nn.PReLU', 'loss_criterion': 'nn.CrossEntropyLoss', 'num_layers': 7}. Best is trial 3 with value: 86.328125.\u001b[0m\n"
     ]
    },
    {
     "name": "stdout",
     "output_type": "stream",
     "text": [
      "Patience reached, no improvements for 15 epochs. Early stopping.\n"
     ]
    },
    {
     "name": "stderr",
     "output_type": "stream",
     "text": [
      "\u001b[32m[I 2022-02-25 00:05:12,469]\u001b[0m Trial 4 finished with value: 79.05882352941177 and parameters: {'batch_size': 1, 'lr': 0.014422832189749862, 'weight_decay': 0.00010213705418219157, 'optimizer': 'optim.Adam', 'activation': 'nn.Sigmoid', 'loss_criterion': 'nn.CrossEntropyLoss', 'num_layers': 5}. Best is trial 3 with value: 86.328125.\u001b[0m\n"
     ]
    },
    {
     "name": "stdout",
     "output_type": "stream",
     "text": [
      "Patience reached, no improvements for 15 epochs. Early stopping.\n"
     ]
    },
    {
     "name": "stderr",
     "output_type": "stream",
     "text": [
      "\u001b[32m[I 2022-02-25 00:05:39,515]\u001b[0m Trial 5 finished with value: 84.0 and parameters: {'batch_size': 1, 'lr': 0.0002166335372514431, 'weight_decay': 0.00020272179128259037, 'optimizer': 'optim.SGD', 'activation': 'nn.Tanh', 'loss_criterion': 'nn.CrossEntropyLoss', 'num_layers': 3}. Best is trial 3 with value: 86.328125.\u001b[0m\n"
     ]
    },
    {
     "name": "stdout",
     "output_type": "stream",
     "text": [
      "Patience reached, no improvements for 15 epochs. Early stopping.\n"
     ]
    },
    {
     "name": "stderr",
     "output_type": "stream",
     "text": [
      "\u001b[32m[I 2022-02-25 00:05:43,380]\u001b[0m Trial 6 finished with value: 85.33653846153847 and parameters: {'batch_size': 16, 'lr': 0.001495056873216278, 'weight_decay': 2.8611021313409314e-05, 'optimizer': 'optim.Adagrad', 'activation': 'nn.PReLU', 'loss_criterion': 'nn.CrossEntropyLoss', 'num_layers': 5}. Best is trial 3 with value: 86.328125.\u001b[0m\n"
     ]
    },
    {
     "name": "stdout",
     "output_type": "stream",
     "text": [
      "Patience reached, no improvements for 15 epochs. Early stopping.\n"
     ]
    },
    {
     "name": "stderr",
     "output_type": "stream",
     "text": [
      "\u001b[32m[I 2022-02-25 00:05:58,767]\u001b[0m Trial 7 finished with value: 79.05882352941177 and parameters: {'batch_size': 1, 'lr': 0.009511172456914288, 'weight_decay': 1.2239614385976153e-05, 'optimizer': 'optim.RMSprop', 'activation': 'nn.Tanh', 'loss_criterion': 'nn.CrossEntropyLoss', 'num_layers': 3}. Best is trial 3 with value: 86.328125.\u001b[0m\n"
     ]
    },
    {
     "name": "stdout",
     "output_type": "stream",
     "text": [
      "Patience reached, no improvements for 15 epochs. Early stopping.\n"
     ]
    },
    {
     "name": "stderr",
     "output_type": "stream",
     "text": [
      "\u001b[32m[I 2022-02-25 00:05:59,167]\u001b[0m Trial 8 finished with value: 78.515625 and parameters: {'batch_size': 256, 'lr': 0.0808525051832032, 'weight_decay': 1.1530859109539811e-05, 'optimizer': 'optim.RMSprop', 'activation': 'nn.Tanh', 'loss_criterion': 'nn.CrossEntropyLoss', 'num_layers': 5}. Best is trial 3 with value: 86.328125.\u001b[0m\n"
     ]
    },
    {
     "name": "stdout",
     "output_type": "stream",
     "text": [
      "Patience reached, no improvements for 15 epochs. Early stopping.\n"
     ]
    },
    {
     "name": "stderr",
     "output_type": "stream",
     "text": [
      "\u001b[32m[I 2022-02-25 00:06:00,441]\u001b[0m Trial 9 finished with value: 85.67708333333333 and parameters: {'batch_size': 64, 'lr': 0.003781096572927568, 'weight_decay': 0.00022340305166251696, 'optimizer': 'optim.RMSprop', 'activation': 'nn.PReLU', 'loss_criterion': 'nn.CrossEntropyLoss', 'num_layers': 7}. Best is trial 3 with value: 86.328125.\u001b[0m\n"
     ]
    },
    {
     "name": "stdout",
     "output_type": "stream",
     "text": [
      "Patience reached, no improvements for 15 epochs. Early stopping.\n"
     ]
    },
    {
     "name": "stderr",
     "output_type": "stream",
     "text": [
      "\u001b[32m[I 2022-02-25 00:06:01,390]\u001b[0m Trial 10 finished with value: 87.109375 and parameters: {'batch_size': 256, 'lr': 0.000561364989786972, 'weight_decay': 0.000948554491156872, 'optimizer': 'optim.Adagrad', 'activation': 'nn.LeakyReLU', 'loss_criterion': 'nn.CrossEntropyLoss', 'num_layers': 7}. Best is trial 10 with value: 87.109375.\u001b[0m\n"
     ]
    },
    {
     "name": "stdout",
     "output_type": "stream",
     "text": [
      "Patience reached, no improvements for 15 epochs. Early stopping.\n"
     ]
    },
    {
     "name": "stderr",
     "output_type": "stream",
     "text": [
      "\u001b[32m[I 2022-02-25 00:06:02,197]\u001b[0m Trial 11 finished with value: 83.203125 and parameters: {'batch_size': 256, 'lr': 0.0007077052618958971, 'weight_decay': 0.0007644847886778139, 'optimizer': 'optim.Adagrad', 'activation': 'nn.LeakyReLU', 'loss_criterion': 'nn.CrossEntropyLoss', 'num_layers': 7}. Best is trial 10 with value: 87.109375.\u001b[0m\n"
     ]
    },
    {
     "name": "stdout",
     "output_type": "stream",
     "text": [
      "Patience reached, no improvements for 15 epochs. Early stopping.\n"
     ]
    },
    {
     "name": "stderr",
     "output_type": "stream",
     "text": [
      "\u001b[32m[I 2022-02-25 00:06:02,912]\u001b[0m Trial 12 finished with value: 87.5 and parameters: {'batch_size': 256, 'lr': 0.0003895045021728581, 'weight_decay': 0.0008187465469994234, 'optimizer': 'optim.Adagrad', 'activation': 'nn.LeakyReLU', 'loss_criterion': 'nn.CrossEntropyLoss', 'num_layers': 7}. Best is trial 12 with value: 87.5.\u001b[0m\n"
     ]
    },
    {
     "name": "stdout",
     "output_type": "stream",
     "text": [
      "Patience reached, no improvements for 15 epochs. Early stopping.\n"
     ]
    },
    {
     "name": "stderr",
     "output_type": "stream",
     "text": [
      "\u001b[32m[I 2022-02-25 00:06:03,889]\u001b[0m Trial 13 finished with value: 86.71875 and parameters: {'batch_size': 256, 'lr': 0.0007296546738027383, 'weight_decay': 0.0009113377720290712, 'optimizer': 'optim.Adagrad', 'activation': 'nn.LeakyReLU', 'loss_criterion': 'nn.CrossEntropyLoss', 'num_layers': 7}. Best is trial 12 with value: 87.5.\u001b[0m\n"
     ]
    },
    {
     "name": "stdout",
     "output_type": "stream",
     "text": [
      "Patience reached, no improvements for 15 epochs. Early stopping.\n"
     ]
    },
    {
     "name": "stderr",
     "output_type": "stream",
     "text": [
      "\u001b[32m[I 2022-02-25 00:06:14,194]\u001b[0m Trial 14 finished with value: 87.5 and parameters: {'batch_size': 4, 'lr': 0.00010815521536678521, 'weight_decay': 0.0004795508471937359, 'optimizer': 'optim.SGD', 'activation': 'nn.LeakyReLU', 'loss_criterion': 'nn.CrossEntropyLoss', 'num_layers': 7}. Best is trial 12 with value: 87.5.\u001b[0m\n"
     ]
    },
    {
     "name": "stdout",
     "output_type": "stream",
     "text": [
      "Patience reached, no improvements for 15 epochs. Early stopping.\n"
     ]
    },
    {
     "name": "stderr",
     "output_type": "stream",
     "text": [
      "\u001b[32m[I 2022-02-25 00:06:25,464]\u001b[0m Trial 15 finished with value: 87.73584905660377 and parameters: {'batch_size': 4, 'lr': 0.00011167277020583644, 'weight_decay': 0.0004465021650587067, 'optimizer': 'optim.SGD', 'activation': 'nn.LeakyReLU', 'loss_criterion': 'nn.CrossEntropyLoss', 'num_layers': 7}. Best is trial 15 with value: 87.73584905660377.\u001b[0m\n"
     ]
    },
    {
     "name": "stdout",
     "output_type": "stream",
     "text": [
      "Patience reached, no improvements for 15 epochs. Early stopping.\n"
     ]
    },
    {
     "name": "stderr",
     "output_type": "stream",
     "text": [
      "\u001b[32m[I 2022-02-25 00:06:35,722]\u001b[0m Trial 16 finished with value: 88.44339622641509 and parameters: {'batch_size': 4, 'lr': 0.0013718491513540966, 'weight_decay': 0.0004139439197103943, 'optimizer': 'optim.SGD', 'activation': 'nn.LeakyReLU', 'loss_criterion': 'nn.CrossEntropyLoss', 'num_layers': 7}. Best is trial 16 with value: 88.44339622641509.\u001b[0m\n"
     ]
    },
    {
     "name": "stdout",
     "output_type": "stream",
     "text": [
      "Patience reached, no improvements for 15 epochs. Early stopping.\n"
     ]
    },
    {
     "name": "stderr",
     "output_type": "stream",
     "text": [
      "\u001b[32m[I 2022-02-25 00:06:43,452]\u001b[0m Trial 17 finished with value: 87.5 and parameters: {'batch_size': 4, 'lr': 0.00174201812174135, 'weight_decay': 0.00010432523017712365, 'optimizer': 'optim.SGD', 'activation': 'nn.ReLU', 'loss_criterion': 'nn.CrossEntropyLoss', 'num_layers': 7}. Best is trial 16 with value: 88.44339622641509.\u001b[0m\n"
     ]
    },
    {
     "name": "stdout",
     "output_type": "stream",
     "text": [
      "Patience reached, no improvements for 15 epochs. Early stopping.\n"
     ]
    },
    {
     "name": "stderr",
     "output_type": "stream",
     "text": [
      "\u001b[32m[I 2022-02-25 00:06:59,090]\u001b[0m Trial 18 finished with value: 83.9622641509434 and parameters: {'batch_size': 4, 'lr': 0.0014088833024691804, 'weight_decay': 0.0003831381593774794, 'optimizer': 'optim.SGD', 'activation': 'nn.LeakyReLU', 'loss_criterion': 'nn.CrossEntropyLoss', 'num_layers': 7}. Best is trial 16 with value: 88.44339622641509.\u001b[0m\n"
     ]
    },
    {
     "name": "stdout",
     "output_type": "stream",
     "text": [
      "Patience reached, no improvements for 15 epochs. Early stopping.\n"
     ]
    },
    {
     "name": "stderr",
     "output_type": "stream",
     "text": [
      "\u001b[32m[I 2022-02-25 00:07:04,700]\u001b[0m Trial 19 finished with value: 86.32075471698113 and parameters: {'batch_size': 4, 'lr': 0.00822169670202024, 'weight_decay': 0.00014263591299504345, 'optimizer': 'optim.SGD', 'activation': 'nn.LeakyReLU', 'loss_criterion': 'nn.CrossEntropyLoss', 'num_layers': 3}. Best is trial 16 with value: 88.44339622641509.\u001b[0m\n"
     ]
    },
    {
     "name": "stdout",
     "output_type": "stream",
     "text": [
      "Patience reached, no improvements for 15 epochs. Early stopping.\n"
     ]
    },
    {
     "name": "stderr",
     "output_type": "stream",
     "text": [
      "\u001b[32m[I 2022-02-25 00:07:06,689]\u001b[0m Trial 20 finished with value: 86.45833333333333 and parameters: {'batch_size': 64, 'lr': 0.0002356273164611769, 'weight_decay': 4.722847968206947e-05, 'optimizer': 'optim.SGD', 'activation': 'nn.LeakyReLU', 'loss_criterion': 'nn.CrossEntropyLoss', 'num_layers': 7}. Best is trial 16 with value: 88.44339622641509.\u001b[0m\n"
     ]
    },
    {
     "name": "stdout",
     "output_type": "stream",
     "text": [
      "Finished Training\n"
     ]
    },
    {
     "name": "stderr",
     "output_type": "stream",
     "text": [
      "\u001b[32m[I 2022-02-25 00:07:16,542]\u001b[0m Trial 21 finished with value: 88.67924528301887 and parameters: {'batch_size': 4, 'lr': 0.0016916321028262564, 'weight_decay': 8.452236920922415e-05, 'optimizer': 'optim.SGD', 'activation': 'nn.ReLU', 'loss_criterion': 'nn.CrossEntropyLoss', 'num_layers': 7}. Best is trial 21 with value: 88.67924528301887.\u001b[0m\n"
     ]
    },
    {
     "name": "stdout",
     "output_type": "stream",
     "text": [
      "Patience reached, no improvements for 15 epochs. Early stopping.\n"
     ]
    },
    {
     "name": "stderr",
     "output_type": "stream",
     "text": [
      "\u001b[32m[I 2022-02-25 00:07:38,742]\u001b[0m Trial 22 finished with value: 87.97169811320755 and parameters: {'batch_size': 4, 'lr': 0.005208843585178255, 'weight_decay': 5.20085437654383e-05, 'optimizer': 'optim.SGD', 'activation': 'nn.ReLU', 'loss_criterion': 'nn.CrossEntropyLoss', 'num_layers': 7}. Best is trial 21 with value: 88.67924528301887.\u001b[0m\n"
     ]
    },
    {
     "name": "stdout",
     "output_type": "stream",
     "text": [
      "Patience reached, no improvements for 15 epochs. Early stopping.\n"
     ]
    },
    {
     "name": "stderr",
     "output_type": "stream",
     "text": [
      "\u001b[32m[I 2022-02-25 00:08:01,597]\u001b[0m Trial 23 finished with value: 87.02830188679245 and parameters: {'batch_size': 4, 'lr': 0.005079010980662131, 'weight_decay': 5.8660303527661634e-05, 'optimizer': 'optim.SGD', 'activation': 'nn.ReLU', 'loss_criterion': 'nn.CrossEntropyLoss', 'num_layers': 7}. Best is trial 21 with value: 88.67924528301887.\u001b[0m\n"
     ]
    },
    {
     "name": "stdout",
     "output_type": "stream",
     "text": [
      "Finished Training\n"
     ]
    },
    {
     "name": "stderr",
     "output_type": "stream",
     "text": [
      "\u001b[32m[I 2022-02-25 00:08:05,017]\u001b[0m Trial 24 finished with value: 87.98076923076923 and parameters: {'batch_size': 16, 'lr': 0.0019651975584335127, 'weight_decay': 2.1928965178550446e-05, 'optimizer': 'optim.SGD', 'activation': 'nn.ReLU', 'loss_criterion': 'nn.CrossEntropyLoss', 'num_layers': 7}. Best is trial 21 with value: 88.67924528301887.\u001b[0m\n"
     ]
    },
    {
     "name": "stdout",
     "output_type": "stream",
     "text": [
      "Patience reached, no improvements for 15 epochs. Early stopping.\n"
     ]
    },
    {
     "name": "stderr",
     "output_type": "stream",
     "text": [
      "\u001b[32m[I 2022-02-25 00:08:08,634]\u001b[0m Trial 25 finished with value: 83.17307692307692 and parameters: {'batch_size': 16, 'lr': 0.002199890490307757, 'weight_decay': 1.7904094954301085e-05, 'optimizer': 'optim.SGD', 'activation': 'nn.ReLU', 'loss_criterion': 'nn.CrossEntropyLoss', 'num_layers': 7}. Best is trial 21 with value: 88.67924528301887.\u001b[0m\n"
     ]
    },
    {
     "name": "stdout",
     "output_type": "stream",
     "text": [
      "Patience reached, no improvements for 15 epochs. Early stopping.\n"
     ]
    },
    {
     "name": "stderr",
     "output_type": "stream",
     "text": [
      "\u001b[32m[I 2022-02-25 00:08:20,731]\u001b[0m Trial 26 finished with value: 88.46153846153847 and parameters: {'batch_size': 16, 'lr': 0.0012260571999824523, 'weight_decay': 6.235864903396319e-05, 'optimizer': 'optim.Adam', 'activation': 'nn.ReLU', 'loss_criterion': 'nn.CrossEntropyLoss', 'num_layers': 7}. Best is trial 21 with value: 88.67924528301887.\u001b[0m\n"
     ]
    },
    {
     "name": "stdout",
     "output_type": "stream",
     "text": [
      "Finished Training\n"
     ]
    },
    {
     "name": "stderr",
     "output_type": "stream",
     "text": [
      "\u001b[32m[I 2022-02-25 00:08:26,937]\u001b[0m Trial 27 finished with value: 84.85576923076923 and parameters: {'batch_size': 16, 'lr': 0.001037571517938835, 'weight_decay': 7.727771735358127e-05, 'optimizer': 'optim.Adam', 'activation': 'nn.ReLU', 'loss_criterion': 'nn.CrossEntropyLoss', 'num_layers': 5}. Best is trial 21 with value: 88.67924528301887.\u001b[0m\n"
     ]
    },
    {
     "name": "stdout",
     "output_type": "stream",
     "text": [
      "Patience reached, no improvements for 15 epochs. Early stopping.\n"
     ]
    },
    {
     "name": "stderr",
     "output_type": "stream",
     "text": [
      "\u001b[32m[I 2022-02-25 00:08:42,062]\u001b[0m Trial 28 finished with value: 87.74038461538461 and parameters: {'batch_size': 16, 'lr': 0.0010585870960362952, 'weight_decay': 3.3597382400444464e-05, 'optimizer': 'optim.Adam', 'activation': 'nn.ReLU', 'loss_criterion': 'nn.CrossEntropyLoss', 'num_layers': 7}. Best is trial 21 with value: 88.67924528301887.\u001b[0m\n"
     ]
    },
    {
     "name": "stdout",
     "output_type": "stream",
     "text": [
      "Finished Training\n"
     ]
    },
    {
     "name": "stderr",
     "output_type": "stream",
     "text": [
      "\u001b[32m[I 2022-02-25 00:08:43,382]\u001b[0m Trial 29 finished with value: 79.94791666666667 and parameters: {'batch_size': 64, 'lr': 0.028970628367079754, 'weight_decay': 7.40258971206604e-05, 'optimizer': 'optim.Adam', 'activation': 'nn.Sigmoid', 'loss_criterion': 'nn.CrossEntropyLoss', 'num_layers': 3}. Best is trial 21 with value: 88.67924528301887.\u001b[0m\n"
     ]
    },
    {
     "name": "stdout",
     "output_type": "stream",
     "text": [
      "Patience reached, no improvements for 15 epochs. Early stopping.\n"
     ]
    },
    {
     "name": "stderr",
     "output_type": "stream",
     "text": [
      "\u001b[32m[I 2022-02-25 00:08:46,407]\u001b[0m Trial 30 finished with value: 79.08653846153847 and parameters: {'batch_size': 16, 'lr': 0.0025246839493662213, 'weight_decay': 0.00014811050630062113, 'optimizer': 'optim.Adam', 'activation': 'nn.Sigmoid', 'loss_criterion': 'nn.CrossEntropyLoss', 'num_layers': 7}. Best is trial 21 with value: 88.67924528301887.\u001b[0m\n"
     ]
    },
    {
     "name": "stdout",
     "output_type": "stream",
     "text": [
      "Patience reached, no improvements for 15 epochs. Early stopping.\n"
     ]
    },
    {
     "name": "stderr",
     "output_type": "stream",
     "text": [
      "\u001b[32m[I 2022-02-25 00:08:50,095]\u001b[0m Trial 31 finished with value: 87.98076923076923 and parameters: {'batch_size': 16, 'lr': 0.0010338572484824727, 'weight_decay': 2.542804190812614e-05, 'optimizer': 'optim.SGD', 'activation': 'nn.ReLU', 'loss_criterion': 'nn.CrossEntropyLoss', 'num_layers': 7}. Best is trial 21 with value: 88.67924528301887.\u001b[0m\n"
     ]
    },
    {
     "name": "stdout",
     "output_type": "stream",
     "text": [
      "Patience reached, no improvements for 15 epochs. Early stopping.\n"
     ]
    },
    {
     "name": "stderr",
     "output_type": "stream",
     "text": [
      "\u001b[32m[I 2022-02-25 00:08:53,441]\u001b[0m Trial 32 finished with value: 88.46153846153847 and parameters: {'batch_size': 16, 'lr': 0.0011269687640409552, 'weight_decay': 3.9694313512865845e-05, 'optimizer': 'optim.SGD', 'activation': 'nn.ReLU', 'loss_criterion': 'nn.CrossEntropyLoss', 'num_layers': 7}. Best is trial 21 with value: 88.67924528301887.\u001b[0m\n"
     ]
    },
    {
     "name": "stdout",
     "output_type": "stream",
     "text": [
      "Patience reached, no improvements for 15 epochs. Early stopping.\n"
     ]
    },
    {
     "name": "stderr",
     "output_type": "stream",
     "text": [
      "\u001b[32m[I 2022-02-25 00:09:00,319]\u001b[0m Trial 33 finished with value: 87.98076923076923 and parameters: {'batch_size': 16, 'lr': 0.0004942503853297783, 'weight_decay': 4.053461879254152e-05, 'optimizer': 'optim.Adam', 'activation': 'nn.ReLU', 'loss_criterion': 'nn.CrossEntropyLoss', 'num_layers': 7}. Best is trial 21 with value: 88.67924528301887.\u001b[0m\n"
     ]
    },
    {
     "name": "stdout",
     "output_type": "stream",
     "text": [
      "Patience reached, no improvements for 15 epochs. Early stopping.\n"
     ]
    },
    {
     "name": "stderr",
     "output_type": "stream",
     "text": [
      "\u001b[32m[I 2022-02-25 00:09:19,057]\u001b[0m Trial 34 finished with value: 88.67924528301887 and parameters: {'batch_size': 4, 'lr': 0.003038538698479707, 'weight_decay': 7.593459468281975e-05, 'optimizer': 'optim.SGD', 'activation': 'nn.ReLU', 'loss_criterion': 'nn.CrossEntropyLoss', 'num_layers': 7}. Best is trial 21 with value: 88.67924528301887.\u001b[0m\n"
     ]
    },
    {
     "name": "stdout",
     "output_type": "stream",
     "text": [
      "Finished Training\n"
     ]
    },
    {
     "name": "stderr",
     "output_type": "stream",
     "text": [
      "\u001b[32m[I 2022-02-25 00:09:23,572]\u001b[0m Trial 35 finished with value: 85.09615384615384 and parameters: {'batch_size': 16, 'lr': 0.0032937102595903918, 'weight_decay': 7.298403613912907e-05, 'optimizer': 'optim.Adam', 'activation': 'nn.ReLU', 'loss_criterion': 'nn.CrossEntropyLoss', 'num_layers': 7}. Best is trial 21 with value: 88.67924528301887.\u001b[0m\n"
     ]
    },
    {
     "name": "stdout",
     "output_type": "stream",
     "text": [
      "Patience reached, no improvements for 15 epochs. Early stopping.\n"
     ]
    },
    {
     "name": "stderr",
     "output_type": "stream",
     "text": [
      "\u001b[32m[I 2022-02-25 00:09:30,794]\u001b[0m Trial 36 finished with value: 87.73584905660377 and parameters: {'batch_size': 4, 'lr': 0.0051350526964992526, 'weight_decay': 0.00012299531578113424, 'optimizer': 'optim.SGD', 'activation': 'nn.ReLU', 'loss_criterion': 'nn.CrossEntropyLoss', 'num_layers': 5}. Best is trial 21 with value: 88.67924528301887.\u001b[0m\n"
     ]
    },
    {
     "name": "stdout",
     "output_type": "stream",
     "text": [
      "Patience reached, no improvements for 15 epochs. Early stopping.\n"
     ]
    },
    {
     "name": "stderr",
     "output_type": "stream",
     "text": [
      "\u001b[32m[I 2022-02-25 00:10:12,005]\u001b[0m Trial 37 finished with value: 83.52941176470588 and parameters: {'batch_size': 1, 'lr': 0.0002686405927530406, 'weight_decay': 3.8174024510012784e-05, 'optimizer': 'optim.RMSprop', 'activation': 'nn.ReLU', 'loss_criterion': 'nn.CrossEntropyLoss', 'num_layers': 3}. Best is trial 21 with value: 88.67924528301887.\u001b[0m\n"
     ]
    },
    {
     "name": "stdout",
     "output_type": "stream",
     "text": [
      "Patience reached, no improvements for 15 epochs. Early stopping.\n"
     ]
    },
    {
     "name": "stderr",
     "output_type": "stream",
     "text": [
      "\u001b[32m[I 2022-02-25 00:10:17,469]\u001b[0m Trial 38 finished with value: 79.08653846153847 and parameters: {'batch_size': 16, 'lr': 0.01670488414142936, 'weight_decay': 6.223449681059664e-05, 'optimizer': 'optim.Adam', 'activation': 'nn.ReLU', 'loss_criterion': 'nn.CrossEntropyLoss', 'num_layers': 7}. Best is trial 21 with value: 88.67924528301887.\u001b[0m\n"
     ]
    },
    {
     "name": "stdout",
     "output_type": "stream",
     "text": [
      "Patience reached, no improvements for 15 epochs. Early stopping.\n"
     ]
    },
    {
     "name": "stderr",
     "output_type": "stream",
     "text": [
      "\u001b[32m[I 2022-02-25 00:10:27,529]\u001b[0m Trial 39 finished with value: 86.32075471698113 and parameters: {'batch_size': 4, 'lr': 0.0027067675678639704, 'weight_decay': 8.313691111146106e-05, 'optimizer': 'optim.SGD', 'activation': 'nn.PReLU', 'loss_criterion': 'nn.CrossEntropyLoss', 'num_layers': 5}. Best is trial 21 with value: 88.67924528301887.\u001b[0m\n"
     ]
    },
    {
     "name": "stdout",
     "output_type": "stream",
     "text": [
      "Patience reached, no improvements for 15 epochs. Early stopping.\n"
     ]
    },
    {
     "name": "stderr",
     "output_type": "stream",
     "text": [
      "\u001b[32m[I 2022-02-25 00:11:35,039]\u001b[0m Trial 40 finished with value: 85.6470588235294 and parameters: {'batch_size': 1, 'lr': 0.0007907537014577912, 'weight_decay': 0.00010492544638315105, 'optimizer': 'optim.RMSprop', 'activation': 'nn.Tanh', 'loss_criterion': 'nn.CrossEntropyLoss', 'num_layers': 7}. Best is trial 21 with value: 88.67924528301887.\u001b[0m\n"
     ]
    },
    {
     "name": "stdout",
     "output_type": "stream",
     "text": [
      "Patience reached, no improvements for 15 epochs. Early stopping.\n"
     ]
    },
    {
     "name": "stderr",
     "output_type": "stream",
     "text": [
      "\u001b[32m[I 2022-02-25 00:11:57,604]\u001b[0m Trial 41 finished with value: 86.79245283018868 and parameters: {'batch_size': 4, 'lr': 0.0013263873861064682, 'weight_decay': 0.0003062444350279587, 'optimizer': 'optim.SGD', 'activation': 'nn.ReLU', 'loss_criterion': 'nn.CrossEntropyLoss', 'num_layers': 7}. Best is trial 21 with value: 88.67924528301887.\u001b[0m\n"
     ]
    },
    {
     "name": "stdout",
     "output_type": "stream",
     "text": [
      "Finished Training\n"
     ]
    },
    {
     "name": "stderr",
     "output_type": "stream",
     "text": [
      "\u001b[32m[I 2022-02-25 00:12:06,173]\u001b[0m Trial 42 finished with value: 79.00943396226415 and parameters: {'batch_size': 4, 'lr': 0.00403235848265021, 'weight_decay': 0.00015880375265160492, 'optimizer': 'optim.SGD', 'activation': 'nn.Sigmoid', 'loss_criterion': 'nn.CrossEntropyLoss', 'num_layers': 7}. Best is trial 21 with value: 88.67924528301887.\u001b[0m\n"
     ]
    },
    {
     "name": "stdout",
     "output_type": "stream",
     "text": [
      "Patience reached, no improvements for 15 epochs. Early stopping.\n"
     ]
    },
    {
     "name": "stderr",
     "output_type": "stream",
     "text": [
      "\u001b[32m[I 2022-02-25 00:12:14,414]\u001b[0m Trial 43 finished with value: 86.55660377358491 and parameters: {'batch_size': 4, 'lr': 0.00793483990694248, 'weight_decay': 8.836313245776324e-05, 'optimizer': 'optim.SGD', 'activation': 'nn.ReLU', 'loss_criterion': 'nn.CrossEntropyLoss', 'num_layers': 7}. Best is trial 21 with value: 88.67924528301887.\u001b[0m\n"
     ]
    },
    {
     "name": "stdout",
     "output_type": "stream",
     "text": [
      "Patience reached, no improvements for 15 epochs. Early stopping.\n"
     ]
    },
    {
     "name": "stderr",
     "output_type": "stream",
     "text": [
      "\u001b[32m[I 2022-02-25 00:12:16,830]\u001b[0m Trial 44 finished with value: 86.97916666666667 and parameters: {'batch_size': 64, 'lr': 0.0017272672703890718, 'weight_decay': 6.10571367820862e-05, 'optimizer': 'optim.SGD', 'activation': 'nn.PReLU', 'loss_criterion': 'nn.CrossEntropyLoss', 'num_layers': 7}. Best is trial 21 with value: 88.67924528301887.\u001b[0m\n"
     ]
    },
    {
     "name": "stdout",
     "output_type": "stream",
     "text": [
      "Patience reached, no improvements for 15 epochs. Early stopping.\n"
     ]
    },
    {
     "name": "stderr",
     "output_type": "stream",
     "text": [
      "\u001b[32m[I 2022-02-25 00:12:27,542]\u001b[0m Trial 45 finished with value: 86.32075471698113 and parameters: {'batch_size': 4, 'lr': 0.0005250724274974154, 'weight_decay': 0.0006409730341649012, 'optimizer': 'optim.SGD', 'activation': 'nn.Tanh', 'loss_criterion': 'nn.CrossEntropyLoss', 'num_layers': 3}. Best is trial 21 with value: 88.67924528301887.\u001b[0m\n"
     ]
    },
    {
     "name": "stdout",
     "output_type": "stream",
     "text": [
      "Patience reached, no improvements for 15 epochs. Early stopping.\n"
     ]
    },
    {
     "name": "stderr",
     "output_type": "stream",
     "text": [
      "\u001b[32m[I 2022-02-25 00:12:35,391]\u001b[0m Trial 46 finished with value: 88.22115384615384 and parameters: {'batch_size': 16, 'lr': 0.0009273866166640925, 'weight_decay': 0.00024192574236736025, 'optimizer': 'optim.SGD', 'activation': 'nn.ReLU', 'loss_criterion': 'nn.CrossEntropyLoss', 'num_layers': 7}. Best is trial 21 with value: 88.67924528301887.\u001b[0m\n"
     ]
    },
    {
     "name": "stdout",
     "output_type": "stream",
     "text": [
      "Finished Training\n"
     ]
    },
    {
     "name": "stderr",
     "output_type": "stream",
     "text": [
      "\u001b[32m[I 2022-02-25 00:12:47,553]\u001b[0m Trial 47 finished with value: 87.5 and parameters: {'batch_size': 4, 'lr': 0.0026968662864195947, 'weight_decay': 3.222664251071584e-05, 'optimizer': 'optim.RMSprop', 'activation': 'nn.ReLU', 'loss_criterion': 'nn.CrossEntropyLoss', 'num_layers': 5}. Best is trial 21 with value: 88.67924528301887.\u001b[0m\n"
     ]
    },
    {
     "name": "stdout",
     "output_type": "stream",
     "text": [
      "Patience reached, no improvements for 15 epochs. Early stopping.\n"
     ]
    },
    {
     "name": "stderr",
     "output_type": "stream",
     "text": [
      "\u001b[32m[I 2022-02-25 00:13:57,282]\u001b[0m Trial 48 finished with value: 86.82352941176471 and parameters: {'batch_size': 1, 'lr': 0.0012895242688121613, 'weight_decay': 1.5095118645771248e-05, 'optimizer': 'optim.Adagrad', 'activation': 'nn.PReLU', 'loss_criterion': 'nn.CrossEntropyLoss', 'num_layers': 7}. Best is trial 21 with value: 88.67924528301887.\u001b[0m\n"
     ]
    },
    {
     "name": "stdout",
     "output_type": "stream",
     "text": [
      "Patience reached, no improvements for 15 epochs. Early stopping.\n"
     ]
    },
    {
     "name": "stderr",
     "output_type": "stream",
     "text": [
      "\u001b[32m[I 2022-02-25 00:14:25,830]\u001b[0m Trial 49 finished with value: 88.20754716981132 and parameters: {'batch_size': 4, 'lr': 0.00032668573189978476, 'weight_decay': 0.00017599623150573246, 'optimizer': 'optim.Adam', 'activation': 'nn.ReLU', 'loss_criterion': 'nn.CrossEntropyLoss', 'num_layers': 7}. Best is trial 21 with value: 88.67924528301887.\u001b[0m\n"
     ]
    },
    {
     "name": "stdout",
     "output_type": "stream",
     "text": [
      "Patience reached, no improvements for 15 epochs. Early stopping.\n"
     ]
    },
    {
     "name": "stderr",
     "output_type": "stream",
     "text": [
      "\u001b[32m[I 2022-02-25 00:14:26,438]\u001b[0m Trial 50 finished with value: 78.515625 and parameters: {'batch_size': 256, 'lr': 0.0005557625421747948, 'weight_decay': 0.00011845609581915393, 'optimizer': 'optim.SGD', 'activation': 'nn.Tanh', 'loss_criterion': 'nn.CrossEntropyLoss', 'num_layers': 7}. Best is trial 21 with value: 88.67924528301887.\u001b[0m\n"
     ]
    },
    {
     "name": "stdout",
     "output_type": "stream",
     "text": [
      "Patience reached, no improvements for 15 epochs. Early stopping.\n"
     ]
    },
    {
     "name": "stderr",
     "output_type": "stream",
     "text": [
      "\u001b[32m[I 2022-02-25 00:14:32,756]\u001b[0m Trial 51 finished with value: 88.70192307692308 and parameters: {'batch_size': 16, 'lr': 0.0008632163969209217, 'weight_decay': 0.000309988244631267, 'optimizer': 'optim.SGD', 'activation': 'nn.ReLU', 'loss_criterion': 'nn.CrossEntropyLoss', 'num_layers': 7}. Best is trial 51 with value: 88.70192307692308.\u001b[0m\n"
     ]
    },
    {
     "name": "stdout",
     "output_type": "stream",
     "text": [
      "Finished Training\n"
     ]
    },
    {
     "name": "stderr",
     "output_type": "stream",
     "text": [
      "\u001b[32m[I 2022-02-25 00:14:37,778]\u001b[0m Trial 52 finished with value: 87.01923076923077 and parameters: {'batch_size': 16, 'lr': 0.000714722056899267, 'weight_decay': 0.0006181712761967128, 'optimizer': 'optim.SGD', 'activation': 'nn.ReLU', 'loss_criterion': 'nn.CrossEntropyLoss', 'num_layers': 7}. Best is trial 51 with value: 88.70192307692308.\u001b[0m\n"
     ]
    },
    {
     "name": "stdout",
     "output_type": "stream",
     "text": [
      "Finished Training\n"
     ]
    },
    {
     "name": "stderr",
     "output_type": "stream",
     "text": [
      "\u001b[32m[I 2022-02-25 00:14:42,361]\u001b[0m Trial 53 finished with value: 86.77884615384616 and parameters: {'batch_size': 16, 'lr': 0.0015604729237781055, 'weight_decay': 0.0003474246785443569, 'optimizer': 'optim.SGD', 'activation': 'nn.ReLU', 'loss_criterion': 'nn.CrossEntropyLoss', 'num_layers': 7}. Best is trial 51 with value: 88.70192307692308.\u001b[0m\n"
     ]
    },
    {
     "name": "stdout",
     "output_type": "stream",
     "text": [
      "Patience reached, no improvements for 15 epochs. Early stopping.\n"
     ]
    },
    {
     "name": "stderr",
     "output_type": "stream",
     "text": [
      "\u001b[32m[I 2022-02-25 00:14:44,411]\u001b[0m Trial 54 finished with value: 86.53846153846153 and parameters: {'batch_size': 16, 'lr': 0.00215899298636504, 'weight_decay': 5.196975349295552e-05, 'optimizer': 'optim.SGD', 'activation': 'nn.LeakyReLU', 'loss_criterion': 'nn.CrossEntropyLoss', 'num_layers': 7}. Best is trial 51 with value: 88.70192307692308.\u001b[0m\n"
     ]
    },
    {
     "name": "stdout",
     "output_type": "stream",
     "text": [
      "Patience reached, no improvements for 15 epochs. Early stopping.\n"
     ]
    },
    {
     "name": "stderr",
     "output_type": "stream",
     "text": [
      "\u001b[32m[I 2022-02-25 00:14:48,176]\u001b[0m Trial 55 finished with value: 86.29807692307692 and parameters: {'batch_size': 16, 'lr': 0.0004331812662074856, 'weight_decay': 0.00028270845460434414, 'optimizer': 'optim.SGD', 'activation': 'nn.ReLU', 'loss_criterion': 'nn.CrossEntropyLoss', 'num_layers': 7}. Best is trial 51 with value: 88.70192307692308.\u001b[0m\n"
     ]
    },
    {
     "name": "stdout",
     "output_type": "stream",
     "text": [
      "Patience reached, no improvements for 15 epochs. Early stopping.\n"
     ]
    },
    {
     "name": "stderr",
     "output_type": "stream",
     "text": [
      "\u001b[32m[I 2022-02-25 00:15:14,139]\u001b[0m Trial 56 finished with value: 88.20754716981132 and parameters: {'batch_size': 4, 'lr': 0.0008031446197553063, 'weight_decay': 0.0004060036366229908, 'optimizer': 'optim.Adagrad', 'activation': 'nn.LeakyReLU', 'loss_criterion': 'nn.CrossEntropyLoss', 'num_layers': 7}. Best is trial 51 with value: 88.70192307692308.\u001b[0m\n"
     ]
    },
    {
     "name": "stdout",
     "output_type": "stream",
     "text": [
      "Finished Training\n"
     ]
    },
    {
     "name": "stderr",
     "output_type": "stream",
     "text": [
      "\u001b[32m[I 2022-02-25 00:15:15,140]\u001b[0m Trial 57 finished with value: 86.45833333333333 and parameters: {'batch_size': 64, 'lr': 0.00015067893461731405, 'weight_decay': 0.0005339797913764702, 'optimizer': 'optim.SGD', 'activation': 'nn.ReLU', 'loss_criterion': 'nn.CrossEntropyLoss', 'num_layers': 3}. Best is trial 51 with value: 88.70192307692308.\u001b[0m\n"
     ]
    },
    {
     "name": "stdout",
     "output_type": "stream",
     "text": [
      "Patience reached, no improvements for 15 epochs. Early stopping.\n"
     ]
    },
    {
     "name": "stderr",
     "output_type": "stream",
     "text": [
      "\u001b[32m[I 2022-02-25 00:15:23,149]\u001b[0m Trial 58 finished with value: 79.00943396226415 and parameters: {'batch_size': 4, 'lr': 0.001245716683987975, 'weight_decay': 0.00021214487611655254, 'optimizer': 'optim.SGD', 'activation': 'nn.Sigmoid', 'loss_criterion': 'nn.CrossEntropyLoss', 'num_layers': 7}. Best is trial 51 with value: 88.70192307692308.\u001b[0m\n"
     ]
    },
    {
     "name": "stdout",
     "output_type": "stream",
     "text": [
      "Patience reached, no improvements for 15 epochs. Early stopping.\n"
     ]
    },
    {
     "name": "stderr",
     "output_type": "stream",
     "text": [
      "\u001b[32m[I 2022-02-25 00:15:28,073]\u001b[0m Trial 59 finished with value: 88.46153846153847 and parameters: {'batch_size': 16, 'lr': 0.0040241147886132325, 'weight_decay': 4.598276275273907e-05, 'optimizer': 'optim.SGD', 'activation': 'nn.ReLU', 'loss_criterion': 'nn.CrossEntropyLoss', 'num_layers': 7}. Best is trial 51 with value: 88.70192307692308.\u001b[0m\n"
     ]
    },
    {
     "name": "stdout",
     "output_type": "stream",
     "text": [
      "Patience reached, no improvements for 15 epochs. Early stopping.\n"
     ]
    },
    {
     "name": "stderr",
     "output_type": "stream",
     "text": [
      "\u001b[32m[I 2022-02-25 00:15:34,108]\u001b[0m Trial 60 finished with value: 84.375 and parameters: {'batch_size': 16, 'lr': 0.004141348592906634, 'weight_decay': 4.090937617437317e-05, 'optimizer': 'optim.RMSprop', 'activation': 'nn.ReLU', 'loss_criterion': 'nn.CrossEntropyLoss', 'num_layers': 7}. Best is trial 51 with value: 88.70192307692308.\u001b[0m\n"
     ]
    },
    {
     "name": "stdout",
     "output_type": "stream",
     "text": [
      "Patience reached, no improvements for 15 epochs. Early stopping.\n"
     ]
    },
    {
     "name": "stderr",
     "output_type": "stream",
     "text": [
      "\u001b[32m[I 2022-02-25 00:15:37,213]\u001b[0m Trial 61 finished with value: 87.98076923076923 and parameters: {'batch_size': 16, 'lr': 0.006366987807191596, 'weight_decay': 6.407979303904031e-05, 'optimizer': 'optim.SGD', 'activation': 'nn.ReLU', 'loss_criterion': 'nn.CrossEntropyLoss', 'num_layers': 7}. Best is trial 51 with value: 88.70192307692308.\u001b[0m\n"
     ]
    },
    {
     "name": "stdout",
     "output_type": "stream",
     "text": [
      "Patience reached, no improvements for 15 epochs. Early stopping.\n"
     ]
    },
    {
     "name": "stderr",
     "output_type": "stream",
     "text": [
      "\u001b[32m[I 2022-02-25 00:15:40,048]\u001b[0m Trial 62 finished with value: 87.98076923076923 and parameters: {'batch_size': 16, 'lr': 0.001955234816431141, 'weight_decay': 4.740561774896543e-05, 'optimizer': 'optim.SGD', 'activation': 'nn.ReLU', 'loss_criterion': 'nn.CrossEntropyLoss', 'num_layers': 7}. Best is trial 51 with value: 88.70192307692308.\u001b[0m\n"
     ]
    },
    {
     "name": "stdout",
     "output_type": "stream",
     "text": [
      "Patience reached, no improvements for 15 epochs. Early stopping.\n"
     ]
    },
    {
     "name": "stderr",
     "output_type": "stream",
     "text": [
      "\u001b[32m[I 2022-02-25 00:15:45,332]\u001b[0m Trial 63 finished with value: 88.9423076923077 and parameters: {'batch_size': 16, 'lr': 0.002998201721534034, 'weight_decay': 2.6045708823841885e-05, 'optimizer': 'optim.SGD', 'activation': 'nn.LeakyReLU', 'loss_criterion': 'nn.CrossEntropyLoss', 'num_layers': 7}. Best is trial 63 with value: 88.9423076923077.\u001b[0m\n"
     ]
    },
    {
     "name": "stdout",
     "output_type": "stream",
     "text": [
      "Finished Training\n"
     ]
    },
    {
     "name": "stderr",
     "output_type": "stream",
     "text": [
      "\u001b[32m[I 2022-02-25 00:15:50,388]\u001b[0m Trial 64 finished with value: 86.77884615384616 and parameters: {'batch_size': 16, 'lr': 0.012621628947363392, 'weight_decay': 2.522246863765397e-05, 'optimizer': 'optim.SGD', 'activation': 'nn.ReLU', 'loss_criterion': 'nn.CrossEntropyLoss', 'num_layers': 7}. Best is trial 63 with value: 88.9423076923077.\u001b[0m\n"
     ]
    },
    {
     "name": "stdout",
     "output_type": "stream",
     "text": [
      "Patience reached, no improvements for 15 epochs. Early stopping.\n"
     ]
    },
    {
     "name": "stderr",
     "output_type": "stream",
     "text": [
      "\u001b[32m[I 2022-02-25 00:15:55,126]\u001b[0m Trial 65 finished with value: 87.74038461538461 and parameters: {'batch_size': 16, 'lr': 0.0030005843827358293, 'weight_decay': 1.8061465061721997e-05, 'optimizer': 'optim.SGD', 'activation': 'nn.ReLU', 'loss_criterion': 'nn.CrossEntropyLoss', 'num_layers': 7}. Best is trial 63 with value: 88.9423076923077.\u001b[0m\n"
     ]
    },
    {
     "name": "stdout",
     "output_type": "stream",
     "text": [
      "Finished Training\n"
     ]
    },
    {
     "name": "stderr",
     "output_type": "stream",
     "text": [
      "\u001b[32m[I 2022-02-25 00:15:58,386]\u001b[0m Trial 66 finished with value: 87.25961538461539 and parameters: {'batch_size': 16, 'lr': 0.003742298229770812, 'weight_decay': 9.260748387031114e-05, 'optimizer': 'optim.Adam', 'activation': 'nn.LeakyReLU', 'loss_criterion': 'nn.CrossEntropyLoss', 'num_layers': 7}. Best is trial 63 with value: 88.9423076923077.\u001b[0m\n"
     ]
    },
    {
     "name": "stdout",
     "output_type": "stream",
     "text": [
      "Patience reached, no improvements for 15 epochs. Early stopping.\n"
     ]
    },
    {
     "name": "stderr",
     "output_type": "stream",
     "text": [
      "\u001b[32m[I 2022-02-25 00:15:59,075]\u001b[0m Trial 67 finished with value: 82.8125 and parameters: {'batch_size': 256, 'lr': 0.00234076324623003, 'weight_decay': 3.2638710697016335e-05, 'optimizer': 'optim.SGD', 'activation': 'nn.ReLU', 'loss_criterion': 'nn.CrossEntropyLoss', 'num_layers': 5}. Best is trial 63 with value: 88.9423076923077.\u001b[0m\n"
     ]
    },
    {
     "name": "stdout",
     "output_type": "stream",
     "text": [
      "Patience reached, no improvements for 15 epochs. Early stopping.\n"
     ]
    },
    {
     "name": "stderr",
     "output_type": "stream",
     "text": [
      "\u001b[32m[I 2022-02-25 00:16:05,656]\u001b[0m Trial 68 finished with value: 86.77884615384616 and parameters: {'batch_size': 16, 'lr': 0.0018444641176201735, 'weight_decay': 2.50211094638204e-05, 'optimizer': 'optim.Adagrad', 'activation': 'nn.ReLU', 'loss_criterion': 'nn.CrossEntropyLoss', 'num_layers': 7}. Best is trial 63 with value: 88.9423076923077.\u001b[0m\n"
     ]
    },
    {
     "name": "stdout",
     "output_type": "stream",
     "text": [
      "Patience reached, no improvements for 15 epochs. Early stopping.\n"
     ]
    },
    {
     "name": "stderr",
     "output_type": "stream",
     "text": [
      "\u001b[32m[I 2022-02-25 00:16:11,966]\u001b[0m Trial 69 finished with value: 88.46153846153847 and parameters: {'batch_size': 16, 'lr': 0.005713266315019513, 'weight_decay': 5.2861161482832966e-05, 'optimizer': 'optim.SGD', 'activation': 'nn.PReLU', 'loss_criterion': 'nn.CrossEntropyLoss', 'num_layers': 7}. Best is trial 63 with value: 88.9423076923077.\u001b[0m\n"
     ]
    },
    {
     "name": "stdout",
     "output_type": "stream",
     "text": [
      "Patience reached, no improvements for 15 epochs. Early stopping.\n"
     ]
    },
    {
     "name": "stderr",
     "output_type": "stream",
     "text": [
      "\u001b[32m[I 2022-02-25 00:16:14,041]\u001b[0m Trial 70 finished with value: 82.6923076923077 and parameters: {'batch_size': 16, 'lr': 0.006735366791951857, 'weight_decay': 6.874238932006897e-05, 'optimizer': 'optim.Adam', 'activation': 'nn.LeakyReLU', 'loss_criterion': 'nn.CrossEntropyLoss', 'num_layers': 3}. Best is trial 63 with value: 88.9423076923077.\u001b[0m\n"
     ]
    },
    {
     "name": "stdout",
     "output_type": "stream",
     "text": [
      "Patience reached, no improvements for 15 epochs. Early stopping.\n"
     ]
    },
    {
     "name": "stderr",
     "output_type": "stream",
     "text": [
      "\u001b[32m[I 2022-02-25 00:16:19,409]\u001b[0m Trial 71 finished with value: 86.77884615384616 and parameters: {'batch_size': 16, 'lr': 0.010572182420006784, 'weight_decay': 4.86197282179239e-05, 'optimizer': 'optim.SGD', 'activation': 'nn.PReLU', 'loss_criterion': 'nn.CrossEntropyLoss', 'num_layers': 7}. Best is trial 63 with value: 88.9423076923077.\u001b[0m\n"
     ]
    },
    {
     "name": "stdout",
     "output_type": "stream",
     "text": [
      "Patience reached, no improvements for 15 epochs. Early stopping.\n"
     ]
    },
    {
     "name": "stderr",
     "output_type": "stream",
     "text": [
      "\u001b[32m[I 2022-02-25 00:16:24,186]\u001b[0m Trial 72 finished with value: 87.25961538461539 and parameters: {'batch_size': 16, 'lr': 0.0031932474582067, 'weight_decay': 3.639565160761494e-05, 'optimizer': 'optim.SGD', 'activation': 'nn.PReLU', 'loss_criterion': 'nn.CrossEntropyLoss', 'num_layers': 7}. Best is trial 63 with value: 88.9423076923077.\u001b[0m\n"
     ]
    },
    {
     "name": "stdout",
     "output_type": "stream",
     "text": [
      "Patience reached, no improvements for 15 epochs. Early stopping.\n"
     ]
    },
    {
     "name": "stderr",
     "output_type": "stream",
     "text": [
      "\u001b[32m[I 2022-02-25 00:16:26,988]\u001b[0m Trial 73 finished with value: 85.57692307692308 and parameters: {'batch_size': 16, 'lr': 0.0044921664856723935, 'weight_decay': 5.614383388473315e-05, 'optimizer': 'optim.SGD', 'activation': 'nn.PReLU', 'loss_criterion': 'nn.CrossEntropyLoss', 'num_layers': 7}. Best is trial 63 with value: 88.9423076923077.\u001b[0m\n"
     ]
    },
    {
     "name": "stdout",
     "output_type": "stream",
     "text": [
      "Patience reached, no improvements for 15 epochs. Early stopping.\n"
     ]
    },
    {
     "name": "stderr",
     "output_type": "stream",
     "text": [
      "\u001b[32m[I 2022-02-25 00:16:29,197]\u001b[0m Trial 74 finished with value: 79.08653846153847 and parameters: {'batch_size': 16, 'lr': 0.09146633170903942, 'weight_decay': 4.385816610848864e-05, 'optimizer': 'optim.SGD', 'activation': 'nn.PReLU', 'loss_criterion': 'nn.CrossEntropyLoss', 'num_layers': 7}. Best is trial 63 with value: 88.9423076923077.\u001b[0m\n"
     ]
    },
    {
     "name": "stdout",
     "output_type": "stream",
     "text": [
      "Patience reached, no improvements for 15 epochs. Early stopping.\n"
     ]
    },
    {
     "name": "stderr",
     "output_type": "stream",
     "text": [
      "\u001b[32m[I 2022-02-25 00:16:48,055]\u001b[0m Trial 75 finished with value: 79.05882352941177 and parameters: {'batch_size': 1, 'lr': 0.01944696432935565, 'weight_decay': 2.8706709988300003e-05, 'optimizer': 'optim.SGD', 'activation': 'nn.ReLU', 'loss_criterion': 'nn.CrossEntropyLoss', 'num_layers': 7}. Best is trial 63 with value: 88.9423076923077.\u001b[0m\n"
     ]
    },
    {
     "name": "stdout",
     "output_type": "stream",
     "text": [
      "Patience reached, no improvements for 15 epochs. Early stopping.\n"
     ]
    },
    {
     "name": "stderr",
     "output_type": "stream",
     "text": [
      "\u001b[32m[I 2022-02-25 00:16:49,761]\u001b[0m Trial 76 finished with value: 79.08653846153847 and parameters: {'batch_size': 16, 'lr': 0.0015788993084752216, 'weight_decay': 7.96953467038562e-05, 'optimizer': 'optim.SGD', 'activation': 'nn.Sigmoid', 'loss_criterion': 'nn.CrossEntropyLoss', 'num_layers': 7}. Best is trial 63 with value: 88.9423076923077.\u001b[0m\n"
     ]
    },
    {
     "name": "stdout",
     "output_type": "stream",
     "text": [
      "Patience reached, no improvements for 15 epochs. Early stopping.\n"
     ]
    },
    {
     "name": "stderr",
     "output_type": "stream",
     "text": [
      "\u001b[32m[I 2022-02-25 00:16:52,580]\u001b[0m Trial 77 finished with value: 81.25 and parameters: {'batch_size': 16, 'lr': 0.006004289641564575, 'weight_decay': 0.0001165151644197234, 'optimizer': 'optim.SGD', 'activation': 'nn.Tanh', 'loss_criterion': 'nn.CrossEntropyLoss', 'num_layers': 7}. Best is trial 63 with value: 88.9423076923077.\u001b[0m\n"
     ]
    },
    {
     "name": "stdout",
     "output_type": "stream",
     "text": [
      "Patience reached, no improvements for 15 epochs. Early stopping.\n"
     ]
    },
    {
     "name": "stderr",
     "output_type": "stream",
     "text": [
      "\u001b[32m[I 2022-02-25 00:16:54,544]\u001b[0m Trial 78 finished with value: 86.71875 and parameters: {'batch_size': 64, 'lr': 0.0011601907950550682, 'weight_decay': 5.525860644243848e-05, 'optimizer': 'optim.Adam', 'activation': 'nn.ReLU', 'loss_criterion': 'nn.CrossEntropyLoss', 'num_layers': 5}. Best is trial 63 with value: 88.9423076923077.\u001b[0m\n"
     ]
    },
    {
     "name": "stdout",
     "output_type": "stream",
     "text": [
      "Patience reached, no improvements for 15 epochs. Early stopping.\n"
     ]
    },
    {
     "name": "stderr",
     "output_type": "stream",
     "text": [
      "\u001b[32m[I 2022-02-25 00:16:55,555]\u001b[0m Trial 79 finished with value: 85.9375 and parameters: {'batch_size': 256, 'lr': 0.0008731706016082039, 'weight_decay': 4.522732955705219e-05, 'optimizer': 'optim.SGD', 'activation': 'nn.PReLU', 'loss_criterion': 'nn.CrossEntropyLoss', 'num_layers': 7}. Best is trial 63 with value: 88.9423076923077.\u001b[0m\n"
     ]
    },
    {
     "name": "stdout",
     "output_type": "stream",
     "text": [
      "Patience reached, no improvements for 15 epochs. Early stopping.\n"
     ]
    },
    {
     "name": "stderr",
     "output_type": "stream",
     "text": [
      "\u001b[32m[I 2022-02-25 00:17:01,606]\u001b[0m Trial 80 finished with value: 87.25961538461539 and parameters: {'batch_size': 16, 'lr': 0.0006839238354062705, 'weight_decay': 2.1327423887266407e-05, 'optimizer': 'optim.SGD', 'activation': 'nn.ReLU', 'loss_criterion': 'nn.CrossEntropyLoss', 'num_layers': 7}. Best is trial 63 with value: 88.9423076923077.\u001b[0m\n"
     ]
    },
    {
     "name": "stdout",
     "output_type": "stream",
     "text": [
      "Finished Training\n"
     ]
    },
    {
     "name": "stderr",
     "output_type": "stream",
     "text": [
      "\u001b[32m[I 2022-02-25 00:17:18,914]\u001b[0m Trial 81 finished with value: 89.15094339622641 and parameters: {'batch_size': 4, 'lr': 0.0014589308571839224, 'weight_decay': 9.583002028793958e-05, 'optimizer': 'optim.SGD', 'activation': 'nn.LeakyReLU', 'loss_criterion': 'nn.CrossEntropyLoss', 'num_layers': 7}. Best is trial 81 with value: 89.15094339622641.\u001b[0m\n"
     ]
    },
    {
     "name": "stdout",
     "output_type": "stream",
     "text": [
      "Patience reached, no improvements for 15 epochs. Early stopping.\n"
     ]
    },
    {
     "name": "stderr",
     "output_type": "stream",
     "text": [
      "\u001b[32m[I 2022-02-25 00:17:28,048]\u001b[0m Trial 82 finished with value: 79.95283018867924 and parameters: {'batch_size': 4, 'lr': 0.0030400414533528312, 'weight_decay': 9.564630353937163e-05, 'optimizer': 'optim.SGD', 'activation': 'nn.LeakyReLU', 'loss_criterion': 'nn.CrossEntropyLoss', 'num_layers': 7}. Best is trial 81 with value: 89.15094339622641.\u001b[0m\n"
     ]
    },
    {
     "name": "stdout",
     "output_type": "stream",
     "text": [
      "Patience reached, no improvements for 15 epochs. Early stopping.\n"
     ]
    },
    {
     "name": "stderr",
     "output_type": "stream",
     "text": [
      "\u001b[32m[I 2022-02-25 00:17:45,775]\u001b[0m Trial 83 finished with value: 87.5 and parameters: {'batch_size': 4, 'lr': 0.00235243163082754, 'weight_decay': 7.142355009284839e-05, 'optimizer': 'optim.SGD', 'activation': 'nn.LeakyReLU', 'loss_criterion': 'nn.CrossEntropyLoss', 'num_layers': 7}. Best is trial 81 with value: 89.15094339622641.\u001b[0m\n"
     ]
    },
    {
     "name": "stdout",
     "output_type": "stream",
     "text": [
      "Finished Training\n"
     ]
    },
    {
     "name": "stderr",
     "output_type": "stream",
     "text": [
      "\u001b[32m[I 2022-02-25 00:17:54,022]\u001b[0m Trial 84 finished with value: 84.90566037735849 and parameters: {'batch_size': 4, 'lr': 0.0010166620104883608, 'weight_decay': 0.00010332397095096398, 'optimizer': 'optim.SGD', 'activation': 'nn.LeakyReLU', 'loss_criterion': 'nn.CrossEntropyLoss', 'num_layers': 7}. Best is trial 81 with value: 89.15094339622641.\u001b[0m\n"
     ]
    },
    {
     "name": "stdout",
     "output_type": "stream",
     "text": [
      "Patience reached, no improvements for 15 epochs. Early stopping.\n"
     ]
    },
    {
     "name": "stderr",
     "output_type": "stream",
     "text": [
      "\u001b[32m[I 2022-02-25 00:17:57,773]\u001b[0m Trial 85 finished with value: 79.08653846153847 and parameters: {'batch_size': 16, 'lr': 0.04339535531296543, 'weight_decay': 0.00013036128792082773, 'optimizer': 'optim.RMSprop', 'activation': 'nn.LeakyReLU', 'loss_criterion': 'nn.CrossEntropyLoss', 'num_layers': 7}. Best is trial 81 with value: 89.15094339622641.\u001b[0m\n"
     ]
    },
    {
     "name": "stdout",
     "output_type": "stream",
     "text": [
      "Patience reached, no improvements for 15 epochs. Early stopping.\n"
     ]
    },
    {
     "name": "stderr",
     "output_type": "stream",
     "text": [
      "\u001b[32m[I 2022-02-25 00:18:13,043]\u001b[0m Trial 86 finished with value: 89.15094339622641 and parameters: {'batch_size': 4, 'lr': 0.0014996225057390168, 'weight_decay': 8.474877366693818e-05, 'optimizer': 'optim.SGD', 'activation': 'nn.ReLU', 'loss_criterion': 'nn.CrossEntropyLoss', 'num_layers': 7}. Best is trial 81 with value: 89.15094339622641.\u001b[0m\n"
     ]
    },
    {
     "name": "stdout",
     "output_type": "stream",
     "text": [
      "Patience reached, no improvements for 15 epochs. Early stopping.\n"
     ]
    },
    {
     "name": "stderr",
     "output_type": "stream",
     "text": [
      "\u001b[32m[I 2022-02-25 00:18:27,854]\u001b[0m Trial 87 finished with value: 88.91509433962264 and parameters: {'batch_size': 4, 'lr': 0.0006383750282004773, 'weight_decay': 7.859850377991597e-05, 'optimizer': 'optim.SGD', 'activation': 'nn.ReLU', 'loss_criterion': 'nn.CrossEntropyLoss', 'num_layers': 7}. Best is trial 81 with value: 89.15094339622641.\u001b[0m\n"
     ]
    },
    {
     "name": "stdout",
     "output_type": "stream",
     "text": [
      "Patience reached, no improvements for 15 epochs. Early stopping.\n"
     ]
    },
    {
     "name": "stderr",
     "output_type": "stream",
     "text": [
      "\u001b[32m[I 2022-02-25 00:18:36,289]\u001b[0m Trial 88 finished with value: 87.02830188679245 and parameters: {'batch_size': 4, 'lr': 0.0006155945677433657, 'weight_decay': 8.490554358608398e-05, 'optimizer': 'optim.SGD', 'activation': 'nn.LeakyReLU', 'loss_criterion': 'nn.CrossEntropyLoss', 'num_layers': 7}. Best is trial 81 with value: 89.15094339622641.\u001b[0m\n"
     ]
    },
    {
     "name": "stdout",
     "output_type": "stream",
     "text": [
      "Patience reached, no improvements for 15 epochs. Early stopping.\n"
     ]
    },
    {
     "name": "stderr",
     "output_type": "stream",
     "text": [
      "\u001b[32m[I 2022-02-25 00:18:40,822]\u001b[0m Trial 89 finished with value: 51.41509433962264 and parameters: {'batch_size': 4, 'lr': 0.00149104619451972, 'weight_decay': 0.00010489363206475074, 'optimizer': 'optim.SGD', 'activation': 'nn.ReLU', 'loss_criterion': 'nn.CrossEntropyLoss', 'num_layers': 3}. Best is trial 81 with value: 89.15094339622641.\u001b[0m\n"
     ]
    },
    {
     "name": "stdout",
     "output_type": "stream",
     "text": [
      "Patience reached, no improvements for 15 epochs. Early stopping.\n"
     ]
    },
    {
     "name": "stderr",
     "output_type": "stream",
     "text": [
      "\u001b[32m[I 2022-02-25 00:18:58,495]\u001b[0m Trial 90 finished with value: 88.67924528301887 and parameters: {'batch_size': 4, 'lr': 0.00045663263217662556, 'weight_decay': 0.00018377462007806064, 'optimizer': 'optim.SGD', 'activation': 'nn.ReLU', 'loss_criterion': 'nn.CrossEntropyLoss', 'num_layers': 7}. Best is trial 81 with value: 89.15094339622641.\u001b[0m\n"
     ]
    },
    {
     "name": "stdout",
     "output_type": "stream",
     "text": [
      "Patience reached, no improvements for 15 epochs. Early stopping.\n"
     ]
    },
    {
     "name": "stderr",
     "output_type": "stream",
     "text": [
      "\u001b[32m[I 2022-02-25 00:19:11,205]\u001b[0m Trial 91 finished with value: 88.67924528301887 and parameters: {'batch_size': 4, 'lr': 0.0008685007222648033, 'weight_decay': 0.00016737080777112846, 'optimizer': 'optim.SGD', 'activation': 'nn.ReLU', 'loss_criterion': 'nn.CrossEntropyLoss', 'num_layers': 7}. Best is trial 81 with value: 89.15094339622641.\u001b[0m\n"
     ]
    },
    {
     "name": "stdout",
     "output_type": "stream",
     "text": [
      "Patience reached, no improvements for 15 epochs. Early stopping.\n"
     ]
    },
    {
     "name": "stderr",
     "output_type": "stream",
     "text": [
      "\u001b[32m[I 2022-02-25 00:19:23,398]\u001b[0m Trial 92 finished with value: 87.73584905660377 and parameters: {'batch_size': 4, 'lr': 0.00031736626351983776, 'weight_decay': 0.00017360829932266597, 'optimizer': 'optim.SGD', 'activation': 'nn.ReLU', 'loss_criterion': 'nn.CrossEntropyLoss', 'num_layers': 7}. Best is trial 81 with value: 89.15094339622641.\u001b[0m\n"
     ]
    },
    {
     "name": "stdout",
     "output_type": "stream",
     "text": [
      "Patience reached, no improvements for 15 epochs. Early stopping.\n"
     ]
    },
    {
     "name": "stderr",
     "output_type": "stream",
     "text": [
      "\u001b[32m[I 2022-02-25 00:19:42,050]\u001b[0m Trial 93 finished with value: 88.67924528301887 and parameters: {'batch_size': 4, 'lr': 0.0009244844128457178, 'weight_decay': 0.00025112879684228626, 'optimizer': 'optim.SGD', 'activation': 'nn.ReLU', 'loss_criterion': 'nn.CrossEntropyLoss', 'num_layers': 7}. Best is trial 81 with value: 89.15094339622641.\u001b[0m\n"
     ]
    },
    {
     "name": "stdout",
     "output_type": "stream",
     "text": [
      "Patience reached, no improvements for 15 epochs. Early stopping.\n"
     ]
    },
    {
     "name": "stderr",
     "output_type": "stream",
     "text": [
      "\u001b[32m[I 2022-02-25 00:19:57,894]\u001b[0m Trial 94 finished with value: 88.20754716981132 and parameters: {'batch_size': 4, 'lr': 0.0004566394686976575, 'weight_decay': 0.0002576027313539161, 'optimizer': 'optim.SGD', 'activation': 'nn.ReLU', 'loss_criterion': 'nn.CrossEntropyLoss', 'num_layers': 7}. Best is trial 81 with value: 89.15094339622641.\u001b[0m\n"
     ]
    },
    {
     "name": "stdout",
     "output_type": "stream",
     "text": [
      "Patience reached, no improvements for 15 epochs. Early stopping.\n"
     ]
    },
    {
     "name": "stderr",
     "output_type": "stream",
     "text": [
      "\u001b[32m[I 2022-02-25 00:20:12,138]\u001b[0m Trial 95 finished with value: 88.44339622641509 and parameters: {'batch_size': 4, 'lr': 0.000400086899615839, 'weight_decay': 0.00018997775587075802, 'optimizer': 'optim.SGD', 'activation': 'nn.ReLU', 'loss_criterion': 'nn.CrossEntropyLoss', 'num_layers': 7}. Best is trial 81 with value: 89.15094339622641.\u001b[0m\n"
     ]
    },
    {
     "name": "stdout",
     "output_type": "stream",
     "text": [
      "Patience reached, no improvements for 15 epochs. Early stopping.\n"
     ]
    },
    {
     "name": "stderr",
     "output_type": "stream",
     "text": [
      "\u001b[32m[I 2022-02-25 00:20:41,978]\u001b[0m Trial 96 finished with value: 87.5 and parameters: {'batch_size': 4, 'lr': 0.0006286364739618342, 'weight_decay': 0.00031117945216496413, 'optimizer': 'optim.SGD', 'activation': 'nn.ReLU', 'loss_criterion': 'nn.CrossEntropyLoss', 'num_layers': 7}. Best is trial 81 with value: 89.15094339622641.\u001b[0m\n"
     ]
    },
    {
     "name": "stdout",
     "output_type": "stream",
     "text": [
      "Finished Training\n"
     ]
    },
    {
     "name": "stderr",
     "output_type": "stream",
     "text": [
      "\u001b[32m[I 2022-02-25 00:21:00,671]\u001b[0m Trial 97 finished with value: 88.20754716981132 and parameters: {'batch_size': 4, 'lr': 0.0008895017236752518, 'weight_decay': 1.0196751728914653e-05, 'optimizer': 'optim.Adagrad', 'activation': 'nn.ReLU', 'loss_criterion': 'nn.CrossEntropyLoss', 'num_layers': 7}. Best is trial 81 with value: 89.15094339622641.\u001b[0m\n"
     ]
    },
    {
     "name": "stdout",
     "output_type": "stream",
     "text": [
      "Patience reached, no improvements for 15 epochs. Early stopping.\n"
     ]
    },
    {
     "name": "stderr",
     "output_type": "stream",
     "text": [
      "\u001b[32m[I 2022-02-25 00:21:07,061]\u001b[0m Trial 98 finished with value: 76.65094339622641 and parameters: {'batch_size': 4, 'lr': 0.0007779455511116452, 'weight_decay': 0.0002316421554427953, 'optimizer': 'optim.SGD', 'activation': 'nn.ReLU', 'loss_criterion': 'nn.CrossEntropyLoss', 'num_layers': 5}. Best is trial 81 with value: 89.15094339622641.\u001b[0m\n"
     ]
    },
    {
     "name": "stdout",
     "output_type": "stream",
     "text": [
      "Patience reached, no improvements for 15 epochs. Early stopping.\n"
     ]
    },
    {
     "name": "stderr",
     "output_type": "stream",
     "text": [
      "\u001b[32m[I 2022-02-25 00:21:24,439]\u001b[0m Trial 99 finished with value: 87.26415094339623 and parameters: {'batch_size': 4, 'lr': 0.0016675086771044297, 'weight_decay': 0.00012932487695927332, 'optimizer': 'optim.SGD', 'activation': 'nn.ReLU', 'loss_criterion': 'nn.CrossEntropyLoss', 'num_layers': 7}. Best is trial 81 with value: 89.15094339622641.\u001b[0m\n"
     ]
    },
    {
     "name": "stdout",
     "output_type": "stream",
     "text": [
      "Finished Training\n"
     ]
    }
   ],
   "source": [
    "def objective(trial):\n",
    "    hyperparam = Hyperparam(\n",
    "        batch_size=trial.suggest_categorical(\"batch_size\", [1, 4, 16, 64, 256]),\n",
    "        lr=trial.suggest_loguniform(\"lr\", 1e-4, 1e-1),\n",
    "        weight_decay=trial.suggest_loguniform(\"weight_decay\", 1e-5, 1e-3),\n",
    "        optimizer=trial.suggest_categorical(\"optimizer\", list(optimizer_dict.keys())),\n",
    "        activation=trial.suggest_categorical(\"activation\", list(activation_dict.keys())),\n",
    "        loss_criterion=trial.suggest_categorical(\"loss_criterion\", list(loss_criterion_dict.keys())),\n",
    "        num_layers=trial.suggest_categorical(\"num_layers\", [3, 5, 7])\n",
    "    )\n",
    "    _, _, val_accuracies = train(\n",
    "        model=FullyConnected(train_X.shape[1], len(np.unique(y)),\n",
    "                             activation=hyperparam.activation, num_layers=hyperparam.num_layers),\n",
    "        trainset=train_dataset,\n",
    "        testset=val_dataset,\n",
    "        loss_criterion=hyperparam.loss_criterion,\n",
    "        lr=hyperparam.lr,\n",
    "        batch_size=hyperparam.batch_size,\n",
    "        optimizer=hyperparam.optimizer\n",
    "    )\n",
    "    return val_accuracies[-1]\n",
    "\n",
    "study = optuna.create_study(direction='maximize')\n",
    "study.optimize(objective, n_trials=100)"
   ]
  },
  {
   "cell_type": "code",
   "execution_count": 83,
   "id": "b1e46e34",
   "metadata": {},
   "outputs": [
    {
     "name": "stdout",
     "output_type": "stream",
     "text": [
      "Best hyperparameters are: {'batch_size': 4, 'lr': 0.0014589308571839224, 'weight_decay': 9.583002028793958e-05, 'optimizer': 'optim.SGD', 'activation': 'nn.LeakyReLU', 'loss_criterion': 'nn.CrossEntropyLoss', 'num_layers': 7}\n",
      "Best validation accuracy is: 89.15094339622641\n"
     ]
    }
   ],
   "source": [
    "print(\"Best hyperparameters are:\", study.best_params)\n",
    "print(\"Best validation accuracy is:\", study.best_value)\n"
   ]
  },
  {
   "cell_type": "code",
   "execution_count": null,
   "id": "60440232",
   "metadata": {},
   "outputs": [],
   "source": []
  }
 ],
 "metadata": {
  "kernelspec": {
   "display_name": "Python 3 (ipykernel)",
   "language": "python",
   "name": "python3"
  },
  "language_info": {
   "codemirror_mode": {
    "name": "ipython",
    "version": 3
   },
   "file_extension": ".py",
   "mimetype": "text/x-python",
   "name": "python",
   "nbconvert_exporter": "python",
   "pygments_lexer": "ipython3",
   "version": "3.9.2"
  }
 },
 "nbformat": 4,
 "nbformat_minor": 5
}
