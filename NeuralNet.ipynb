{
 "cells": [
  {
   "cell_type": "markdown",
   "id": "1d1c75b4",
   "metadata": {},
   "source": [
    "# Neural Networks"
   ]
  },
  {
   "cell_type": "code",
   "execution_count": 1,
   "id": "7e00e7a0",
   "metadata": {},
   "outputs": [],
   "source": [
    "import optuna\n",
    "from neural_network import NeuralNetworkHyperparam, FullyConnected, TabularDataset, train, optimizer_dict, activation_dict, loss_criterion_dict\n",
    "from data import get_data"
   ]
  },
  {
   "cell_type": "code",
   "execution_count": 2,
   "id": "4b179c67",
   "metadata": {},
   "outputs": [],
   "source": [
    "train_X, train_y, val_X, val_y, test_X, test_y = get_data()\n",
    "train_dataset = TabularDataset(train_X, train_y)\n",
    "val_dataset = TabularDataset(val_X, val_y)"
   ]
  },
  {
   "cell_type": "code",
   "execution_count": 3,
   "id": "715c6f3b",
   "metadata": {},
   "outputs": [
    {
     "name": "stdout",
     "output_type": "stream",
     "text": [
      "Optimizers ['optim.Adam', 'optim.SGD', 'optim.Adagrad', 'optim.RMSprop']\n",
      "Activation functions ['nn.PReLU', 'nn.ReLU', 'nn.LeakyReLU', 'nn.Tanh', 'nn.Sigmoid']\n",
      "Loss Criteria ['nn.CrossEntropyLoss']\n"
     ]
    }
   ],
   "source": [
    "print(\"Optimizers\", list(optimizer_dict.keys()))\n",
    "print(\"Activation functions\", list(activation_dict.keys()))\n",
    "print(\"Loss Criteria\", list(loss_criterion_dict.keys()))\n"
   ]
  },
  {
   "cell_type": "code",
   "execution_count": 4,
   "id": "0ef6e1fd",
   "metadata": {},
   "outputs": [
    {
     "name": "stderr",
     "output_type": "stream",
     "text": [
      "\u001b[32m[I 2022-03-08 23:21:11,692]\u001b[0m A new study created in memory with name: no-name-64be1127-fc78-4a99-a8cf-ea8118b47f28\u001b[0m\n",
      "\u001b[32m[I 2022-03-08 23:21:12,440]\u001b[0m Trial 0 finished with value: 79.05882352941177 and parameters: {'batch_size': 64, 'lr': 0.044769565819776765, 'weight_decay': 0.000325914361148099, 'optimizer': 'optim.Adam', 'activation': 'nn.ReLU', 'loss_criterion': 'nn.CrossEntropyLoss', 'num_layers': 5}. Best is trial 0 with value: 79.05882352941177.\u001b[0m\n",
      "\u001b[32m[I 2022-03-08 23:21:17,727]\u001b[0m Trial 1 finished with value: 79.05882352941177 and parameters: {'batch_size': 4, 'lr': 0.014698543163794339, 'weight_decay': 0.0005606929700251063, 'optimizer': 'optim.SGD', 'activation': 'nn.ReLU', 'loss_criterion': 'nn.CrossEntropyLoss', 'num_layers': 5}. Best is trial 0 with value: 79.05882352941177.\u001b[0m\n",
      "\u001b[32m[I 2022-03-08 23:21:19,167]\u001b[0m Trial 2 finished with value: 86.82352941176471 and parameters: {'batch_size': 256, 'lr': 0.00032943487409233923, 'weight_decay': 0.0002920635458454676, 'optimizer': 'optim.RMSprop', 'activation': 'nn.Tanh', 'loss_criterion': 'nn.CrossEntropyLoss', 'num_layers': 7}. Best is trial 2 with value: 86.82352941176471.\u001b[0m\n",
      "\u001b[32m[I 2022-03-08 23:21:22,357]\u001b[0m Trial 3 finished with value: 87.52941176470588 and parameters: {'batch_size': 16, 'lr': 0.007077180531514761, 'weight_decay': 2.029716813566767e-05, 'optimizer': 'optim.Adagrad', 'activation': 'nn.LeakyReLU', 'loss_criterion': 'nn.CrossEntropyLoss', 'num_layers': 5}. Best is trial 3 with value: 87.52941176470588.\u001b[0m\n",
      "\u001b[32m[I 2022-03-08 23:21:33,854]\u001b[0m Trial 4 finished with value: 88.70588235294117 and parameters: {'batch_size': 16, 'lr': 0.001302789628658472, 'weight_decay': 4.827675484866173e-05, 'optimizer': 'optim.Adam', 'activation': 'nn.PReLU', 'loss_criterion': 'nn.CrossEntropyLoss', 'num_layers': 7}. Best is trial 4 with value: 88.70588235294117.\u001b[0m\n",
      "\u001b[32m[I 2022-03-08 23:21:47,661]\u001b[0m Trial 5 finished with value: 85.6470588235294 and parameters: {'batch_size': 4, 'lr': 0.003313911313027443, 'weight_decay': 0.00027429631538866965, 'optimizer': 'optim.Adam', 'activation': 'nn.ReLU', 'loss_criterion': 'nn.CrossEntropyLoss', 'num_layers': 5}. Best is trial 4 with value: 88.70588235294117.\u001b[0m\n",
      "\u001b[32m[I 2022-03-08 23:21:48,188]\u001b[0m Trial 6 finished with value: 84.0 and parameters: {'batch_size': 256, 'lr': 0.0121601410081409, 'weight_decay': 1.9423152628340305e-05, 'optimizer': 'optim.Adagrad', 'activation': 'nn.LeakyReLU', 'loss_criterion': 'nn.CrossEntropyLoss', 'num_layers': 3}. Best is trial 4 with value: 88.70588235294117.\u001b[0m\n",
      "\u001b[32m[I 2022-03-08 23:21:48,686]\u001b[0m Trial 7 finished with value: 79.05882352941177 and parameters: {'batch_size': 256, 'lr': 0.06053002134287963, 'weight_decay': 0.0002928789894073918, 'optimizer': 'optim.Adam', 'activation': 'nn.ReLU', 'loss_criterion': 'nn.CrossEntropyLoss', 'num_layers': 7}. Best is trial 4 with value: 88.70588235294117.\u001b[0m\n",
      "\u001b[32m[I 2022-03-08 23:21:53,298]\u001b[0m Trial 8 finished with value: 81.17647058823529 and parameters: {'batch_size': 16, 'lr': 0.05626037638300384, 'weight_decay': 7.08230348622458e-05, 'optimizer': 'optim.Adam', 'activation': 'nn.PReLU', 'loss_criterion': 'nn.CrossEntropyLoss', 'num_layers': 5}. Best is trial 4 with value: 88.70588235294117.\u001b[0m\n",
      "\u001b[32m[I 2022-03-08 23:22:20,248]\u001b[0m Trial 9 finished with value: 83.52941176470588 and parameters: {'batch_size': 1, 'lr': 0.03219972030809255, 'weight_decay': 0.0007648656881199715, 'optimizer': 'optim.Adam', 'activation': 'nn.LeakyReLU', 'loss_criterion': 'nn.CrossEntropyLoss', 'num_layers': 3}. Best is trial 4 with value: 88.70588235294117.\u001b[0m\n",
      "\u001b[32m[I 2022-03-08 23:22:29,322]\u001b[0m Trial 10 finished with value: 88.23529411764706 and parameters: {'batch_size': 16, 'lr': 0.0004853088986096208, 'weight_decay': 6.399164515141611e-05, 'optimizer': 'optim.RMSprop', 'activation': 'nn.PReLU', 'loss_criterion': 'nn.CrossEntropyLoss', 'num_layers': 7}. Best is trial 4 with value: 88.70588235294117.\u001b[0m\n",
      "\u001b[32m[I 2022-03-08 23:22:38,440]\u001b[0m Trial 11 finished with value: 86.3529411764706 and parameters: {'batch_size': 16, 'lr': 0.00044501754556082717, 'weight_decay': 5.435017801348703e-05, 'optimizer': 'optim.RMSprop', 'activation': 'nn.PReLU', 'loss_criterion': 'nn.CrossEntropyLoss', 'num_layers': 7}. Best is trial 4 with value: 88.70588235294117.\u001b[0m\n",
      "\u001b[32m[I 2022-03-08 23:22:43,151]\u001b[0m Trial 12 finished with value: 86.58823529411765 and parameters: {'batch_size': 16, 'lr': 0.0011034056166227373, 'weight_decay': 4.516587765487681e-05, 'optimizer': 'optim.RMSprop', 'activation': 'nn.PReLU', 'loss_criterion': 'nn.CrossEntropyLoss', 'num_layers': 7}. Best is trial 4 with value: 88.70588235294117.\u001b[0m\n",
      "\u001b[32m[I 2022-03-08 23:22:44,999]\u001b[0m Trial 13 finished with value: 79.05882352941177 and parameters: {'batch_size': 16, 'lr': 0.0012641033018305525, 'weight_decay': 0.00013109207664321854, 'optimizer': 'optim.SGD', 'activation': 'nn.Sigmoid', 'loss_criterion': 'nn.CrossEntropyLoss', 'num_layers': 7}. Best is trial 4 with value: 88.70588235294117.\u001b[0m\n",
      "\u001b[32m[I 2022-03-08 23:22:47,963]\u001b[0m Trial 14 finished with value: 88.23529411764706 and parameters: {'batch_size': 64, 'lr': 0.00011275142749553705, 'weight_decay': 1.0253290995484927e-05, 'optimizer': 'optim.RMSprop', 'activation': 'nn.PReLU', 'loss_criterion': 'nn.CrossEntropyLoss', 'num_layers': 7}. Best is trial 4 with value: 88.70588235294117.\u001b[0m\n",
      "\u001b[32m[I 2022-03-08 23:23:51,441]\u001b[0m Trial 15 finished with value: 86.3529411764706 and parameters: {'batch_size': 1, 'lr': 0.0014490509859007513, 'weight_decay': 0.0001196626420286393, 'optimizer': 'optim.RMSprop', 'activation': 'nn.PReLU', 'loss_criterion': 'nn.CrossEntropyLoss', 'num_layers': 7}. Best is trial 4 with value: 88.70588235294117.\u001b[0m\n",
      "\u001b[32m[I 2022-03-08 23:23:53,161]\u001b[0m Trial 16 finished with value: 79.05882352941177 and parameters: {'batch_size': 16, 'lr': 0.00033141186019631044, 'weight_decay': 2.7712777499941973e-05, 'optimizer': 'optim.SGD', 'activation': 'nn.Sigmoid', 'loss_criterion': 'nn.CrossEntropyLoss', 'num_layers': 7}. Best is trial 4 with value: 88.70588235294117.\u001b[0m\n",
      "\u001b[32m[I 2022-03-08 23:23:53,640]\u001b[0m Trial 17 finished with value: 79.05882352941177 and parameters: {'batch_size': 64, 'lr': 0.00015670947755245883, 'weight_decay': 1.0253306089098603e-05, 'optimizer': 'optim.Adagrad', 'activation': 'nn.Tanh', 'loss_criterion': 'nn.CrossEntropyLoss', 'num_layers': 3}. Best is trial 4 with value: 88.70588235294117.\u001b[0m\n",
      "\u001b[32m[I 2022-03-08 23:23:56,879]\u001b[0m Trial 18 finished with value: 86.3529411764706 and parameters: {'batch_size': 64, 'lr': 0.00010211614337763355, 'weight_decay': 1.0462081378051778e-05, 'optimizer': 'optim.Adam', 'activation': 'nn.PReLU', 'loss_criterion': 'nn.CrossEntropyLoss', 'num_layers': 7}. Best is trial 4 with value: 88.70588235294117.\u001b[0m\n",
      "\u001b[32m[I 2022-03-08 23:23:59,026]\u001b[0m Trial 19 finished with value: 87.76470588235294 and parameters: {'batch_size': 64, 'lr': 0.003393173265292908, 'weight_decay': 3.270902068606105e-05, 'optimizer': 'optim.RMSprop', 'activation': 'nn.PReLU', 'loss_criterion': 'nn.CrossEntropyLoss', 'num_layers': 7}. Best is trial 4 with value: 88.70588235294117.\u001b[0m\n",
      "\u001b[32m[I 2022-03-08 23:24:00,982]\u001b[0m Trial 20 finished with value: 86.58823529411765 and parameters: {'batch_size': 64, 'lr': 0.00019393130642917524, 'weight_decay': 1.6548802424724473e-05, 'optimizer': 'optim.RMSprop', 'activation': 'nn.PReLU', 'loss_criterion': 'nn.CrossEntropyLoss', 'num_layers': 3}. Best is trial 4 with value: 88.70588235294117.\u001b[0m\n",
      "\u001b[32m[I 2022-03-08 23:24:07,305]\u001b[0m Trial 21 finished with value: 88.94117647058823 and parameters: {'batch_size': 16, 'lr': 0.0009162271422321827, 'weight_decay': 8.281335102641401e-05, 'optimizer': 'optim.RMSprop', 'activation': 'nn.PReLU', 'loss_criterion': 'nn.CrossEntropyLoss', 'num_layers': 7}. Best is trial 21 with value: 88.94117647058823.\u001b[0m\n",
      "\u001b[32m[I 2022-03-08 23:24:10,625]\u001b[0m Trial 22 finished with value: 76.47058823529412 and parameters: {'batch_size': 16, 'lr': 0.000852755305996134, 'weight_decay': 0.00017214145317918383, 'optimizer': 'optim.RMSprop', 'activation': 'nn.PReLU', 'loss_criterion': 'nn.CrossEntropyLoss', 'num_layers': 7}. Best is trial 21 with value: 88.94117647058823.\u001b[0m\n",
      "\u001b[32m[I 2022-03-08 23:24:16,205]\u001b[0m Trial 23 finished with value: 87.05882352941177 and parameters: {'batch_size': 16, 'lr': 0.000605870932053964, 'weight_decay': 8.803589933717169e-05, 'optimizer': 'optim.RMSprop', 'activation': 'nn.PReLU', 'loss_criterion': 'nn.CrossEntropyLoss', 'num_layers': 7}. Best is trial 21 with value: 88.94117647058823.\u001b[0m\n",
      "\u001b[32m[I 2022-03-08 23:25:59,676]\u001b[0m Trial 24 finished with value: 85.17647058823529 and parameters: {'batch_size': 1, 'lr': 0.004771324458409065, 'weight_decay': 3.5059294623304206e-05, 'optimizer': 'optim.RMSprop', 'activation': 'nn.PReLU', 'loss_criterion': 'nn.CrossEntropyLoss', 'num_layers': 7}. Best is trial 21 with value: 88.94117647058823.\u001b[0m\n",
      "\u001b[32m[I 2022-03-08 23:26:02,738]\u001b[0m Trial 25 finished with value: 79.05882352941177 and parameters: {'batch_size': 16, 'lr': 0.002013117388951296, 'weight_decay': 6.525599730185037e-05, 'optimizer': 'optim.Adam', 'activation': 'nn.Sigmoid', 'loss_criterion': 'nn.CrossEntropyLoss', 'num_layers': 7}. Best is trial 21 with value: 88.94117647058823.\u001b[0m\n",
      "\u001b[32m[I 2022-03-08 23:26:23,402]\u001b[0m Trial 26 finished with value: 86.11764705882354 and parameters: {'batch_size': 4, 'lr': 0.0019380853229758372, 'weight_decay': 1.4643627250504511e-05, 'optimizer': 'optim.Adagrad', 'activation': 'nn.PReLU', 'loss_criterion': 'nn.CrossEntropyLoss', 'num_layers': 7}. Best is trial 21 with value: 88.94117647058823.\u001b[0m\n",
      "\u001b[32m[I 2022-03-08 23:26:24,828]\u001b[0m Trial 27 finished with value: 79.05882352941177 and parameters: {'batch_size': 64, 'lr': 0.00019998799930229965, 'weight_decay': 0.0001865355691643804, 'optimizer': 'optim.SGD', 'activation': 'nn.Tanh', 'loss_criterion': 'nn.CrossEntropyLoss', 'num_layers': 7}. Best is trial 21 with value: 88.94117647058823.\u001b[0m\n",
      "\u001b[32m[I 2022-03-08 23:26:27,703]\u001b[0m Trial 28 finished with value: 87.05882352941177 and parameters: {'batch_size': 16, 'lr': 0.0007363857886468585, 'weight_decay': 9.05886532457869e-05, 'optimizer': 'optim.RMSprop', 'activation': 'nn.PReLU', 'loss_criterion': 'nn.CrossEntropyLoss', 'num_layers': 3}. Best is trial 21 with value: 88.94117647058823.\u001b[0m\n",
      "\u001b[32m[I 2022-03-08 23:26:30,527]\u001b[0m Trial 29 finished with value: 87.29411764705883 and parameters: {'batch_size': 64, 'lr': 0.00010565161705339598, 'weight_decay': 2.8244696844361114e-05, 'optimizer': 'optim.Adam', 'activation': 'nn.PReLU', 'loss_criterion': 'nn.CrossEntropyLoss', 'num_layers': 7}. Best is trial 21 with value: 88.94117647058823.\u001b[0m\n",
      "\u001b[32m[I 2022-03-08 23:26:31,502]\u001b[0m Trial 30 finished with value: 84.0 and parameters: {'batch_size': 64, 'lr': 0.00032295593200726795, 'weight_decay': 4.395122059687834e-05, 'optimizer': 'optim.Adam', 'activation': 'nn.Tanh', 'loss_criterion': 'nn.CrossEntropyLoss', 'num_layers': 5}. Best is trial 21 with value: 88.94117647058823.\u001b[0m\n",
      "\u001b[32m[I 2022-03-08 23:26:36,628]\u001b[0m Trial 31 finished with value: 85.17647058823529 and parameters: {'batch_size': 16, 'lr': 0.0005404540475911117, 'weight_decay': 6.449665524662077e-05, 'optimizer': 'optim.RMSprop', 'activation': 'nn.PReLU', 'loss_criterion': 'nn.CrossEntropyLoss', 'num_layers': 7}. Best is trial 21 with value: 88.94117647058823.\u001b[0m\n",
      "\u001b[32m[I 2022-03-08 23:26:42,151]\u001b[0m Trial 32 finished with value: 81.88235294117646 and parameters: {'batch_size': 16, 'lr': 0.002306500564294708, 'weight_decay': 0.00017162458518425096, 'optimizer': 'optim.RMSprop', 'activation': 'nn.PReLU', 'loss_criterion': 'nn.CrossEntropyLoss', 'num_layers': 7}. Best is trial 21 with value: 88.94117647058823.\u001b[0m\n",
      "\u001b[32m[I 2022-03-08 23:27:09,698]\u001b[0m Trial 33 finished with value: 82.82352941176471 and parameters: {'batch_size': 4, 'lr': 0.00025061287958616713, 'weight_decay': 0.00047243012295060535, 'optimizer': 'optim.RMSprop', 'activation': 'nn.ReLU', 'loss_criterion': 'nn.CrossEntropyLoss', 'num_layers': 7}. Best is trial 21 with value: 88.94117647058823.\u001b[0m\n",
      "\u001b[32m[I 2022-03-08 23:27:11,330]\u001b[0m Trial 34 finished with value: 88.23529411764706 and parameters: {'batch_size': 256, 'lr': 0.0009028778276910133, 'weight_decay': 0.00012099230825005467, 'optimizer': 'optim.RMSprop', 'activation': 'nn.PReLU', 'loss_criterion': 'nn.CrossEntropyLoss', 'num_layers': 7}. Best is trial 21 with value: 88.94117647058823.\u001b[0m\n",
      "\u001b[32m[I 2022-03-08 23:27:12,723]\u001b[0m Trial 35 finished with value: 80.94117647058823 and parameters: {'batch_size': 256, 'lr': 0.0009254862534165891, 'weight_decay': 0.0001092191981563231, 'optimizer': 'optim.RMSprop', 'activation': 'nn.PReLU', 'loss_criterion': 'nn.CrossEntropyLoss', 'num_layers': 5}. Best is trial 21 with value: 88.94117647058823.\u001b[0m\n",
      "\u001b[32m[I 2022-03-08 23:27:13,957]\u001b[0m Trial 36 finished with value: 86.58823529411765 and parameters: {'batch_size': 256, 'lr': 0.0004908023282687225, 'weight_decay': 8.014028533896135e-05, 'optimizer': 'optim.SGD', 'activation': 'nn.LeakyReLU', 'loss_criterion': 'nn.CrossEntropyLoss', 'num_layers': 7}. Best is trial 21 with value: 88.94117647058823.\u001b[0m\n",
      "\u001b[32m[I 2022-03-08 23:27:14,904]\u001b[0m Trial 37 finished with value: 86.58823529411765 and parameters: {'batch_size': 256, 'lr': 0.004863166941105964, 'weight_decay': 4.905213694937356e-05, 'optimizer': 'optim.Adagrad', 'activation': 'nn.ReLU', 'loss_criterion': 'nn.CrossEntropyLoss', 'num_layers': 7}. Best is trial 21 with value: 88.94117647058823.\u001b[0m\n",
      "\u001b[32m[I 2022-03-08 23:27:15,211]\u001b[0m Trial 38 finished with value: 79.05882352941177 and parameters: {'batch_size': 256, 'lr': 0.001558112839276643, 'weight_decay': 0.00022136378338959454, 'optimizer': 'optim.RMSprop', 'activation': 'nn.Sigmoid', 'loss_criterion': 'nn.CrossEntropyLoss', 'num_layers': 5}. Best is trial 21 with value: 88.94117647058823.\u001b[0m\n",
      "\u001b[32m[I 2022-03-08 23:27:15,918]\u001b[0m Trial 39 finished with value: 85.41176470588235 and parameters: {'batch_size': 256, 'lr': 0.010353183224152579, 'weight_decay': 0.00043851170504875776, 'optimizer': 'optim.Adam', 'activation': 'nn.LeakyReLU', 'loss_criterion': 'nn.CrossEntropyLoss', 'num_layers': 7}. Best is trial 21 with value: 88.94117647058823.\u001b[0m\n",
      "\u001b[32m[I 2022-03-08 23:27:19,707]\u001b[0m Trial 40 finished with value: 88.94117647058823 and parameters: {'batch_size': 16, 'lr': 0.00037772066388795466, 'weight_decay': 2.3296738905335683e-05, 'optimizer': 'optim.RMSprop', 'activation': 'nn.PReLU', 'loss_criterion': 'nn.CrossEntropyLoss', 'num_layers': 3}. Best is trial 21 with value: 88.94117647058823.\u001b[0m\n",
      "\u001b[32m[I 2022-03-08 23:27:21,919]\u001b[0m Trial 41 finished with value: 86.58823529411765 and parameters: {'batch_size': 16, 'lr': 0.0008345963673917101, 'weight_decay': 2.4265055922356365e-05, 'optimizer': 'optim.RMSprop', 'activation': 'nn.PReLU', 'loss_criterion': 'nn.CrossEntropyLoss', 'num_layers': 3}. Best is trial 21 with value: 88.94117647058823.\u001b[0m\n",
      "\u001b[32m[I 2022-03-08 23:27:24,940]\u001b[0m Trial 42 finished with value: 84.47058823529412 and parameters: {'batch_size': 16, 'lr': 0.0004327863367238813, 'weight_decay': 3.869720467183185e-05, 'optimizer': 'optim.RMSprop', 'activation': 'nn.PReLU', 'loss_criterion': 'nn.CrossEntropyLoss', 'num_layers': 3}. Best is trial 21 with value: 88.94117647058823.\u001b[0m\n",
      "\u001b[32m[I 2022-03-08 23:27:27,876]\u001b[0m Trial 43 finished with value: 84.47058823529412 and parameters: {'batch_size': 16, 'lr': 0.00037060492635000025, 'weight_decay': 0.00013813531490496246, 'optimizer': 'optim.RMSprop', 'activation': 'nn.PReLU', 'loss_criterion': 'nn.CrossEntropyLoss', 'num_layers': 3}. Best is trial 21 with value: 88.94117647058823.\u001b[0m\n",
      "\u001b[32m[I 2022-03-08 23:27:31,517]\u001b[0m Trial 44 finished with value: 84.47058823529412 and parameters: {'batch_size': 16, 'lr': 0.00014796802142808774, 'weight_decay': 2.094817965652575e-05, 'optimizer': 'optim.RMSprop', 'activation': 'nn.PReLU', 'loss_criterion': 'nn.CrossEntropyLoss', 'num_layers': 3}. Best is trial 21 with value: 88.94117647058823.\u001b[0m\n",
      "\u001b[32m[I 2022-03-08 23:27:44,564]\u001b[0m Trial 45 finished with value: 88.70588235294117 and parameters: {'batch_size': 4, 'lr': 0.0002561262687251048, 'weight_decay': 1.2523986984279467e-05, 'optimizer': 'optim.Adam', 'activation': 'nn.ReLU', 'loss_criterion': 'nn.CrossEntropyLoss', 'num_layers': 3}. Best is trial 21 with value: 88.94117647058823.\u001b[0m\n",
      "\u001b[32m[I 2022-03-08 23:27:49,597]\u001b[0m Trial 46 finished with value: 79.05882352941177 and parameters: {'batch_size': 4, 'lr': 0.027677462360810586, 'weight_decay': 1.373568650718456e-05, 'optimizer': 'optim.Adam', 'activation': 'nn.ReLU', 'loss_criterion': 'nn.CrossEntropyLoss', 'num_layers': 3}. Best is trial 21 with value: 88.94117647058823.\u001b[0m\n",
      "\u001b[32m[I 2022-03-08 23:27:58,341]\u001b[0m Trial 47 finished with value: 82.58823529411765 and parameters: {'batch_size': 4, 'lr': 0.0002822122596858976, 'weight_decay': 1.7692888131769028e-05, 'optimizer': 'optim.Adam', 'activation': 'nn.ReLU', 'loss_criterion': 'nn.CrossEntropyLoss', 'num_layers': 3}. Best is trial 21 with value: 88.94117647058823.\u001b[0m\n",
      "\u001b[32m[I 2022-03-08 23:28:10,736]\u001b[0m Trial 48 finished with value: 88.47058823529412 and parameters: {'batch_size': 4, 'lr': 0.000631031539593771, 'weight_decay': 2.2087057466582664e-05, 'optimizer': 'optim.Adam', 'activation': 'nn.ReLU', 'loss_criterion': 'nn.CrossEntropyLoss', 'num_layers': 3}. Best is trial 21 with value: 88.94117647058823.\u001b[0m\n",
      "\u001b[32m[I 2022-03-08 23:28:16,676]\u001b[0m Trial 49 finished with value: 87.52941176470588 and parameters: {'batch_size': 4, 'lr': 0.0011530522455423192, 'weight_decay': 2.1205641718376284e-05, 'optimizer': 'optim.Adam', 'activation': 'nn.ReLU', 'loss_criterion': 'nn.CrossEntropyLoss', 'num_layers': 3}. Best is trial 21 with value: 88.94117647058823.\u001b[0m\n",
      "\u001b[32m[I 2022-03-08 23:28:23,418]\u001b[0m Trial 50 finished with value: 87.05882352941177 and parameters: {'batch_size': 4, 'lr': 0.000624015890100717, 'weight_decay': 5.029775832458155e-05, 'optimizer': 'optim.Adam', 'activation': 'nn.ReLU', 'loss_criterion': 'nn.CrossEntropyLoss', 'num_layers': 3}. Best is trial 21 with value: 88.94117647058823.\u001b[0m\n",
      "\u001b[32m[I 2022-03-08 23:28:35,407]\u001b[0m Trial 51 finished with value: 89.6470588235294 and parameters: {'batch_size': 4, 'lr': 0.0010942727202147466, 'weight_decay': 1.3058277727586821e-05, 'optimizer': 'optim.Adam', 'activation': 'nn.ReLU', 'loss_criterion': 'nn.CrossEntropyLoss', 'num_layers': 3}. Best is trial 51 with value: 89.6470588235294.\u001b[0m\n",
      "\u001b[32m[I 2022-03-08 23:28:44,869]\u001b[0m Trial 52 finished with value: 86.58823529411765 and parameters: {'batch_size': 4, 'lr': 0.0028650401800049737, 'weight_decay': 1.3725213965805714e-05, 'optimizer': 'optim.Adam', 'activation': 'nn.ReLU', 'loss_criterion': 'nn.CrossEntropyLoss', 'num_layers': 3}. Best is trial 51 with value: 89.6470588235294.\u001b[0m\n",
      "\u001b[32m[I 2022-03-08 23:28:56,070]\u001b[0m Trial 53 finished with value: 88.23529411764706 and parameters: {'batch_size': 4, 'lr': 0.0013879342799837011, 'weight_decay': 1.2428251611361551e-05, 'optimizer': 'optim.Adam', 'activation': 'nn.ReLU', 'loss_criterion': 'nn.CrossEntropyLoss', 'num_layers': 3}. Best is trial 51 with value: 89.6470588235294.\u001b[0m\n",
      "\u001b[32m[I 2022-03-08 23:29:11,702]\u001b[0m Trial 54 finished with value: 87.52941176470588 and parameters: {'batch_size': 4, 'lr': 0.0002294776993329223, 'weight_decay': 2.3809721048130693e-05, 'optimizer': 'optim.Adam', 'activation': 'nn.ReLU', 'loss_criterion': 'nn.CrossEntropyLoss', 'num_layers': 3}. Best is trial 51 with value: 89.6470588235294.\u001b[0m\n",
      "\u001b[32m[I 2022-03-08 23:29:39,543]\u001b[0m Trial 55 finished with value: 87.52941176470588 and parameters: {'batch_size': 1, 'lr': 0.0006572600745005918, 'weight_decay': 1.6379689216557954e-05, 'optimizer': 'optim.Adam', 'activation': 'nn.ReLU', 'loss_criterion': 'nn.CrossEntropyLoss', 'num_layers': 3}. Best is trial 51 with value: 89.6470588235294.\u001b[0m\n",
      "\u001b[32m[I 2022-03-08 23:29:52,892]\u001b[0m Trial 56 finished with value: 87.29411764705883 and parameters: {'batch_size': 4, 'lr': 0.0004031849256700721, 'weight_decay': 3.064082227042034e-05, 'optimizer': 'optim.Adam', 'activation': 'nn.ReLU', 'loss_criterion': 'nn.CrossEntropyLoss', 'num_layers': 3}. Best is trial 51 with value: 89.6470588235294.\u001b[0m\n",
      "\u001b[32m[I 2022-03-08 23:30:11,083]\u001b[0m Trial 57 finished with value: 87.76470588235294 and parameters: {'batch_size': 4, 'lr': 0.001082546716657539, 'weight_decay': 1.2121899729963296e-05, 'optimizer': 'optim.Adam', 'activation': 'nn.ReLU', 'loss_criterion': 'nn.CrossEntropyLoss', 'num_layers': 3}. Best is trial 51 with value: 89.6470588235294.\u001b[0m\n",
      "\u001b[32m[I 2022-03-08 23:30:18,280]\u001b[0m Trial 58 finished with value: 85.6470588235294 and parameters: {'batch_size': 4, 'lr': 0.0016929099995289074, 'weight_decay': 3.890554682229899e-05, 'optimizer': 'optim.Adagrad', 'activation': 'nn.LeakyReLU', 'loss_criterion': 'nn.CrossEntropyLoss', 'num_layers': 3}. Best is trial 51 with value: 89.6470588235294.\u001b[0m\n",
      "\u001b[32m[I 2022-03-08 23:30:59,321]\u001b[0m Trial 59 finished with value: 86.58823529411765 and parameters: {'batch_size': 1, 'lr': 0.0001543673250425455, 'weight_decay': 1.823486031952097e-05, 'optimizer': 'optim.Adam', 'activation': 'nn.Tanh', 'loss_criterion': 'nn.CrossEntropyLoss', 'num_layers': 3}. Best is trial 51 with value: 89.6470588235294.\u001b[0m\n",
      "\u001b[32m[I 2022-03-08 23:31:01,124]\u001b[0m Trial 60 finished with value: 79.05882352941177 and parameters: {'batch_size': 16, 'lr': 0.0025838502585670635, 'weight_decay': 1.5429208288180527e-05, 'optimizer': 'optim.SGD', 'activation': 'nn.Sigmoid', 'loss_criterion': 'nn.CrossEntropyLoss', 'num_layers': 5}. Best is trial 51 with value: 89.6470588235294.\u001b[0m\n",
      "\u001b[32m[I 2022-03-08 23:31:07,360]\u001b[0m Trial 61 finished with value: 83.76470588235294 and parameters: {'batch_size': 4, 'lr': 0.0035081028726721836, 'weight_decay': 1.1761960075536461e-05, 'optimizer': 'optim.Adam', 'activation': 'nn.ReLU', 'loss_criterion': 'nn.CrossEntropyLoss', 'num_layers': 3}. Best is trial 51 with value: 89.6470588235294.\u001b[0m\n",
      "\u001b[32m[I 2022-03-08 23:31:22,424]\u001b[0m Trial 62 finished with value: 86.58823529411765 and parameters: {'batch_size': 4, 'lr': 0.0013605243140059327, 'weight_decay': 1.2333595585464863e-05, 'optimizer': 'optim.Adam', 'activation': 'nn.ReLU', 'loss_criterion': 'nn.CrossEntropyLoss', 'num_layers': 3}. Best is trial 51 with value: 89.6470588235294.\u001b[0m\n",
      "\u001b[32m[I 2022-03-08 23:31:23,456]\u001b[0m Trial 63 finished with value: 87.76470588235294 and parameters: {'batch_size': 256, 'lr': 0.0008556308134119771, 'weight_decay': 5.811522235665712e-05, 'optimizer': 'optim.Adam', 'activation': 'nn.PReLU', 'loss_criterion': 'nn.CrossEntropyLoss', 'num_layers': 7}. Best is trial 51 with value: 89.6470588235294.\u001b[0m\n",
      "\u001b[32m[I 2022-03-08 23:31:28,873]\u001b[0m Trial 64 finished with value: 88.70588235294117 and parameters: {'batch_size': 16, 'lr': 0.0010130117559462532, 'weight_decay': 7.762111662639884e-05, 'optimizer': 'optim.Adagrad', 'activation': 'nn.PReLU', 'loss_criterion': 'nn.CrossEntropyLoss', 'num_layers': 7}. Best is trial 51 with value: 89.6470588235294.\u001b[0m\n",
      "\u001b[32m[I 2022-03-08 23:31:30,178]\u001b[0m Trial 65 finished with value: 76.47058823529412 and parameters: {'batch_size': 16, 'lr': 0.0005245790391802917, 'weight_decay': 8.043795644108958e-05, 'optimizer': 'optim.Adagrad', 'activation': 'nn.PReLU', 'loss_criterion': 'nn.CrossEntropyLoss', 'num_layers': 3}. Best is trial 51 with value: 89.6470588235294.\u001b[0m\n",
      "\u001b[32m[I 2022-03-08 23:31:32,743]\u001b[0m Trial 66 finished with value: 87.05882352941177 and parameters: {'batch_size': 16, 'lr': 0.000702485925588203, 'weight_decay': 0.0009560420297305194, 'optimizer': 'optim.Adagrad', 'activation': 'nn.Tanh', 'loss_criterion': 'nn.CrossEntropyLoss', 'num_layers': 7}. Best is trial 51 with value: 89.6470588235294.\u001b[0m\n",
      "\u001b[32m[I 2022-03-08 23:31:37,706]\u001b[0m Trial 67 finished with value: 88.47058823529412 and parameters: {'batch_size': 16, 'lr': 0.0011567843866859084, 'weight_decay': 2.6434735963160655e-05, 'optimizer': 'optim.Adagrad', 'activation': 'nn.PReLU', 'loss_criterion': 'nn.CrossEntropyLoss', 'num_layers': 5}. Best is trial 51 with value: 89.6470588235294.\u001b[0m\n",
      "\u001b[32m[I 2022-03-08 23:31:41,878]\u001b[0m Trial 68 finished with value: 86.58823529411765 and parameters: {'batch_size': 16, 'lr': 0.001803571159355379, 'weight_decay': 2.688032356032413e-05, 'optimizer': 'optim.Adagrad', 'activation': 'nn.PReLU', 'loss_criterion': 'nn.CrossEntropyLoss', 'num_layers': 5}. Best is trial 51 with value: 89.6470588235294.\u001b[0m\n",
      "\u001b[32m[I 2022-03-08 23:31:45,503]\u001b[0m Trial 69 finished with value: 86.11764705882354 and parameters: {'batch_size': 16, 'lr': 0.000995381989053931, 'weight_decay': 0.00010174981529901023, 'optimizer': 'optim.Adagrad', 'activation': 'nn.PReLU', 'loss_criterion': 'nn.CrossEntropyLoss', 'num_layers': 5}. Best is trial 51 with value: 89.6470588235294.\u001b[0m\n",
      "\u001b[32m[I 2022-03-08 23:31:50,378]\u001b[0m Trial 70 finished with value: 86.11764705882354 and parameters: {'batch_size': 16, 'lr': 0.00033243740143766657, 'weight_decay': 7.131660287877714e-05, 'optimizer': 'optim.Adagrad', 'activation': 'nn.PReLU', 'loss_criterion': 'nn.CrossEntropyLoss', 'num_layers': 5}. Best is trial 51 with value: 89.6470588235294.\u001b[0m\n",
      "\u001b[32m[I 2022-03-08 23:31:54,365]\u001b[0m Trial 71 finished with value: 85.6470588235294 and parameters: {'batch_size': 16, 'lr': 0.0011506725602914484, 'weight_decay': 2.2540435712188166e-05, 'optimizer': 'optim.Adagrad', 'activation': 'nn.PReLU', 'loss_criterion': 'nn.CrossEntropyLoss', 'num_layers': 5}. Best is trial 51 with value: 89.6470588235294.\u001b[0m\n",
      "\u001b[32m[I 2022-03-08 23:32:01,714]\u001b[0m Trial 72 finished with value: 87.52941176470588 and parameters: {'batch_size': 16, 'lr': 0.09895136508173824, 'weight_decay': 4.1467107794604265e-05, 'optimizer': 'optim.Adagrad', 'activation': 'nn.PReLU', 'loss_criterion': 'nn.CrossEntropyLoss', 'num_layers': 7}. Best is trial 51 with value: 89.6470588235294.\u001b[0m\n",
      "\u001b[32m[I 2022-03-08 23:32:03,023]\u001b[0m Trial 73 finished with value: 79.05882352941177 and parameters: {'batch_size': 16, 'lr': 0.0021840695197262064, 'weight_decay': 2.6579726301671272e-05, 'optimizer': 'optim.SGD', 'activation': 'nn.Sigmoid', 'loss_criterion': 'nn.CrossEntropyLoss', 'num_layers': 5}. Best is trial 51 with value: 89.6470588235294.\u001b[0m\n",
      "\u001b[32m[I 2022-03-08 23:32:06,678]\u001b[0m Trial 74 finished with value: 86.58823529411765 and parameters: {'batch_size': 16, 'lr': 0.0007668968569120984, 'weight_decay': 2.9897697232358317e-05, 'optimizer': 'optim.Adagrad', 'activation': 'nn.PReLU', 'loss_criterion': 'nn.CrossEntropyLoss', 'num_layers': 7}. Best is trial 51 with value: 89.6470588235294.\u001b[0m\n",
      "\u001b[32m[I 2022-03-08 23:32:11,168]\u001b[0m Trial 75 finished with value: 88.0 and parameters: {'batch_size': 16, 'lr': 0.0005932790348586815, 'weight_decay': 3.4624721560972463e-05, 'optimizer': 'optim.Adam', 'activation': 'nn.LeakyReLU', 'loss_criterion': 'nn.CrossEntropyLoss', 'num_layers': 3}. Best is trial 51 with value: 89.6470588235294.\u001b[0m\n",
      "\u001b[32m[I 2022-03-08 23:32:57,395]\u001b[0m Trial 76 finished with value: 88.23529411764706 and parameters: {'batch_size': 1, 'lr': 0.00046931209145620973, 'weight_decay': 2.0081857698305353e-05, 'optimizer': 'optim.Adagrad', 'activation': 'nn.ReLU', 'loss_criterion': 'nn.CrossEntropyLoss', 'num_layers': 7}. Best is trial 51 with value: 89.6470588235294.\u001b[0m\n",
      "\u001b[32m[I 2022-03-08 23:33:00,550]\u001b[0m Trial 77 finished with value: 85.41176470588235 and parameters: {'batch_size': 16, 'lr': 0.00020362860214892596, 'weight_decay': 5.84837759971788e-05, 'optimizer': 'optim.Adam', 'activation': 'nn.PReLU', 'loss_criterion': 'nn.CrossEntropyLoss', 'num_layers': 5}. Best is trial 51 with value: 89.6470588235294.\u001b[0m\n",
      "\u001b[32m[I 2022-03-08 23:33:33,211]\u001b[0m Trial 78 finished with value: 90.11764705882354 and parameters: {'batch_size': 4, 'lr': 0.00029712481959287323, 'weight_decay': 1.0027579021361967e-05, 'optimizer': 'optim.Adam', 'activation': 'nn.PReLU', 'loss_criterion': 'nn.CrossEntropyLoss', 'num_layers': 7}. Best is trial 78 with value: 90.11764705882354.\u001b[0m\n",
      "\u001b[32m[I 2022-03-08 23:33:36,632]\u001b[0m Trial 79 finished with value: 86.82352941176471 and parameters: {'batch_size': 16, 'lr': 0.0002637942735569131, 'weight_decay': 1.4859480349130014e-05, 'optimizer': 'optim.SGD', 'activation': 'nn.PReLU', 'loss_criterion': 'nn.CrossEntropyLoss', 'num_layers': 7}. Best is trial 78 with value: 90.11764705882354.\u001b[0m\n",
      "\u001b[32m[I 2022-03-08 23:33:46,899]\u001b[0m Trial 80 finished with value: 86.3529411764706 and parameters: {'batch_size': 16, 'lr': 0.00028883153596535963, 'weight_decay': 7.152609852789112e-05, 'optimizer': 'optim.RMSprop', 'activation': 'nn.PReLU', 'loss_criterion': 'nn.CrossEntropyLoss', 'num_layers': 7}. Best is trial 78 with value: 90.11764705882354.\u001b[0m\n",
      "\u001b[32m[I 2022-03-08 23:33:57,582]\u001b[0m Trial 81 finished with value: 87.29411764705883 and parameters: {'batch_size': 4, 'lr': 0.00040143044292092144, 'weight_decay': 1.947443860150964e-05, 'optimizer': 'optim.Adam', 'activation': 'nn.PReLU', 'loss_criterion': 'nn.CrossEntropyLoss', 'num_layers': 7}. Best is trial 78 with value: 90.11764705882354.\u001b[0m\n",
      "\u001b[32m[I 2022-03-08 23:34:15,875]\u001b[0m Trial 82 finished with value: 81.17647058823529 and parameters: {'batch_size': 4, 'lr': 0.001280663780281733, 'weight_decay': 1.1704054093790958e-05, 'optimizer': 'optim.Adam', 'activation': 'nn.PReLU', 'loss_criterion': 'nn.CrossEntropyLoss', 'num_layers': 7}. Best is trial 78 with value: 90.11764705882354.\u001b[0m\n",
      "\u001b[32m[I 2022-03-08 23:34:55,371]\u001b[0m Trial 83 finished with value: 89.88235294117646 and parameters: {'batch_size': 4, 'lr': 0.00034737575489190834, 'weight_decay': 1.7462296443434578e-05, 'optimizer': 'optim.Adam', 'activation': 'nn.PReLU', 'loss_criterion': 'nn.CrossEntropyLoss', 'num_layers': 7}. Best is trial 78 with value: 90.11764705882354.\u001b[0m\n",
      "\u001b[32m[I 2022-03-08 23:35:42,105]\u001b[0m Trial 84 finished with value: 89.17647058823529 and parameters: {'batch_size': 4, 'lr': 0.0003323094189121831, 'weight_decay': 1.7048030505008648e-05, 'optimizer': 'optim.Adam', 'activation': 'nn.ReLU', 'loss_criterion': 'nn.CrossEntropyLoss', 'num_layers': 7}. Best is trial 78 with value: 90.11764705882354.\u001b[0m\n",
      "\u001b[32m[I 2022-03-08 23:36:10,487]\u001b[0m Trial 85 finished with value: 89.17647058823529 and parameters: {'batch_size': 4, 'lr': 0.0001408246187076132, 'weight_decay': 1.0046822599671478e-05, 'optimizer': 'optim.Adam', 'activation': 'nn.PReLU', 'loss_criterion': 'nn.CrossEntropyLoss', 'num_layers': 7}. Best is trial 78 with value: 90.11764705882354.\u001b[0m\n",
      "\u001b[32m[I 2022-03-08 23:36:27,920]\u001b[0m Trial 86 finished with value: 83.52941176470588 and parameters: {'batch_size': 4, 'lr': 0.00013203913260943567, 'weight_decay': 1.0439964434491757e-05, 'optimizer': 'optim.Adam', 'activation': 'nn.Tanh', 'loss_criterion': 'nn.CrossEntropyLoss', 'num_layers': 7}. Best is trial 78 with value: 90.11764705882354.\u001b[0m\n",
      "\u001b[32m[I 2022-03-08 23:37:06,533]\u001b[0m Trial 87 finished with value: 87.52941176470588 and parameters: {'batch_size': 4, 'lr': 0.0001937289821587297, 'weight_decay': 1.6928895579953257e-05, 'optimizer': 'optim.Adam', 'activation': 'nn.PReLU', 'loss_criterion': 'nn.CrossEntropyLoss', 'num_layers': 7}. Best is trial 78 with value: 90.11764705882354.\u001b[0m\n",
      "\u001b[32m[I 2022-03-08 23:37:22,037]\u001b[0m Trial 88 finished with value: 86.58823529411765 and parameters: {'batch_size': 4, 'lr': 0.00017192203019429045, 'weight_decay': 1.3544424720191464e-05, 'optimizer': 'optim.Adam', 'activation': 'nn.ReLU', 'loss_criterion': 'nn.CrossEntropyLoss', 'num_layers': 7}. Best is trial 78 with value: 90.11764705882354.\u001b[0m\n",
      "\u001b[32m[I 2022-03-08 23:37:31,712]\u001b[0m Trial 89 finished with value: 79.05882352941177 and parameters: {'batch_size': 4, 'lr': 0.00013108502232068374, 'weight_decay': 1.0034834127743003e-05, 'optimizer': 'optim.Adam', 'activation': 'nn.Sigmoid', 'loss_criterion': 'nn.CrossEntropyLoss', 'num_layers': 7}. Best is trial 78 with value: 90.11764705882354.\u001b[0m\n",
      "\u001b[32m[I 2022-03-08 23:37:59,108]\u001b[0m Trial 90 finished with value: 89.17647058823529 and parameters: {'batch_size': 4, 'lr': 0.000331282284312676, 'weight_decay': 1.1038983021395756e-05, 'optimizer': 'optim.Adam', 'activation': 'nn.LeakyReLU', 'loss_criterion': 'nn.CrossEntropyLoss', 'num_layers': 7}. Best is trial 78 with value: 90.11764705882354.\u001b[0m\n",
      "\u001b[32m[I 2022-03-08 23:38:30,029]\u001b[0m Trial 91 finished with value: 88.23529411764706 and parameters: {'batch_size': 4, 'lr': 0.00023043365727964688, 'weight_decay': 1.3453692369483408e-05, 'optimizer': 'optim.Adam', 'activation': 'nn.LeakyReLU', 'loss_criterion': 'nn.CrossEntropyLoss', 'num_layers': 7}. Best is trial 78 with value: 90.11764705882354.\u001b[0m\n",
      "\u001b[32m[I 2022-03-08 23:38:59,324]\u001b[0m Trial 92 finished with value: 87.29411764705883 and parameters: {'batch_size': 4, 'lr': 0.0003339926694742282, 'weight_decay': 1.1103646749497495e-05, 'optimizer': 'optim.Adam', 'activation': 'nn.LeakyReLU', 'loss_criterion': 'nn.CrossEntropyLoss', 'num_layers': 7}. Best is trial 78 with value: 90.11764705882354.\u001b[0m\n",
      "\u001b[32m[I 2022-03-08 23:39:43,745]\u001b[0m Trial 93 finished with value: 90.11764705882354 and parameters: {'batch_size': 4, 'lr': 0.00035038331476634294, 'weight_decay': 1.495166883344377e-05, 'optimizer': 'optim.Adam', 'activation': 'nn.LeakyReLU', 'loss_criterion': 'nn.CrossEntropyLoss', 'num_layers': 7}. Best is trial 78 with value: 90.11764705882354.\u001b[0m\n",
      "\u001b[32m[I 2022-03-08 23:40:06,168]\u001b[0m Trial 94 finished with value: 84.47058823529412 and parameters: {'batch_size': 4, 'lr': 0.00035501483927143735, 'weight_decay': 1.5531060844834804e-05, 'optimizer': 'optim.Adam', 'activation': 'nn.LeakyReLU', 'loss_criterion': 'nn.CrossEntropyLoss', 'num_layers': 7}. Best is trial 78 with value: 90.11764705882354.\u001b[0m\n",
      "\u001b[32m[I 2022-03-08 23:40:44,551]\u001b[0m Trial 95 finished with value: 86.82352941176471 and parameters: {'batch_size': 4, 'lr': 0.0002891073262283539, 'weight_decay': 1.744046907632179e-05, 'optimizer': 'optim.Adam', 'activation': 'nn.LeakyReLU', 'loss_criterion': 'nn.CrossEntropyLoss', 'num_layers': 7}. Best is trial 78 with value: 90.11764705882354.\u001b[0m\n",
      "\u001b[32m[I 2022-03-08 23:41:26,375]\u001b[0m Trial 96 finished with value: 87.29411764705883 and parameters: {'batch_size': 4, 'lr': 0.00018707938401267755, 'weight_decay': 1.0925953758630942e-05, 'optimizer': 'optim.RMSprop', 'activation': 'nn.LeakyReLU', 'loss_criterion': 'nn.CrossEntropyLoss', 'num_layers': 7}. Best is trial 78 with value: 90.11764705882354.\u001b[0m\n",
      "\u001b[32m[I 2022-03-08 23:42:12,612]\u001b[0m Trial 97 finished with value: 87.76470588235294 and parameters: {'batch_size': 4, 'lr': 0.00023784393552470648, 'weight_decay': 1.2851016923632522e-05, 'optimizer': 'optim.Adam', 'activation': 'nn.LeakyReLU', 'loss_criterion': 'nn.CrossEntropyLoss', 'num_layers': 7}. Best is trial 78 with value: 90.11764705882354.\u001b[0m\n",
      "\u001b[32m[I 2022-03-08 23:42:14,219]\u001b[0m Trial 98 finished with value: 88.70588235294117 and parameters: {'batch_size': 64, 'lr': 0.0005071426029535429, 'weight_decay': 1.462145633898643e-05, 'optimizer': 'optim.Adam', 'activation': 'nn.LeakyReLU', 'loss_criterion': 'nn.CrossEntropyLoss', 'num_layers': 7}. Best is trial 78 with value: 90.11764705882354.\u001b[0m\n",
      "\u001b[32m[I 2022-03-08 23:42:15,301]\u001b[0m Trial 99 finished with value: 85.88235294117646 and parameters: {'batch_size': 64, 'lr': 0.00042780260202634335, 'weight_decay': 0.0003370161815035675, 'optimizer': 'optim.Adam', 'activation': 'nn.LeakyReLU', 'loss_criterion': 'nn.CrossEntropyLoss', 'num_layers': 7}. Best is trial 78 with value: 90.11764705882354.\u001b[0m\n"
     ]
    }
   ],
   "source": [
    "def objective(trial):\n",
    "    hyperparam = NeuralNetworkHyperparam(\n",
    "        batch_size=trial.suggest_categorical(\"batch_size\", [1, 4, 16, 64, 256]),\n",
    "        lr=trial.suggest_loguniform(\"lr\", 1e-4, 1e-1),\n",
    "        weight_decay=trial.suggest_loguniform(\"weight_decay\", 1e-5, 1e-3),\n",
    "        optimizer=trial.suggest_categorical(\"optimizer\", list(optimizer_dict.keys())),\n",
    "        activation=trial.suggest_categorical(\"activation\", list(activation_dict.keys())),\n",
    "        loss_criterion=trial.suggest_categorical(\"loss_criterion\", list(loss_criterion_dict.keys())),\n",
    "        num_layers=trial.suggest_categorical(\"num_layers\", [3, 5, 7])\n",
    "    )\n",
    "    _, _, val_accuracies = train(\n",
    "        model=FullyConnected(train_X.shape[1], 3,\n",
    "                             activation=hyperparam.activation, num_layers=hyperparam.num_layers),\n",
    "        trainset=train_dataset,\n",
    "        testset=val_dataset,\n",
    "        loss_criterion=hyperparam.loss_criterion,\n",
    "        lr=hyperparam.lr,\n",
    "        batch_size=hyperparam.batch_size,\n",
    "        optimizer=hyperparam.optimizer\n",
    "    )\n",
    "    return val_accuracies[-1]\n",
    "\n",
    "study = optuna.create_study(direction='maximize')\n",
    "study.optimize(objective, n_trials=100)"
   ]
  },
  {
   "cell_type": "code",
   "execution_count": 6,
   "id": "bb144e27",
   "metadata": {},
   "outputs": [
    {
     "name": "stdout",
     "output_type": "stream",
     "text": [
      "Best hyperparameters are: {'batch_size': 4, 'lr': 0.00029712481959287323, 'weight_decay': 1.0027579021361967e-05, 'optimizer': 'optim.Adam', 'activation': 'nn.PReLU', 'loss_criterion': 'nn.CrossEntropyLoss', 'num_layers': 7}\n",
      "Best validation accuracy is: 90.11764705882354\n"
     ]
    }
   ],
   "source": [
    "print(\"Best hyperparameters are:\", study.best_params)\n",
    "print(\"Best validation accuracy is:\", study.best_value)\n"
   ]
  },
  {
   "cell_type": "code",
   "execution_count": null,
   "id": "f1fe8309",
   "metadata": {},
   "outputs": [],
   "source": []
  }
 ],
 "metadata": {
  "kernelspec": {
   "display_name": "Python 3",
   "language": "python",
   "name": "python3"
  },
  "language_info": {
   "codemirror_mode": {
    "name": "ipython",
    "version": 3
   },
   "file_extension": ".py",
   "mimetype": "text/x-python",
   "name": "python",
   "nbconvert_exporter": "python",
   "pygments_lexer": "ipython3",
   "version": "3.9.2"
  }
 },
 "nbformat": 4,
 "nbformat_minor": 5
}
