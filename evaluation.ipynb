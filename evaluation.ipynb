{
 "cells": [
  {
   "cell_type": "code",
   "execution_count": 9,
   "metadata": {},
   "outputs": [],
   "source": [
    "from data import get_data\n",
    "from neural_network import NeuralNetwork\n",
    "from randomforest.randomForestInterface import RandomForest\n",
    "import numpy as np"
   ]
  },
  {
   "cell_type": "code",
   "execution_count": 2,
   "metadata": {},
   "outputs": [],
   "source": [
    "train_X, train_y, val_X, val_y, test_X, test_y = get_data()"
   ]
  },
  {
   "cell_type": "code",
   "execution_count": 6,
   "metadata": {},
   "outputs": [
    {
     "name": "stdout",
     "output_type": "stream",
     "text": [
      "Finished training! Time elapsed: 169.44280695915222\n"
     ]
    }
   ],
   "source": [
    "models = [NeuralNetwork(), RandomForest()]\n",
    "predictions = []\n",
    "for model in models:\n",
    "  model.train(train_X, train_y, val_X, val_y)\n",
    "  predictions.append(model.predict(test_X))"
   ]
  },
  {
   "cell_type": "code",
   "execution_count": 10,
   "metadata": {},
   "outputs": [
    {
     "name": "stdout",
     "output_type": "stream",
     "text": [
      "Model 0 has an accuracy of 0.863849765258216\n",
      "Model 1 has an accuracy of 0.8497652582159625\n"
     ]
    }
   ],
   "source": [
    "for i, prediction in enumerate(predictions):\n",
    "  print(f\"Model {i} has an accuracy of {np.mean(prediction == test_y)}\")"
   ]
  },
  {
   "cell_type": "code",
   "execution_count": null,
   "metadata": {},
   "outputs": [],
   "source": []
  }
 ],
 "metadata": {
  "interpreter": {
   "hash": "cc0c8797f89a6d69e35298ae4709fccbe5e161afe95a021e6d382944c3c823f0"
  },
  "kernelspec": {
   "display_name": "Python 3.9.2 ('ml3d')",
   "language": "python",
   "name": "python3"
  },
  "language_info": {
   "codemirror_mode": {
    "name": "ipython",
    "version": 3
   },
   "file_extension": ".py",
   "mimetype": "text/x-python",
   "name": "python",
   "nbconvert_exporter": "python",
   "pygments_lexer": "ipython3",
   "version": "3.9.2"
  },
  "orig_nbformat": 4
 },
 "nbformat": 4,
 "nbformat_minor": 2
}
