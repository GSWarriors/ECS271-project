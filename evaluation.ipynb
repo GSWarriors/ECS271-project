{
 "cells": [
  {
   "cell_type": "code",
   "execution_count": 24,
   "metadata": {},
   "outputs": [],
   "source": [
    "from data import get_data\n",
    "from neural_network import NeuralNetwork\n",
    "from randomforest.randomForestInterface import RandomForest\n",
    "import numpy as np\n",
    "from sklearn.metrics import confusion_matrix, recall_score, accuracy_score, precision_score, f1_score\n",
    "import pandas as pd\n",
    "import seaborn as sn\n",
    "import matplotlib.pyplot as plt\n"
   ]
  },
  {
   "cell_type": "code",
   "execution_count": 2,
   "metadata": {},
   "outputs": [],
   "source": [
    "train_X, train_y, val_X, val_y, test_X, test_y = get_data()"
   ]
  },
  {
   "cell_type": "code",
   "execution_count": 13,
   "metadata": {},
   "outputs": [
    {
     "name": "stdout",
     "output_type": "stream",
     "text": [
      "Finished training! Time elapsed: 152.2182891368866\n"
     ]
    }
   ],
   "source": [
    "models = [NeuralNetwork(), RandomForest()]\n",
    "for model in models:\n",
    "  model.train(train_X, train_y, val_X, val_y)\n"
   ]
  },
  {
   "cell_type": "code",
   "execution_count": 25,
   "metadata": {},
   "outputs": [],
   "source": [
    "predictions = []\n",
    "confusion_matrices = []\n",
    "accuracies = []\n",
    "recalls = []\n",
    "precisions = []\n",
    "f1s = []\n",
    "for model in models:\n",
    "  pred = model.predict(test_X)\n",
    "  predictions.append(pred)\n",
    "  accuracies.append(accuracy_score(test_y, pred))\n",
    "  confusion_matrices.append(confusion_matrix(test_y, pred))\n",
    "  precisions.append(precision_score(test_y, pred, average=None))\n",
    "  recalls.append(recall_score(test_y, pred, average=None))\n",
    "  f1s.append(f1_score(test_y, pred, average=None))\n"
   ]
  },
  {
   "cell_type": "code",
   "execution_count": 28,
   "metadata": {},
   "outputs": [
    {
     "name": "stdout",
     "output_type": "stream",
     "text": [
      "Accuracies:\n",
      "Model 0 has an accuracy of 0.8427230046948356\n",
      "Model 1 has an accuracy of 0.8497652582159625\n"
     ]
    }
   ],
   "source": [
    "print(\"Accuracies:\")\n",
    "for i in range(len(models)):\n",
    "  print(f\"Model {i} has an accuracy of {accuracies[i]}\")\n"
   ]
  },
  {
   "cell_type": "code",
   "execution_count": 30,
   "metadata": {},
   "outputs": [
    {
     "name": "stdout",
     "output_type": "stream",
     "text": [
      "F1 Scores:\n",
      "Model 0 has an F1 score of [0.9165488  0.30952381 0.72131148].\n",
      "Model 1 has an F1 score of [0.9317852 0.5046729 0.5      ].\n"
     ]
    }
   ],
   "source": [
    "print(\"F1 Scores:\")\n",
    "for i in range(len(models)):\n",
    "  print(f\"Model {i} has an F1 score of {f1s[i]}.\")\n"
   ]
  },
  {
   "cell_type": "code",
   "execution_count": 31,
   "metadata": {},
   "outputs": [
    {
     "name": "stdout",
     "output_type": "stream",
     "text": [
      "Precisions:\n",
      "Model 0 has a precision score of [0.86170213 0.48148148 0.95652174].\n",
      "Model 1 has a precision score of [0.89664804 0.54       0.77777778].\n"
     ]
    }
   ],
   "source": [
    "print(\"Precisions:\")\n",
    "for i in range(len(models)):\n",
    "  print(f\"Model {i} has a precision score of {precisions[i]}.\")\n"
   ]
  },
  {
   "cell_type": "code",
   "execution_count": 32,
   "metadata": {},
   "outputs": [
    {
     "name": "stdout",
     "output_type": "stream",
     "text": [
      "Recalls:\n",
      "Model 0 has a recall score of [0.97885196 0.22807018 0.57894737].\n",
      "Model 1 has a recall score of [0.96978852 0.47368421 0.36842105].\n"
     ]
    }
   ],
   "source": [
    "print(\"Recalls:\")\n",
    "for i in range(len(models)):\n",
    "  print(f\"Model {i} has a recall score of {recalls[i]}.\")\n"
   ]
  },
  {
   "cell_type": "code",
   "execution_count": 21,
   "metadata": {},
   "outputs": [
    {
     "data": {
      "image/png": "[encoded data removed]",
      "text/plain": [
       "<Figure size 432x288 with 2 Axes>"
      ]
     },
     "metadata": {
      "needs_background": "light"
     },
     "output_type": "display_data"
    }
   ],
   "source": [
    "ax = sn.heatmap(confusion_matrices[0], annot=True, cmap='Blues')\n",
    "ax.set_title('Neural Network Confusion Matrix')\n",
    "ax.set_xlabel('Predicted Values')\n",
    "ax.set_ylabel('Actual Values ')\n",
    "ax.xaxis.set_ticklabels([0, 1, 2])\n",
    "ax.yaxis.set_ticklabels([0, 1, 2])\n",
    "plt.show()\n"
   ]
  },
  {
   "cell_type": "code",
   "execution_count": 22,
   "metadata": {},
   "outputs": [
    {
     "data": {
      "image/png": "[encoded data removed]",
      "text/plain": [
       "<Figure size 432x288 with 2 Axes>"
      ]
     },
     "metadata": {
      "needs_background": "light"
     },
     "output_type": "display_data"
    }
   ],
   "source": [
    "ax = sn.heatmap(confusion_matrices[1], annot=True, cmap='Blues')\n",
    "ax.set_title('Random Forest Confusion Matrix')\n",
    "ax.set_xlabel('Predicted Values')\n",
    "ax.set_ylabel('Actual Values ')\n",
    "ax.xaxis.set_ticklabels([0, 1, 2])\n",
    "ax.yaxis.set_ticklabels([0, 1, 2])\n",
    "plt.show()\n"
   ]
  },
  {
   "cell_type": "code",
   "execution_count": null,
   "metadata": {},
   "outputs": [],
   "source": []
  }
 ],
 "metadata": {
  "interpreter": {
   "hash": "cc0c8797f89a6d69e35298ae4709fccbe5e161afe95a021e6d382944c3c823f0"
  },
  "kernelspec": {
   "display_name": "Python 3.9.2 ('ml3d')",
   "language": "python",
   "name": "python3"
  },
  "language_info": {
   "codemirror_mode": {
    "name": "ipython",
    "version": 3
   },
   "file_extension": ".py",
   "mimetype": "text/x-python",
   "name": "python",
   "nbconvert_exporter": "python",
   "pygments_lexer": "ipython3",
   "version": "3.9.2"
  },
  "orig_nbformat": 4
 },
 "nbformat": 4,
 "nbformat_minor": 2
}
