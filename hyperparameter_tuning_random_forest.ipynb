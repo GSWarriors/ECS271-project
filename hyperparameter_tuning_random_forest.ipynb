{
 "cells": [
  {
   "cell_type": "code",
   "execution_count": 1,
   "metadata": {},
   "outputs": [],
   "source": [
    "import optuna\n",
    "import pandas as pd\n",
    "from randomForestInterface import *\n",
    "from data import *"
   ]
  },
  {
   "cell_type": "code",
   "execution_count": 2,
   "metadata": {},
   "outputs": [],
   "source": [
    "train_X, train_y, val_X, val_y, test_X, test_y = get_data()"
   ]
  },
  {
   "cell_type": "code",
   "execution_count": 3,
   "metadata": {},
   "outputs": [],
   "source": [
    "def objective(trial):\n",
    "    hyperparam = RandomForestHyperparamters(\n",
    "        num_trees = trial.suggest_int(\"num_trees\", 50, 150),\n",
    "        num_features = trial.suggest_int(\"num_features\", 2, 21),\n",
    "        max_depth = trial.suggest_int(\"max_depth\", 1, 40)\n",
    "    )\n",
    "    forest = RandomForest(hyperparam)\n",
    "    forest.train(train_X, train_y, val_X, val_y)\n",
    "    return forest.accuracy(val_X, val_y)"
   ]
  },
  {
   "cell_type": "code",
   "execution_count": null,
   "metadata": {},
   "outputs": [
    {
     "name": "stderr",
     "output_type": "stream",
     "text": [
      "\u001b[32m[I 2022-03-07 12:07:05,821]\u001b[0m A new study created in memory with name: no-name-43dfa816-4ec1-46d6-ba7a-259ed7d7a430\u001b[0m\n"
     ]
    }
   ],
   "source": [
    "study = optuna.create_study(direction='maximize')\n",
    "study.optimize(objective, n_trials=100)"
   ]
  },
  {
   "cell_type": "code",
   "execution_count": null,
   "metadata": {},
   "outputs": [],
   "source": [
    "print(\"Best hyperparameters are:\", study.best_params)\n",
    "print(\"Best validation accuracy is:\", study.best_value)"
   ]
  },
  {
   "cell_type": "code",
   "execution_count": null,
   "metadata": {},
   "outputs": [],
   "source": [
    "hyperparams = study.best_params\n",
    "forest = RandomForest(hyperparams['num_trees'], hyperparams['num_features'], hyperparams['max_depth'])\n",
    "forest.makeForest(data[:700])\n",
    "forest.getAccuracy(data[1400:])"
   ]
  },
  {
   "cell_type": "code",
   "execution_count": null,
   "metadata": {},
   "outputs": [],
   "source": []
  }
 ],
 "metadata": {
  "kernelspec": {
   "display_name": "Python 3",
   "language": "python",
   "name": "python3"
  },
  "language_info": {
   "codemirror_mode": {
    "name": "ipython",
    "version": 3
   },
   "file_extension": ".py",
   "mimetype": "text/x-python",
   "name": "python",
   "nbconvert_exporter": "python",
   "pygments_lexer": "ipython3",
   "version": "3.8.3"
  }
 },
 "nbformat": 4,
 "nbformat_minor": 4
}
