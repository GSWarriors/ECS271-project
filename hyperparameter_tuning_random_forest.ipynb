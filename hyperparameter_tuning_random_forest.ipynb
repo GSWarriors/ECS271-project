{
 "cells": [
  {
   "cell_type": "code",
   "execution_count": 22,
   "metadata": {},
   "outputs": [],
   "source": [
    "import optuna\n",
    "import pandas as pd\n",
    "from randomForest import *"
   ]
  },
  {
   "cell_type": "code",
   "execution_count": 23,
   "metadata": {},
   "outputs": [
    {
     "data": {
      "text/html": [
       "<div>\n",
       "<style scoped>\n",
       "    .dataframe tbody tr th:only-of-type {\n",
       "        vertical-align: middle;\n",
       "    }\n",
       "\n",
       "    .dataframe tbody tr th {\n",
       "        vertical-align: top;\n",
       "    }\n",
       "\n",
       "    .dataframe thead th {\n",
       "        text-align: right;\n",
       "    }\n",
       "</style>\n",
       "<table border=\"1\" class=\"dataframe\">\n",
       "  <thead>\n",
       "    <tr style=\"text-align: right;\">\n",
       "      <th></th>\n",
       "      <th>baseline value</th>\n",
       "      <th>accelerations</th>\n",
       "      <th>fetal_movement</th>\n",
       "      <th>uterine_contractions</th>\n",
       "      <th>light_decelerations</th>\n",
       "      <th>severe_decelerations</th>\n",
       "      <th>prolongued_decelerations</th>\n",
       "      <th>abnormal_short_term_variability</th>\n",
       "      <th>mean_value_of_short_term_variability</th>\n",
       "      <th>percentage_of_time_with_abnormal_long_term_variability</th>\n",
       "      <th>...</th>\n",
       "      <th>histogram_min</th>\n",
       "      <th>histogram_max</th>\n",
       "      <th>histogram_number_of_peaks</th>\n",
       "      <th>histogram_number_of_zeroes</th>\n",
       "      <th>histogram_mode</th>\n",
       "      <th>histogram_mean</th>\n",
       "      <th>histogram_median</th>\n",
       "      <th>histogram_variance</th>\n",
       "      <th>histogram_tendency</th>\n",
       "      <th>fetal_health</th>\n",
       "    </tr>\n",
       "  </thead>\n",
       "  <tbody>\n",
       "    <tr>\n",
       "      <th>4</th>\n",
       "      <td>132.0</td>\n",
       "      <td>0.007</td>\n",
       "      <td>0.000</td>\n",
       "      <td>0.008</td>\n",
       "      <td>0.000</td>\n",
       "      <td>0.0</td>\n",
       "      <td>0.0</td>\n",
       "      <td>16.0</td>\n",
       "      <td>2.4</td>\n",
       "      <td>0.0</td>\n",
       "      <td>...</td>\n",
       "      <td>53.0</td>\n",
       "      <td>170.0</td>\n",
       "      <td>9.0</td>\n",
       "      <td>0.0</td>\n",
       "      <td>137.0</td>\n",
       "      <td>136.0</td>\n",
       "      <td>138.0</td>\n",
       "      <td>11.0</td>\n",
       "      <td>1.0</td>\n",
       "      <td>1.0</td>\n",
       "    </tr>\n",
       "    <tr>\n",
       "      <th>1485</th>\n",
       "      <td>132.0</td>\n",
       "      <td>0.013</td>\n",
       "      <td>0.000</td>\n",
       "      <td>0.010</td>\n",
       "      <td>0.000</td>\n",
       "      <td>0.0</td>\n",
       "      <td>0.0</td>\n",
       "      <td>30.0</td>\n",
       "      <td>1.3</td>\n",
       "      <td>0.0</td>\n",
       "      <td>...</td>\n",
       "      <td>97.0</td>\n",
       "      <td>166.0</td>\n",
       "      <td>2.0</td>\n",
       "      <td>0.0</td>\n",
       "      <td>145.0</td>\n",
       "      <td>142.0</td>\n",
       "      <td>144.0</td>\n",
       "      <td>8.0</td>\n",
       "      <td>1.0</td>\n",
       "      <td>1.0</td>\n",
       "    </tr>\n",
       "    <tr>\n",
       "      <th>849</th>\n",
       "      <td>138.0</td>\n",
       "      <td>0.002</td>\n",
       "      <td>0.000</td>\n",
       "      <td>0.004</td>\n",
       "      <td>0.000</td>\n",
       "      <td>0.0</td>\n",
       "      <td>0.0</td>\n",
       "      <td>41.0</td>\n",
       "      <td>0.8</td>\n",
       "      <td>8.0</td>\n",
       "      <td>...</td>\n",
       "      <td>105.0</td>\n",
       "      <td>156.0</td>\n",
       "      <td>4.0</td>\n",
       "      <td>0.0</td>\n",
       "      <td>142.0</td>\n",
       "      <td>142.0</td>\n",
       "      <td>143.0</td>\n",
       "      <td>2.0</td>\n",
       "      <td>1.0</td>\n",
       "      <td>1.0</td>\n",
       "    </tr>\n",
       "    <tr>\n",
       "      <th>1575</th>\n",
       "      <td>132.0</td>\n",
       "      <td>0.000</td>\n",
       "      <td>0.000</td>\n",
       "      <td>0.003</td>\n",
       "      <td>0.003</td>\n",
       "      <td>0.0</td>\n",
       "      <td>0.0</td>\n",
       "      <td>34.0</td>\n",
       "      <td>1.0</td>\n",
       "      <td>7.0</td>\n",
       "      <td>...</td>\n",
       "      <td>83.0</td>\n",
       "      <td>149.0</td>\n",
       "      <td>7.0</td>\n",
       "      <td>1.0</td>\n",
       "      <td>136.0</td>\n",
       "      <td>133.0</td>\n",
       "      <td>137.0</td>\n",
       "      <td>7.0</td>\n",
       "      <td>1.0</td>\n",
       "      <td>1.0</td>\n",
       "    </tr>\n",
       "    <tr>\n",
       "      <th>33</th>\n",
       "      <td>120.0</td>\n",
       "      <td>0.008</td>\n",
       "      <td>0.103</td>\n",
       "      <td>0.001</td>\n",
       "      <td>0.001</td>\n",
       "      <td>0.0</td>\n",
       "      <td>0.0</td>\n",
       "      <td>28.0</td>\n",
       "      <td>3.4</td>\n",
       "      <td>0.0</td>\n",
       "      <td>...</td>\n",
       "      <td>55.0</td>\n",
       "      <td>181.0</td>\n",
       "      <td>13.0</td>\n",
       "      <td>0.0</td>\n",
       "      <td>121.0</td>\n",
       "      <td>124.0</td>\n",
       "      <td>126.0</td>\n",
       "      <td>25.0</td>\n",
       "      <td>0.0</td>\n",
       "      <td>1.0</td>\n",
       "    </tr>\n",
       "  </tbody>\n",
       "</table>\n",
       "<p>5 rows × 22 columns</p>\n",
       "</div>"
      ],
      "text/plain": [
       "      baseline value  accelerations  fetal_movement  uterine_contractions  \\\n",
       "4              132.0          0.007           0.000                 0.008   \n",
       "1485           132.0          0.013           0.000                 0.010   \n",
       "849            138.0          0.002           0.000                 0.004   \n",
       "1575           132.0          0.000           0.000                 0.003   \n",
       "33             120.0          0.008           0.103                 0.001   \n",
       "\n",
       "      light_decelerations  severe_decelerations  prolongued_decelerations  \\\n",
       "4                   0.000                   0.0                       0.0   \n",
       "1485                0.000                   0.0                       0.0   \n",
       "849                 0.000                   0.0                       0.0   \n",
       "1575                0.003                   0.0                       0.0   \n",
       "33                  0.001                   0.0                       0.0   \n",
       "\n",
       "      abnormal_short_term_variability  mean_value_of_short_term_variability  \\\n",
       "4                                16.0                                   2.4   \n",
       "1485                             30.0                                   1.3   \n",
       "849                              41.0                                   0.8   \n",
       "1575                             34.0                                   1.0   \n",
       "33                               28.0                                   3.4   \n",
       "\n",
       "      percentage_of_time_with_abnormal_long_term_variability  ...  \\\n",
       "4                                                   0.0       ...   \n",
       "1485                                                0.0       ...   \n",
       "849                                                 8.0       ...   \n",
       "1575                                                7.0       ...   \n",
       "33                                                  0.0       ...   \n",
       "\n",
       "      histogram_min  histogram_max  histogram_number_of_peaks  \\\n",
       "4              53.0          170.0                        9.0   \n",
       "1485           97.0          166.0                        2.0   \n",
       "849           105.0          156.0                        4.0   \n",
       "1575           83.0          149.0                        7.0   \n",
       "33             55.0          181.0                       13.0   \n",
       "\n",
       "      histogram_number_of_zeroes  histogram_mode  histogram_mean  \\\n",
       "4                            0.0           137.0           136.0   \n",
       "1485                         0.0           145.0           142.0   \n",
       "849                          0.0           142.0           142.0   \n",
       "1575                         1.0           136.0           133.0   \n",
       "33                           0.0           121.0           124.0   \n",
       "\n",
       "      histogram_median  histogram_variance  histogram_tendency  fetal_health  \n",
       "4                138.0                11.0                 1.0           1.0  \n",
       "1485             144.0                 8.0                 1.0           1.0  \n",
       "849              143.0                 2.0                 1.0           1.0  \n",
       "1575             137.0                 7.0                 1.0           1.0  \n",
       "33               126.0                25.0                 0.0           1.0  \n",
       "\n",
       "[5 rows x 22 columns]"
      ]
     },
     "execution_count": 23,
     "metadata": {},
     "output_type": "execute_result"
    }
   ],
   "source": [
    "data = pd.read_csv(\"fetal_health.csv\")\n",
    "data = data.iloc[np.random.permutation(len(data))]\n",
    "data.head()"
   ]
  },
  {
   "cell_type": "code",
   "execution_count": 24,
   "metadata": {},
   "outputs": [
    {
     "name": "stdout",
     "output_type": "stream",
     "text": [
      "<class 'pandas.core.frame.DataFrame'>\n",
      "Int64Index: 2126 entries, 4 to 119\n",
      "Data columns (total 22 columns):\n",
      " #   Column                                                  Non-Null Count  Dtype  \n",
      "---  ------                                                  --------------  -----  \n",
      " 0   baseline value                                          2126 non-null   float64\n",
      " 1   accelerations                                           2126 non-null   float64\n",
      " 2   fetal_movement                                          2126 non-null   float64\n",
      " 3   uterine_contractions                                    2126 non-null   float64\n",
      " 4   light_decelerations                                     2126 non-null   float64\n",
      " 5   severe_decelerations                                    2126 non-null   float64\n",
      " 6   prolongued_decelerations                                2126 non-null   float64\n",
      " 7   abnormal_short_term_variability                         2126 non-null   float64\n",
      " 8   mean_value_of_short_term_variability                    2126 non-null   float64\n",
      " 9   percentage_of_time_with_abnormal_long_term_variability  2126 non-null   float64\n",
      " 10  mean_value_of_long_term_variability                     2126 non-null   float64\n",
      " 11  histogram_width                                         2126 non-null   float64\n",
      " 12  histogram_min                                           2126 non-null   float64\n",
      " 13  histogram_max                                           2126 non-null   float64\n",
      " 14  histogram_number_of_peaks                               2126 non-null   float64\n",
      " 15  histogram_number_of_zeroes                              2126 non-null   float64\n",
      " 16  histogram_mode                                          2126 non-null   float64\n",
      " 17  histogram_mean                                          2126 non-null   float64\n",
      " 18  histogram_median                                        2126 non-null   float64\n",
      " 19  histogram_variance                                      2126 non-null   float64\n",
      " 20  histogram_tendency                                      2126 non-null   float64\n",
      " 21  fetal_health                                            2126 non-null   float64\n",
      "dtypes: float64(22)\n",
      "memory usage: 382.0 KB\n"
     ]
    }
   ],
   "source": [
    "data.info()"
   ]
  },
  {
   "cell_type": "code",
   "execution_count": 25,
   "metadata": {},
   "outputs": [],
   "source": [
    "class Hyperparamters:\n",
    "    def __init__(self, num_trees=70, num_features=3, max_depth=20):\n",
    "        self.num_trees = num_trees\n",
    "        self.num_features = num_features\n",
    "        self.max_depth = max_depth"
   ]
  },
  {
   "cell_type": "code",
   "execution_count": 26,
   "metadata": {},
   "outputs": [],
   "source": [
    "def objective(trial):\n",
    "    hyperparam = Hyperparamters(\n",
    "        num_trees = trial.suggest_int(\"num_trees\", 50, 150),\n",
    "        num_features = trial.suggest_int(\"num_features\", 2, 21),\n",
    "        max_depth = trial.suggest_int(\"max_depth\", 1, 40)\n",
    "    )\n",
    "    forest = RandomForest(hyperparam.num_trees, hyperparam.num_features, hyperparam.max_depth)\n",
    "    forest.makeForest(data[:700])\n",
    "    return forest.getAccuracy(data[700:1400])"
   ]
  },
  {
   "cell_type": "code",
   "execution_count": null,
   "metadata": {},
   "outputs": [
    {
     "name": "stderr",
     "output_type": "stream",
     "text": [
      "\u001b[32m[I 2022-03-06 10:20:32,557]\u001b[0m A new study created in memory with name: no-name-f3cce5d8-a4dd-4998-9efb-40a1fbd0e351\u001b[0m\n"
     ]
    },
    {
     "name": "stdout",
     "output_type": "stream",
     "text": [
      "Finished training! Time elapsed: 300.22376227378845\n"
     ]
    },
    {
     "name": "stderr",
     "output_type": "stream",
     "text": [
      "\u001b[32m[I 2022-03-06 10:25:34,788]\u001b[0m Trial 0 finished with value: 0.8842857142857142 and parameters: {'num_trees': 137, 'num_features': 6, 'max_depth': 40}. Best is trial 0 with value: 0.8842857142857142.\u001b[0m\n"
     ]
    },
    {
     "name": "stdout",
     "output_type": "stream",
     "text": [
      "Finished training! Time elapsed: 131.12181687355042\n"
     ]
    },
    {
     "name": "stderr",
     "output_type": "stream",
     "text": [
      "\u001b[32m[I 2022-03-06 10:27:46,609]\u001b[0m Trial 1 finished with value: 0.8842857142857142 and parameters: {'num_trees': 62, 'num_features': 6, 'max_depth': 40}. Best is trial 0 with value: 0.8842857142857142.\u001b[0m\n"
     ]
    },
    {
     "name": "stdout",
     "output_type": "stream",
     "text": [
      "Finished training! Time elapsed: 90.30003476142883\n"
     ]
    },
    {
     "name": "stderr",
     "output_type": "stream",
     "text": [
      "\u001b[32m[I 2022-03-06 10:29:17,669]\u001b[0m Trial 2 finished with value: 0.8728571428571429 and parameters: {'num_trees': 79, 'num_features': 3, 'max_depth': 40}. Best is trial 0 with value: 0.8842857142857142.\u001b[0m\n"
     ]
    },
    {
     "name": "stdout",
     "output_type": "stream",
     "text": [
      "Finished training! Time elapsed: 558.5300099849701\n"
     ]
    },
    {
     "name": "stderr",
     "output_type": "stream",
     "text": [
      "\u001b[32m[I 2022-03-06 10:38:37,781]\u001b[0m Trial 3 finished with value: 0.8871428571428571 and parameters: {'num_trees': 146, 'num_features': 14, 'max_depth': 20}. Best is trial 3 with value: 0.8871428571428571.\u001b[0m\n"
     ]
    },
    {
     "name": "stdout",
     "output_type": "stream",
     "text": [
      "Finished training! Time elapsed: 318.5847318172455\n"
     ]
    },
    {
     "name": "stderr",
     "output_type": "stream",
     "text": [
      "\u001b[32m[I 2022-03-06 10:43:57,095]\u001b[0m Trial 4 finished with value: 0.8971428571428571 and parameters: {'num_trees': 57, 'num_features': 20, 'max_depth': 23}. Best is trial 4 with value: 0.8971428571428571.\u001b[0m\n"
     ]
    },
    {
     "name": "stdout",
     "output_type": "stream",
     "text": [
      "Finished training! Time elapsed: 299.9253706932068\n"
     ]
    },
    {
     "name": "stderr",
     "output_type": "stream",
     "text": [
      "\u001b[32m[I 2022-03-06 10:48:58,350]\u001b[0m Trial 5 finished with value: 0.8728571428571429 and parameters: {'num_trees': 94, 'num_features': 10, 'max_depth': 37}. Best is trial 4 with value: 0.8971428571428571.\u001b[0m\n"
     ]
    },
    {
     "name": "stdout",
     "output_type": "stream",
     "text": [
      "Finished training! Time elapsed: 103.51472735404968\n"
     ]
    },
    {
     "name": "stderr",
     "output_type": "stream",
     "text": [
      "\u001b[32m[I 2022-03-06 10:50:42,823]\u001b[0m Trial 6 finished with value: 0.87 and parameters: {'num_trees': 91, 'num_features': 3, 'max_depth': 29}. Best is trial 4 with value: 0.8971428571428571.\u001b[0m\n"
     ]
    },
    {
     "name": "stdout",
     "output_type": "stream",
     "text": [
      "Finished training! Time elapsed: 43.208556175231934\n"
     ]
    },
    {
     "name": "stderr",
     "output_type": "stream",
     "text": [
      "\u001b[32m[I 2022-03-06 10:51:26,419]\u001b[0m Trial 7 finished with value: 0.8571428571428571 and parameters: {'num_trees': 59, 'num_features': 3, 'max_depth': 13}. Best is trial 4 with value: 0.8971428571428571.\u001b[0m\n"
     ]
    },
    {
     "name": "stdout",
     "output_type": "stream",
     "text": [
      "Finished training! Time elapsed: 416.2800030708313\n"
     ]
    },
    {
     "name": "stderr",
     "output_type": "stream",
     "text": [
      "\u001b[32m[I 2022-03-06 10:58:23,347]\u001b[0m Trial 8 finished with value: 0.8885714285714286 and parameters: {'num_trees': 137, 'num_features': 17, 'max_depth': 7}. Best is trial 4 with value: 0.8971428571428571.\u001b[0m\n"
     ]
    },
    {
     "name": "stdout",
     "output_type": "stream",
     "text": [
      "Finished training! Time elapsed: 236.5783224105835\n"
     ]
    },
    {
     "name": "stderr",
     "output_type": "stream",
     "text": [
      "\u001b[32m[I 2022-03-06 11:02:20,859]\u001b[0m Trial 9 finished with value: 0.89 and parameters: {'num_trees': 93, 'num_features': 10, 'max_depth': 16}. Best is trial 4 with value: 0.8971428571428571.\u001b[0m\n"
     ]
    },
    {
     "name": "stdout",
     "output_type": "stream",
     "text": [
      "Finished training! Time elapsed: 697.2788307666779\n"
     ]
    },
    {
     "name": "stderr",
     "output_type": "stream",
     "text": [
      "\u001b[32m[I 2022-03-06 11:13:59,887]\u001b[0m Trial 10 finished with value: 0.87 and parameters: {'num_trees': 117, 'num_features': 21, 'max_depth': 28}. Best is trial 4 with value: 0.8971428571428571.\u001b[0m\n"
     ]
    },
    {
     "name": "stdout",
     "output_type": "stream",
     "text": [
      "Finished training! Time elapsed: 337.9672005176544\n"
     ]
    },
    {
     "name": "stderr",
     "output_type": "stream",
     "text": [
      "\u001b[32m[I 2022-03-06 11:19:39,217]\u001b[0m Trial 11 finished with value: 0.8971428571428571 and parameters: {'num_trees': 116, 'num_features': 11, 'max_depth': 18}. Best is trial 4 with value: 0.8971428571428571.\u001b[0m\n"
     ]
    },
    {
     "name": "stdout",
     "output_type": "stream",
     "text": [
      "Finished training! Time elapsed: 528.6018581390381\n"
     ]
    },
    {
     "name": "stderr",
     "output_type": "stream",
     "text": [
      "\u001b[32m[I 2022-03-06 11:28:29,682]\u001b[0m Trial 12 finished with value: 0.88 and parameters: {'num_trees': 116, 'num_features': 14, 'max_depth': 26}. Best is trial 4 with value: 0.8971428571428571.\u001b[0m\n"
     ]
    },
    {
     "name": "stdout",
     "output_type": "stream",
     "text": [
      "Finished training! Time elapsed: 334.65730261802673\n"
     ]
    },
    {
     "name": "stderr",
     "output_type": "stream",
     "text": [
      "\u001b[32m[I 2022-03-06 11:34:04,887]\u001b[0m Trial 13 finished with value: 0.8914285714285715 and parameters: {'num_trees': 113, 'num_features': 20, 'max_depth': 4}. Best is trial 4 with value: 0.8971428571428571.\u001b[0m\n"
     ]
    },
    {
     "name": "stdout",
     "output_type": "stream",
     "text": [
      "Finished training! Time elapsed: 308.3971199989319\n"
     ]
    },
    {
     "name": "stderr",
     "output_type": "stream",
     "text": [
      "\u001b[32m[I 2022-03-06 11:39:14,356]\u001b[0m Trial 14 finished with value: 0.8942857142857142 and parameters: {'num_trees': 75, 'num_features': 14, 'max_depth': 21}. Best is trial 4 with value: 0.8971428571428571.\u001b[0m\n"
     ]
    },
    {
     "name": "stdout",
     "output_type": "stream",
     "text": [
      "Finished training! Time elapsed: 206.26974821090698\n"
     ]
    },
    {
     "name": "stderr",
     "output_type": "stream",
     "text": [
      "\u001b[32m[I 2022-03-06 11:42:41,076]\u001b[0m Trial 15 finished with value: 0.8914285714285715 and parameters: {'num_trees': 54, 'num_features': 18, 'max_depth': 10}. Best is trial 4 with value: 0.8971428571428571.\u001b[0m\n"
     ]
    },
    {
     "name": "stdout",
     "output_type": "stream",
     "text": [
      "Finished training! Time elapsed: 362.00340461730957\n"
     ]
    },
    {
     "name": "stderr",
     "output_type": "stream",
     "text": [
      "\u001b[32m[I 2022-03-06 11:48:44,225]\u001b[0m Trial 16 finished with value: 0.8885714285714286 and parameters: {'num_trees': 107, 'num_features': 11, 'max_depth': 22}. Best is trial 4 with value: 0.8971428571428571.\u001b[0m\n"
     ]
    },
    {
     "name": "stdout",
     "output_type": "stream",
     "text": [
      "Finished training! Time elapsed: 155.43000626564026\n"
     ]
    },
    {
     "name": "stderr",
     "output_type": "stream",
     "text": [
      "\u001b[32m[I 2022-03-06 11:51:20,316]\u001b[0m Trial 17 finished with value: 0.8857142857142857 and parameters: {'num_trees': 77, 'num_features': 8, 'max_depth': 16}. Best is trial 4 with value: 0.8971428571428571.\u001b[0m\n"
     ]
    },
    {
     "name": "stdout",
     "output_type": "stream",
     "text": [
      "Finished training! Time elapsed: 479.5127806663513\n"
     ]
    },
    {
     "name": "stderr",
     "output_type": "stream",
     "text": [
      "\u001b[32m[I 2022-03-06 11:59:20,387]\u001b[0m Trial 18 finished with value: 0.8857142857142857 and parameters: {'num_trees': 127, 'num_features': 16, 'max_depth': 33}. Best is trial 4 with value: 0.8971428571428571.\u001b[0m\n",
      "\u001b[32m[I 2022-03-06 12:00:09,994]\u001b[0m Trial 19 finished with value: 0.8871428571428571 and parameters: {'num_trees': 50, 'num_features': 13, 'max_depth': 25}. Best is trial 4 with value: 0.8971428571428571.\u001b[0m\n"
     ]
    },
    {
     "name": "stdout",
     "output_type": "stream",
     "text": [
      "Finished training! Time elapsed: 49.452216386795044\n",
      "Finished training! Time elapsed: 128.01787900924683\n"
     ]
    },
    {
     "name": "stderr",
     "output_type": "stream",
     "text": [
      "\u001b[32m[I 2022-03-06 12:02:18,280]\u001b[0m Trial 20 finished with value: 0.8885714285714286 and parameters: {'num_trees': 103, 'num_features': 19, 'max_depth': 18}. Best is trial 4 with value: 0.8971428571428571.\u001b[0m\n"
     ]
    },
    {
     "name": "stdout",
     "output_type": "stream",
     "text": [
      "Finished training! Time elapsed: 102.32566022872925\n"
     ]
    },
    {
     "name": "stderr",
     "output_type": "stream",
     "text": [
      "\u001b[32m[I 2022-03-06 12:04:01,074]\u001b[0m Trial 21 finished with value: 0.88 and parameters: {'num_trees': 73, 'num_features': 16, 'max_depth': 22}. Best is trial 4 with value: 0.8971428571428571.\u001b[0m\n"
     ]
    },
    {
     "name": "stdout",
     "output_type": "stream",
     "text": [
      "Finished training! Time elapsed: 78.68092226982117\n"
     ]
    },
    {
     "name": "stderr",
     "output_type": "stream",
     "text": [
      "\u001b[32m[I 2022-03-06 12:05:19,986]\u001b[0m Trial 22 finished with value: 0.8957142857142857 and parameters: {'num_trees': 68, 'num_features': 13, 'max_depth': 13}. Best is trial 4 with value: 0.8971428571428571.\u001b[0m\n",
      "\u001b[32m[I 2022-03-06 12:06:05,626]\u001b[0m Trial 23 finished with value: 0.8828571428571429 and parameters: {'num_trees': 65, 'num_features': 8, 'max_depth': 11}. Best is trial 4 with value: 0.8971428571428571.\u001b[0m\n"
     ]
    },
    {
     "name": "stdout",
     "output_type": "stream",
     "text": [
      "Finished training! Time elapsed: 45.476327896118164\n"
     ]
    },
    {
     "name": "stderr",
     "output_type": "stream",
     "text": [
      "\u001b[32m[I 2022-03-06 12:06:36,255]\u001b[0m Trial 24 finished with value: 0.8585714285714285 and parameters: {'num_trees': 87, 'num_features': 13, 'max_depth': 1}. Best is trial 4 with value: 0.8971428571428571.\u001b[0m\n"
     ]
    },
    {
     "name": "stdout",
     "output_type": "stream",
     "text": [
      "Finished training! Time elapsed: 30.561213731765747\n"
     ]
    },
    {
     "name": "stderr",
     "output_type": "stream",
     "text": [
      "\u001b[32m[I 2022-03-06 12:07:39,689]\u001b[0m Trial 25 finished with value: 0.8928571428571429 and parameters: {'num_trees': 68, 'num_features': 12, 'max_depth': 13}. Best is trial 4 with value: 0.8971428571428571.\u001b[0m\n"
     ]
    },
    {
     "name": "stdout",
     "output_type": "stream",
     "text": [
      "Finished training! Time elapsed: 63.24366235733032\n",
      "Finished training! Time elapsed: 95.96303820610046\n"
     ]
    },
    {
     "name": "stderr",
     "output_type": "stream",
     "text": [
      "\u001b[32m[I 2022-03-06 12:09:16,055]\u001b[0m Trial 26 finished with value: 0.8914285714285715 and parameters: {'num_trees': 126, 'num_features': 9, 'max_depth': 15}. Best is trial 4 with value: 0.8971428571428571.\u001b[0m\n",
      "\u001b[32m[I 2022-03-06 12:10:25,616]\u001b[0m Trial 27 finished with value: 0.8842857142857142 and parameters: {'num_trees': 84, 'num_features': 16, 'max_depth': 8}. Best is trial 4 with value: 0.8971428571428571.\u001b[0m\n"
     ]
    },
    {
     "name": "stdout",
     "output_type": "stream",
     "text": [
      "Finished training! Time elapsed: 69.43084120750427\n"
     ]
    },
    {
     "name": "stderr",
     "output_type": "stream",
     "text": [
      "\u001b[32m[I 2022-03-06 12:10:57,486]\u001b[0m Trial 28 finished with value: 0.8928571428571429 and parameters: {'num_trees': 58, 'num_features': 6, 'max_depth': 32}. Best is trial 4 with value: 0.8971428571428571.\u001b[0m\n"
     ]
    },
    {
     "name": "stdout",
     "output_type": "stream",
     "text": [
      "Finished training! Time elapsed: 31.683473110198975\n",
      "Finished training! Time elapsed: 157.28420090675354\n"
     ]
    },
    {
     "name": "stderr",
     "output_type": "stream",
     "text": [
      "\u001b[32m[I 2022-03-06 12:13:35,134]\u001b[0m Trial 29 finished with value: 0.8871428571428571 and parameters: {'num_trees': 125, 'num_features': 18, 'max_depth': 19}. Best is trial 4 with value: 0.8971428571428571.\u001b[0m\n"
     ]
    },
    {
     "name": "stdout",
     "output_type": "stream",
     "text": [
      "Finished training! Time elapsed: 293.710143327713\n"
     ]
    },
    {
     "name": "stderr",
     "output_type": "stream",
     "text": [
      "\u001b[32m[I 2022-03-06 12:18:31,526]\u001b[0m Trial 30 finished with value: 0.8814285714285715 and parameters: {'num_trees': 50, 'num_features': 21, 'max_depth': 26}. Best is trial 4 with value: 0.8971428571428571.\u001b[0m\n"
     ]
    },
    {
     "name": "stdout",
     "output_type": "stream",
     "text": [
      "Finished training! Time elapsed: 309.6021831035614\n"
     ]
    },
    {
     "name": "stderr",
     "output_type": "stream",
     "text": [
      "\u001b[32m[I 2022-03-06 12:23:41,760]\u001b[0m Trial 31 finished with value: 0.89 and parameters: {'num_trees': 70, 'num_features': 14, 'max_depth': 23}. Best is trial 4 with value: 0.8971428571428571.\u001b[0m\n",
      "\u001b[32m[I 2022-03-06 12:24:39,033]\u001b[0m Trial 32 finished with value: 0.8814285714285715 and parameters: {'num_trees': 63, 'num_features': 12, 'max_depth': 18}. Best is trial 4 with value: 0.8971428571428571.\u001b[0m\n"
     ]
    },
    {
     "name": "stdout",
     "output_type": "stream",
     "text": [
      "Finished training! Time elapsed: 57.087684869766235\n"
     ]
    },
    {
     "name": "stderr",
     "output_type": "stream",
     "text": [
      "\u001b[32m[I 2022-03-06 12:26:02,676]\u001b[0m Trial 33 finished with value: 0.8857142857142857 and parameters: {'num_trees': 75, 'num_features': 15, 'max_depth': 23}. Best is trial 4 with value: 0.8971428571428571.\u001b[0m\n"
     ]
    },
    {
     "name": "stdout",
     "output_type": "stream",
     "text": [
      "Finished training! Time elapsed: 83.41024494171143\n",
      "Finished training! Time elapsed: 63.26845574378967\n"
     ]
    },
    {
     "name": "stderr",
     "output_type": "stream",
     "text": [
      "\u001b[32m[I 2022-03-06 12:27:06,204]\u001b[0m Trial 34 finished with value: 0.8657142857142858 and parameters: {'num_trees': 82, 'num_features': 11, 'max_depth': 20}. Best is trial 4 with value: 0.8971428571428571.\u001b[0m\n",
      "\u001b[32m[I 2022-03-06 12:27:41,587]\u001b[0m Trial 35 finished with value: 0.88 and parameters: {'num_trees': 101, 'num_features': 5, 'max_depth': 15}. Best is trial 4 with value: 0.8971428571428571.\u001b[0m\n"
     ]
    },
    {
     "name": "stdout",
     "output_type": "stream",
     "text": [
      "Finished training! Time elapsed: 35.154956579208374\n"
     ]
    },
    {
     "name": "stderr",
     "output_type": "stream",
     "text": [
      "\u001b[32m[I 2022-03-06 12:28:47,791]\u001b[0m Trial 36 finished with value: 0.8885714285714286 and parameters: {'num_trees': 61, 'num_features': 13, 'max_depth': 30}. Best is trial 4 with value: 0.8971428571428571.\u001b[0m\n"
     ]
    },
    {
     "name": "stdout",
     "output_type": "stream",
     "text": [
      "Finished training! Time elapsed: 65.98549962043762\n"
     ]
    },
    {
     "name": "stderr",
     "output_type": "stream",
     "text": [
      "\u001b[32m[I 2022-03-06 12:29:30,999]\u001b[0m Trial 37 finished with value: 0.8828571428571429 and parameters: {'num_trees': 69, 'num_features': 10, 'max_depth': 13}. Best is trial 4 with value: 0.8971428571428571.\u001b[0m\n"
     ]
    },
    {
     "name": "stdout",
     "output_type": "stream",
     "text": [
      "Finished training! Time elapsed: 43.060970067977905\n"
     ]
    },
    {
     "name": "stderr",
     "output_type": "stream",
     "text": [
      "\u001b[32m[I 2022-03-06 12:30:25,597]\u001b[0m Trial 38 finished with value: 0.8771428571428571 and parameters: {'num_trees': 55, 'num_features': 15, 'max_depth': 17}. Best is trial 4 with value: 0.8971428571428571.\u001b[0m\n"
     ]
    },
    {
     "name": "stdout",
     "output_type": "stream",
     "text": [
      "Finished training! Time elapsed: 54.45836400985718\n",
      "Finished training! Time elapsed: 186.55248641967773\n"
     ]
    },
    {
     "name": "stderr",
     "output_type": "stream",
     "text": [
      "\u001b[32m[I 2022-03-06 12:33:32,608]\u001b[0m Trial 39 finished with value: 0.8785714285714286 and parameters: {'num_trees': 146, 'num_features': 18, 'max_depth': 21}. Best is trial 4 with value: 0.8971428571428571.\u001b[0m\n"
     ]
    },
    {
     "name": "stdout",
     "output_type": "stream",
     "text": [
      "Finished training! Time elapsed: 57.8526132106781\n"
     ]
    },
    {
     "name": "stderr",
     "output_type": "stream",
     "text": [
      "\u001b[32m[I 2022-03-06 12:34:30,721]\u001b[0m Trial 40 finished with value: 0.8842857142857142 and parameters: {'num_trees': 88, 'num_features': 8, 'max_depth': 24}. Best is trial 4 with value: 0.8971428571428571.\u001b[0m\n",
      "\u001b[32m[I 2022-03-06 12:34:53,301]\u001b[0m Trial 41 finished with value: 0.8457142857142858 and parameters: {'num_trees': 56, 'num_features': 4, 'max_depth': 35}. Best is trial 4 with value: 0.8971428571428571.\u001b[0m\n"
     ]
    },
    {
     "name": "stdout",
     "output_type": "stream",
     "text": [
      "Finished training! Time elapsed: 22.413052082061768\n"
     ]
    },
    {
     "name": "stderr",
     "output_type": "stream",
     "text": [
      "\u001b[32m[I 2022-03-06 12:35:28,577]\u001b[0m Trial 42 finished with value: 0.8928571428571429 and parameters: {'num_trees': 62, 'num_features': 6, 'max_depth': 38}. Best is trial 4 with value: 0.8971428571428571.\u001b[0m\n"
     ]
    },
    {
     "name": "stdout",
     "output_type": "stream",
     "text": [
      "Finished training! Time elapsed: 35.07204985618591\n",
      "Finished training! Time elapsed: 49.74156951904297\n"
     ]
    },
    {
     "name": "stderr",
     "output_type": "stream",
     "text": [
      "\u001b[32m[I 2022-03-06 12:36:18,586]\u001b[0m Trial 43 finished with value: 0.8528571428571429 and parameters: {'num_trees': 80, 'num_features': 7, 'max_depth': 32}. Best is trial 4 with value: 0.8971428571428571.\u001b[0m\n",
      "\u001b[32m[I 2022-03-06 12:36:30,362]\u001b[0m Trial 44 finished with value: 0.8385714285714285 and parameters: {'num_trees': 60, 'num_features': 2, 'max_depth': 27}. Best is trial 4 with value: 0.8971428571428571.\u001b[0m\n"
     ]
    },
    {
     "name": "stdout",
     "output_type": "stream",
     "text": [
      "Finished training! Time elapsed: 11.647234201431274\n"
     ]
    },
    {
     "name": "stderr",
     "output_type": "stream",
     "text": [
      "\u001b[32m[I 2022-03-06 12:37:20,459]\u001b[0m Trial 45 finished with value: 0.8942857142857142 and parameters: {'num_trees': 68, 'num_features': 12, 'max_depth': 13}. Best is trial 4 with value: 0.8971428571428571.\u001b[0m\n"
     ]
    },
    {
     "name": "stdout",
     "output_type": "stream",
     "text": [
      "Finished training! Time elapsed: 49.956217765808105\n"
     ]
    },
    {
     "name": "stderr",
     "output_type": "stream",
     "text": [
      "\u001b[32m[I 2022-03-06 12:38:02,016]\u001b[0m Trial 46 finished with value: 0.8885714285714286 and parameters: {'num_trees': 73, 'num_features': 10, 'max_depth': 10}. Best is trial 4 with value: 0.8971428571428571.\u001b[0m\n"
     ]
    },
    {
     "name": "stdout",
     "output_type": "stream",
     "text": [
      "Finished training! Time elapsed: 41.428863525390625\n"
     ]
    },
    {
     "name": "stderr",
     "output_type": "stream",
     "text": [
      "\u001b[32m[I 2022-03-06 12:39:00,200]\u001b[0m Trial 47 finished with value: 0.8971428571428571 and parameters: {'num_trees': 97, 'num_features': 12, 'max_depth': 7}. Best is trial 4 with value: 0.8971428571428571.\u001b[0m\n"
     ]
    },
    {
     "name": "stdout",
     "output_type": "stream",
     "text": [
      "Finished training! Time elapsed: 58.045554637908936\n"
     ]
    },
    {
     "name": "stderr",
     "output_type": "stream",
     "text": [
      "\u001b[32m[I 2022-03-06 12:39:47,799]\u001b[0m Trial 48 finished with value: 0.8842857142857142 and parameters: {'num_trees': 95, 'num_features': 11, 'max_depth': 6}. Best is trial 4 with value: 0.8971428571428571.\u001b[0m\n"
     ]
    },
    {
     "name": "stdout",
     "output_type": "stream",
     "text": [
      "Finished training! Time elapsed: 47.475682735443115\n"
     ]
    },
    {
     "name": "stderr",
     "output_type": "stream",
     "text": [
      "\u001b[32m[I 2022-03-06 12:40:29,935]\u001b[0m Trial 49 finished with value: 0.8914285714285715 and parameters: {'num_trees': 111, 'num_features': 9, 'max_depth': 5}. Best is trial 4 with value: 0.8971428571428571.\u001b[0m\n"
     ]
    },
    {
     "name": "stdout",
     "output_type": "stream",
     "text": [
      "Finished training! Time elapsed: 42.013920545578\n"
     ]
    },
    {
     "name": "stderr",
     "output_type": "stream",
     "text": [
      "\u001b[32m[I 2022-03-06 12:41:16,702]\u001b[0m Trial 50 finished with value: 0.8785714285714286 and parameters: {'num_trees': 121, 'num_features': 12, 'max_depth': 3}. Best is trial 4 with value: 0.8971428571428571.\u001b[0m\n"
     ]
    },
    {
     "name": "stdout",
     "output_type": "stream",
     "text": [
      "Finished training! Time elapsed: 46.67499828338623\n",
      "Finished training! Time elapsed: 356.1258683204651\n"
     ]
    },
    {
     "name": "stderr",
     "output_type": "stream",
     "text": [
      "\u001b[32m[I 2022-03-06 12:47:13,811]\u001b[0m Trial 51 finished with value: 0.9014285714285715 and parameters: {'num_trees': 138, 'num_features': 13, 'max_depth': 12}. Best is trial 51 with value: 0.9014285714285715.\u001b[0m\n"
     ]
    },
    {
     "name": "stdout",
     "output_type": "stream",
     "text": [
      "Finished training! Time elapsed: 604.6077513694763\n"
     ]
    },
    {
     "name": "stderr",
     "output_type": "stream",
     "text": [
      "\u001b[32m[I 2022-03-06 12:57:19,451]\u001b[0m Trial 52 finished with value: 0.8871428571428571 and parameters: {'num_trees': 150, 'num_features': 13, 'max_depth': 11}. Best is trial 51 with value: 0.9014285714285715.\u001b[0m\n"
     ]
    },
    {
     "name": "stdout",
     "output_type": "stream",
     "text": [
      "Finished training! Time elapsed: 379.72998428344727\n"
     ]
    },
    {
     "name": "stderr",
     "output_type": "stream",
     "text": [
      "\u001b[32m[I 2022-03-06 13:03:39,983]\u001b[0m Trial 53 finished with value: 0.8885714285714286 and parameters: {'num_trees': 135, 'num_features': 10, 'max_depth': 9}. Best is trial 51 with value: 0.9014285714285715.\u001b[0m\n"
     ]
    },
    {
     "name": "stdout",
     "output_type": "stream",
     "text": [
      "Finished training! Time elapsed: 654.3760137557983\n"
     ]
    },
    {
     "name": "stderr",
     "output_type": "stream",
     "text": [
      "\u001b[32m[I 2022-03-06 13:14:35,468]\u001b[0m Trial 54 finished with value: 0.8957142857142857 and parameters: {'num_trees': 142, 'num_features': 14, 'max_depth': 13}. Best is trial 51 with value: 0.9014285714285715.\u001b[0m\n"
     ]
    },
    {
     "name": "stdout",
     "output_type": "stream",
     "text": [
      "Finished training! Time elapsed: 607.7449429035187\n"
     ]
    },
    {
     "name": "stderr",
     "output_type": "stream",
     "text": [
      "\u001b[32m[I 2022-03-06 13:24:44,398]\u001b[0m Trial 55 finished with value: 0.8971428571428571 and parameters: {'num_trees': 135, 'num_features': 15, 'max_depth': 14}. Best is trial 51 with value: 0.9014285714285715.\u001b[0m\n"
     ]
    },
    {
     "name": "stdout",
     "output_type": "stream",
     "text": [
      "Finished training! Time elapsed: 626.2359023094177\n"
     ]
    },
    {
     "name": "stderr",
     "output_type": "stream",
     "text": [
      "\u001b[32m[I 2022-03-06 13:35:11,805]\u001b[0m Trial 56 finished with value: 0.8842857142857142 and parameters: {'num_trees': 131, 'num_features': 15, 'max_depth': 15}. Best is trial 51 with value: 0.9014285714285715.\u001b[0m\n"
     ]
    },
    {
     "name": "stdout",
     "output_type": "stream",
     "text": [
      "Finished training! Time elapsed: 500.68586325645447\n"
     ]
    },
    {
     "name": "stderr",
     "output_type": "stream",
     "text": [
      "\u001b[32m[I 2022-03-06 13:43:33,131]\u001b[0m Trial 57 finished with value: 0.8785714285714286 and parameters: {'num_trees': 140, 'num_features': 14, 'max_depth': 7}. Best is trial 51 with value: 0.9014285714285715.\u001b[0m\n"
     ]
    },
    {
     "name": "stdout",
     "output_type": "stream",
     "text": [
      "Finished training! Time elapsed: 718.9702522754669\n"
     ]
    },
    {
     "name": "stderr",
     "output_type": "stream",
     "text": [
      "\u001b[32m[I 2022-03-06 13:55:33,067]\u001b[0m Trial 58 finished with value: 0.8928571428571429 and parameters: {'num_trees': 141, 'num_features': 17, 'max_depth': 11}. Best is trial 51 with value: 0.9014285714285715.\u001b[0m\n"
     ]
    },
    {
     "name": "stdout",
     "output_type": "stream",
     "text": [
      "Finished training! Time elapsed: 830.4772555828094\n"
     ]
    },
    {
     "name": "stderr",
     "output_type": "stream",
     "text": [
      "\u001b[32m[I 2022-03-06 14:09:24,844]\u001b[0m Trial 59 finished with value: 0.8785714285714286 and parameters: {'num_trees': 133, 'num_features': 20, 'max_depth': 16}. Best is trial 51 with value: 0.9014285714285715.\u001b[0m\n"
     ]
    },
    {
     "name": "stdout",
     "output_type": "stream",
     "text": [
      "Finished training! Time elapsed: 726.9114232063293\n"
     ]
    },
    {
     "name": "stderr",
     "output_type": "stream",
     "text": [
      "\u001b[32m[I 2022-03-06 14:21:32,966]\u001b[0m Trial 60 finished with value: 0.8857142857142857 and parameters: {'num_trees': 141, 'num_features': 17, 'max_depth': 14}. Best is trial 51 with value: 0.9014285714285715.\u001b[0m\n"
     ]
    },
    {
     "name": "stdout",
     "output_type": "stream",
     "text": [
      "Finished training! Time elapsed: 588.8111698627472\n"
     ]
    },
    {
     "name": "stderr",
     "output_type": "stream",
     "text": [
      "\u001b[32m[I 2022-03-06 14:31:23,056]\u001b[0m Trial 61 finished with value: 0.89 and parameters: {'num_trees': 122, 'num_features': 13, 'max_depth': 19}. Best is trial 51 with value: 0.9014285714285715.\u001b[0m\n"
     ]
    },
    {
     "name": "stdout",
     "output_type": "stream",
     "text": [
      "Finished training! Time elapsed: 667.4542546272278\n"
     ]
    },
    {
     "name": "stderr",
     "output_type": "stream",
     "text": [
      "\u001b[32m[I 2022-03-06 14:42:31,551]\u001b[0m Trial 62 finished with value: 0.8928571428571429 and parameters: {'num_trees': 146, 'num_features': 14, 'max_depth': 12}. Best is trial 51 with value: 0.9014285714285715.\u001b[0m\n"
     ]
    },
    {
     "name": "stdout",
     "output_type": "stream",
     "text": [
      "Finished training! Time elapsed: 398.1501131057739\n"
     ]
    },
    {
     "name": "stderr",
     "output_type": "stream",
     "text": [
      "\u001b[32m[I 2022-03-06 14:49:10,425]\u001b[0m Trial 63 finished with value: 0.8885714285714286 and parameters: {'num_trees': 131, 'num_features': 11, 'max_depth': 8}. Best is trial 51 with value: 0.9014285714285715.\u001b[0m\n"
     ]
    },
    {
     "name": "stdout",
     "output_type": "stream",
     "text": [
      "Finished training! Time elapsed: 699.5206787586212\n"
     ]
    },
    {
     "name": "stderr",
     "output_type": "stream",
     "text": [
      "\u001b[32m[I 2022-03-06 15:00:51,330]\u001b[0m Trial 64 finished with value: 0.8885714285714286 and parameters: {'num_trees': 137, 'num_features': 15, 'max_depth': 17}. Best is trial 51 with value: 0.9014285714285715.\u001b[0m\n"
     ]
    },
    {
     "name": "stdout",
     "output_type": "stream",
     "text": [
      "Finished training! Time elapsed: 396.1546754837036\n"
     ]
    },
    {
     "name": "stderr",
     "output_type": "stream",
     "text": [
      "\u001b[32m[I 2022-03-06 15:07:28,269]\u001b[0m Trial 65 finished with value: 0.8914285714285715 and parameters: {'num_trees': 96, 'num_features': 12, 'max_depth': 14}. Best is trial 51 with value: 0.9014285714285715.\u001b[0m\n"
     ]
    },
    {
     "name": "stdout",
     "output_type": "stream",
     "text": [
      "Finished training! Time elapsed: 579.7342629432678\n"
     ]
    },
    {
     "name": "stderr",
     "output_type": "stream",
     "text": [
      "\u001b[32m[I 2022-03-06 15:17:08,643]\u001b[0m Trial 66 finished with value: 0.8542857142857143 and parameters: {'num_trees': 105, 'num_features': 19, 'max_depth': 10}. Best is trial 51 with value: 0.9014285714285715.\u001b[0m\n"
     ]
    },
    {
     "name": "stdout",
     "output_type": "stream",
     "text": [
      "Finished training! Time elapsed: 482.9395344257355\n"
     ]
    },
    {
     "name": "stderr",
     "output_type": "stream",
     "text": [
      "\u001b[32m[I 2022-03-06 15:25:12,429]\u001b[0m Trial 67 finished with value: 0.8885714285714286 and parameters: {'num_trees': 117, 'num_features': 13, 'max_depth': 12}. Best is trial 51 with value: 0.9014285714285715.\u001b[0m\n"
     ]
    },
    {
     "name": "stdout",
     "output_type": "stream",
     "text": [
      "Finished training! Time elapsed: 374.3274612426758\n"
     ]
    },
    {
     "name": "stderr",
     "output_type": "stream",
     "text": [
      "\u001b[32m[I 2022-03-06 15:31:27,855]\u001b[0m Trial 68 finished with value: 0.8871428571428571 and parameters: {'num_trees': 113, 'num_features': 9, 'max_depth': 18}. Best is trial 51 with value: 0.9014285714285715.\u001b[0m\n"
     ]
    },
    {
     "name": "stdout",
     "output_type": "stream",
     "text": [
      "Finished training! Time elapsed: 382.9048764705658\n"
     ]
    },
    {
     "name": "stderr",
     "output_type": "stream",
     "text": [
      "\u001b[32m[I 2022-03-06 15:37:51,649]\u001b[0m Trial 69 finished with value: 0.8828571428571429 and parameters: {'num_trees': 109, 'num_features': 16, 'max_depth': 9}. Best is trial 51 with value: 0.9014285714285715.\u001b[0m\n"
     ]
    },
    {
     "name": "stdout",
     "output_type": "stream",
     "text": [
      "Finished training! Time elapsed: 253.8808217048645\n"
     ]
    },
    {
     "name": "stderr",
     "output_type": "stream",
     "text": [
      "\u001b[32m[I 2022-03-06 15:42:06,755]\u001b[0m Trial 70 finished with value: 0.89 and parameters: {'num_trees': 129, 'num_features': 13, 'max_depth': 3}. Best is trial 51 with value: 0.9014285714285715.\u001b[0m\n"
     ]
    },
    {
     "name": "stdout",
     "output_type": "stream",
     "text": [
      "Finished training! Time elapsed: 527.4413509368896\n"
     ]
    },
    {
     "name": "stderr",
     "output_type": "stream",
     "text": [
      "\u001b[32m[I 2022-03-06 15:50:55,406]\u001b[0m Trial 71 finished with value: 0.8885714285714286 and parameters: {'num_trees': 99, 'num_features': 14, 'max_depth': 22}. Best is trial 51 with value: 0.9014285714285715.\u001b[0m\n",
      "\u001b[32m[I 2022-03-06 15:54:03,199]\u001b[0m Trial 72 finished with value: 0.8928571428571429 and parameters: {'num_trees': 67, 'num_features': 11, 'max_depth': 13}. Best is trial 51 with value: 0.9014285714285715.\u001b[0m\n"
     ]
    },
    {
     "name": "stdout",
     "output_type": "stream",
     "text": [
      "Finished training! Time elapsed: 187.62578535079956\n",
      "Finished training! Time elapsed: 100.26637268066406\n"
     ]
    },
    {
     "name": "stderr",
     "output_type": "stream",
     "text": [
      "\u001b[32m[I 2022-03-06 15:55:43,720]\u001b[0m Trial 73 finished with value: 0.8871428571428571 and parameters: {'num_trees': 91, 'num_features': 14, 'max_depth': 19}. Best is trial 51 with value: 0.9014285714285715.\u001b[0m\n"
     ]
    },
    {
     "name": "stdout",
     "output_type": "stream",
     "text": [
      "Finished training! Time elapsed: 118.43629479408264\n"
     ]
    },
    {
     "name": "stderr",
     "output_type": "stream",
     "text": [
      "\u001b[32m[I 2022-03-06 15:57:42,475]\u001b[0m Trial 74 finished with value: 0.8971428571428571 and parameters: {'num_trees': 144, 'num_features': 12, 'max_depth': 14}. Best is trial 51 with value: 0.9014285714285715.\u001b[0m\n"
     ]
    },
    {
     "name": "stdout",
     "output_type": "stream",
     "text": [
      "Finished training! Time elapsed: 192.92473244667053\n"
     ]
    },
    {
     "name": "stderr",
     "output_type": "stream",
     "text": [
      "\u001b[32m[I 2022-03-06 16:00:55,801]\u001b[0m Trial 75 finished with value: 0.8885714285714286 and parameters: {'num_trees': 147, 'num_features': 11, 'max_depth': 15}. Best is trial 51 with value: 0.9014285714285715.\u001b[0m\n"
     ]
    },
    {
     "name": "stdout",
     "output_type": "stream",
     "text": [
      "Finished training! Time elapsed: 195.94863963127136\n"
     ]
    },
    {
     "name": "stderr",
     "output_type": "stream",
     "text": [
      "\u001b[32m[I 2022-03-06 16:04:12,177]\u001b[0m Trial 76 finished with value: 0.8942857142857142 and parameters: {'num_trees': 138, 'num_features': 12, 'max_depth': 17}. Best is trial 51 with value: 0.9014285714285715.\u001b[0m\n"
     ]
    },
    {
     "name": "stdout",
     "output_type": "stream",
     "text": [
      "Finished training! Time elapsed: 193.21593952178955\n"
     ]
    },
    {
     "name": "stderr",
     "output_type": "stream",
     "text": [
      "\u001b[32m[I 2022-03-06 16:07:25,741]\u001b[0m Trial 77 finished with value: 0.8885714285714286 and parameters: {'num_trees': 144, 'num_features': 12, 'max_depth': 14}. Best is trial 51 with value: 0.9014285714285715.\u001b[0m\n"
     ]
    },
    {
     "name": "stdout",
     "output_type": "stream",
     "text": [
      "Finished training! Time elapsed: 211.25653624534607\n"
     ]
    },
    {
     "name": "stderr",
     "output_type": "stream",
     "text": [
      "\u001b[32m[I 2022-03-06 16:10:57,314]\u001b[0m Trial 78 finished with value: 0.8885714285714286 and parameters: {'num_trees': 144, 'num_features': 13, 'max_depth': 12}. Best is trial 51 with value: 0.9014285714285715.\u001b[0m\n"
     ]
    },
    {
     "name": "stdout",
     "output_type": "stream",
     "text": [
      "Finished training! Time elapsed: 254.07352542877197\n"
     ]
    },
    {
     "name": "stderr",
     "output_type": "stream",
     "text": [
      "\u001b[32m[I 2022-03-06 16:15:11,833]\u001b[0m Trial 79 finished with value: 0.8971428571428571 and parameters: {'num_trees': 139, 'num_features': 15, 'max_depth': 16}. Best is trial 51 with value: 0.9014285714285715.\u001b[0m\n"
     ]
    },
    {
     "name": "stdout",
     "output_type": "stream",
     "text": [
      "Finished training! Time elapsed: 271.3478388786316\n"
     ]
    },
    {
     "name": "stderr",
     "output_type": "stream",
     "text": [
      "\u001b[32m[I 2022-03-06 16:19:43,616]\u001b[0m Trial 80 finished with value: 0.8885714285714286 and parameters: {'num_trees': 150, 'num_features': 16, 'max_depth': 16}. Best is trial 51 with value: 0.9014285714285715.\u001b[0m\n"
     ]
    },
    {
     "name": "stdout",
     "output_type": "stream",
     "text": [
      "Finished training! Time elapsed: 212.22053956985474\n"
     ]
    },
    {
     "name": "stderr",
     "output_type": "stream",
     "text": [
      "\u001b[32m[I 2022-03-06 16:23:16,155]\u001b[0m Trial 81 finished with value: 0.8571428571428571 and parameters: {'num_trees': 134, 'num_features': 15, 'max_depth': 11}. Best is trial 51 with value: 0.9014285714285715.\u001b[0m\n"
     ]
    },
    {
     "name": "stdout",
     "output_type": "stream",
     "text": [
      "Finished training! Time elapsed: 247.70425820350647\n"
     ]
    },
    {
     "name": "stderr",
     "output_type": "stream",
     "text": [
      "\u001b[32m[I 2022-03-06 16:27:24,365]\u001b[0m Trial 82 finished with value: 0.8871428571428571 and parameters: {'num_trees': 139, 'num_features': 15, 'max_depth': 20}. Best is trial 51 with value: 0.9014285714285715.\u001b[0m\n"
     ]
    },
    {
     "name": "stdout",
     "output_type": "stream",
     "text": [
      "Finished training! Time elapsed: 160.60719752311707\n"
     ]
    },
    {
     "name": "stderr",
     "output_type": "stream",
     "text": [
      "\u001b[32m[I 2022-03-06 16:30:05,363]\u001b[0m Trial 83 finished with value: 0.8928571428571429 and parameters: {'num_trees': 143, 'num_features': 10, 'max_depth': 14}. Best is trial 51 with value: 0.9014285714285715.\u001b[0m\n"
     ]
    },
    {
     "name": "stdout",
     "output_type": "stream",
     "text": [
      "Finished training! Time elapsed: 91.11633348464966\n"
     ]
    },
    {
     "name": "stderr",
     "output_type": "stream",
     "text": [
      "\u001b[32m[I 2022-03-06 16:31:37,944]\u001b[0m Trial 84 finished with value: 0.8928571428571429 and parameters: {'num_trees': 52, 'num_features': 13, 'max_depth': 17}. Best is trial 51 with value: 0.9014285714285715.\u001b[0m\n"
     ]
    },
    {
     "name": "stdout",
     "output_type": "stream",
     "text": [
      "Finished training! Time elapsed: 280.70300030708313\n"
     ]
    },
    {
     "name": "stderr",
     "output_type": "stream",
     "text": [
      "\u001b[32m[I 2022-03-06 16:36:19,366]\u001b[0m Trial 85 finished with value: 0.8885714285714286 and parameters: {'num_trees': 136, 'num_features': 14, 'max_depth': 21}. Best is trial 51 with value: 0.9014285714285715.\u001b[0m\n"
     ]
    },
    {
     "name": "stdout",
     "output_type": "stream",
     "text": [
      "Finished training! Time elapsed: 196.00053882598877\n"
     ]
    },
    {
     "name": "stderr",
     "output_type": "stream",
     "text": [
      "\u001b[32m[I 2022-03-06 16:39:35,608]\u001b[0m Trial 86 finished with value: 0.8857142857142857 and parameters: {'num_trees': 127, 'num_features': 16, 'max_depth': 9}. Best is trial 51 with value: 0.9014285714285715.\u001b[0m\n"
     ]
    }
   ],
   "source": [
    "study = optuna.create_study(direction='maximize')\n",
    "study.optimize(objective, n_trials=100)"
   ]
  },
  {
   "cell_type": "code",
   "execution_count": null,
   "metadata": {},
   "outputs": [],
   "source": [
    "print(\"Best hyperparameters are:\", study.best_params)\n",
    "print(\"Best validation accuracy is:\", study.best_value)"
   ]
  },
  {
   "cell_type": "code",
   "execution_count": null,
   "metadata": {},
   "outputs": [],
   "source": [
    "hyperparams = study.best_params\n",
    "forest = RandomForest(hyperparams['num_trees'], hyperparams['num_features'], hyperparams['max_depth'])\n",
    "forest.makeForest(data[:700])\n",
    "forest.getAccuracy(data[1400:])"
   ]
  },
  {
   "cell_type": "code",
   "execution_count": null,
   "metadata": {},
   "outputs": [],
   "source": []
  }
 ],
 "metadata": {
  "kernelspec": {
   "display_name": "Python 3",
   "language": "python",
   "name": "python3"
  },
  "language_info": {
   "codemirror_mode": {
    "name": "ipython",
    "version": 3
   },
   "file_extension": ".py",
   "mimetype": "text/x-python",
   "name": "python",
   "nbconvert_exporter": "python",
   "pygments_lexer": "ipython3",
   "version": "3.8.3"
  }
 },
 "nbformat": 4,
 "nbformat_minor": 4
}
