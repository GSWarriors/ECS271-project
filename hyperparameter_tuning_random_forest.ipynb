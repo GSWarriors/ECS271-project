{
 "cells": [
  {
   "cell_type": "code",
   "execution_count": 2,
   "metadata": {},
   "outputs": [],
   "source": [
    "import optuna\n",
    "import pandas as pd\n",
    "from randomForest import *"
   ]
  },
  {
   "cell_type": "code",
   "execution_count": 3,
   "metadata": {},
   "outputs": [
    {
     "data": {
      "text/html": [
       "<div>\n",
       "<style scoped>\n",
       "    .dataframe tbody tr th:only-of-type {\n",
       "        vertical-align: middle;\n",
       "    }\n",
       "\n",
       "    .dataframe tbody tr th {\n",
       "        vertical-align: top;\n",
       "    }\n",
       "\n",
       "    .dataframe thead th {\n",
       "        text-align: right;\n",
       "    }\n",
       "</style>\n",
       "<table border=\"1\" class=\"dataframe\">\n",
       "  <thead>\n",
       "    <tr style=\"text-align: right;\">\n",
       "      <th></th>\n",
       "      <th>baseline value</th>\n",
       "      <th>accelerations</th>\n",
       "      <th>fetal_movement</th>\n",
       "      <th>uterine_contractions</th>\n",
       "      <th>light_decelerations</th>\n",
       "      <th>severe_decelerations</th>\n",
       "      <th>prolongued_decelerations</th>\n",
       "      <th>abnormal_short_term_variability</th>\n",
       "      <th>mean_value_of_short_term_variability</th>\n",
       "      <th>percentage_of_time_with_abnormal_long_term_variability</th>\n",
       "      <th>...</th>\n",
       "      <th>histogram_min</th>\n",
       "      <th>histogram_max</th>\n",
       "      <th>histogram_number_of_peaks</th>\n",
       "      <th>histogram_number_of_zeroes</th>\n",
       "      <th>histogram_mode</th>\n",
       "      <th>histogram_mean</th>\n",
       "      <th>histogram_median</th>\n",
       "      <th>histogram_variance</th>\n",
       "      <th>histogram_tendency</th>\n",
       "      <th>fetal_health</th>\n",
       "    </tr>\n",
       "  </thead>\n",
       "  <tbody>\n",
       "    <tr>\n",
       "      <th>0</th>\n",
       "      <td>120.0</td>\n",
       "      <td>0.000</td>\n",
       "      <td>0.0</td>\n",
       "      <td>0.000</td>\n",
       "      <td>0.000</td>\n",
       "      <td>0.0</td>\n",
       "      <td>0.0</td>\n",
       "      <td>73.0</td>\n",
       "      <td>0.5</td>\n",
       "      <td>43.0</td>\n",
       "      <td>...</td>\n",
       "      <td>62.0</td>\n",
       "      <td>126.0</td>\n",
       "      <td>2.0</td>\n",
       "      <td>0.0</td>\n",
       "      <td>120.0</td>\n",
       "      <td>137.0</td>\n",
       "      <td>121.0</td>\n",
       "      <td>73.0</td>\n",
       "      <td>1.0</td>\n",
       "      <td>2.0</td>\n",
       "    </tr>\n",
       "    <tr>\n",
       "      <th>1</th>\n",
       "      <td>132.0</td>\n",
       "      <td>0.006</td>\n",
       "      <td>0.0</td>\n",
       "      <td>0.006</td>\n",
       "      <td>0.003</td>\n",
       "      <td>0.0</td>\n",
       "      <td>0.0</td>\n",
       "      <td>17.0</td>\n",
       "      <td>2.1</td>\n",
       "      <td>0.0</td>\n",
       "      <td>...</td>\n",
       "      <td>68.0</td>\n",
       "      <td>198.0</td>\n",
       "      <td>6.0</td>\n",
       "      <td>1.0</td>\n",
       "      <td>141.0</td>\n",
       "      <td>136.0</td>\n",
       "      <td>140.0</td>\n",
       "      <td>12.0</td>\n",
       "      <td>0.0</td>\n",
       "      <td>1.0</td>\n",
       "    </tr>\n",
       "    <tr>\n",
       "      <th>2</th>\n",
       "      <td>133.0</td>\n",
       "      <td>0.003</td>\n",
       "      <td>0.0</td>\n",
       "      <td>0.008</td>\n",
       "      <td>0.003</td>\n",
       "      <td>0.0</td>\n",
       "      <td>0.0</td>\n",
       "      <td>16.0</td>\n",
       "      <td>2.1</td>\n",
       "      <td>0.0</td>\n",
       "      <td>...</td>\n",
       "      <td>68.0</td>\n",
       "      <td>198.0</td>\n",
       "      <td>5.0</td>\n",
       "      <td>1.0</td>\n",
       "      <td>141.0</td>\n",
       "      <td>135.0</td>\n",
       "      <td>138.0</td>\n",
       "      <td>13.0</td>\n",
       "      <td>0.0</td>\n",
       "      <td>1.0</td>\n",
       "    </tr>\n",
       "    <tr>\n",
       "      <th>3</th>\n",
       "      <td>134.0</td>\n",
       "      <td>0.003</td>\n",
       "      <td>0.0</td>\n",
       "      <td>0.008</td>\n",
       "      <td>0.003</td>\n",
       "      <td>0.0</td>\n",
       "      <td>0.0</td>\n",
       "      <td>16.0</td>\n",
       "      <td>2.4</td>\n",
       "      <td>0.0</td>\n",
       "      <td>...</td>\n",
       "      <td>53.0</td>\n",
       "      <td>170.0</td>\n",
       "      <td>11.0</td>\n",
       "      <td>0.0</td>\n",
       "      <td>137.0</td>\n",
       "      <td>134.0</td>\n",
       "      <td>137.0</td>\n",
       "      <td>13.0</td>\n",
       "      <td>1.0</td>\n",
       "      <td>1.0</td>\n",
       "    </tr>\n",
       "    <tr>\n",
       "      <th>4</th>\n",
       "      <td>132.0</td>\n",
       "      <td>0.007</td>\n",
       "      <td>0.0</td>\n",
       "      <td>0.008</td>\n",
       "      <td>0.000</td>\n",
       "      <td>0.0</td>\n",
       "      <td>0.0</td>\n",
       "      <td>16.0</td>\n",
       "      <td>2.4</td>\n",
       "      <td>0.0</td>\n",
       "      <td>...</td>\n",
       "      <td>53.0</td>\n",
       "      <td>170.0</td>\n",
       "      <td>9.0</td>\n",
       "      <td>0.0</td>\n",
       "      <td>137.0</td>\n",
       "      <td>136.0</td>\n",
       "      <td>138.0</td>\n",
       "      <td>11.0</td>\n",
       "      <td>1.0</td>\n",
       "      <td>1.0</td>\n",
       "    </tr>\n",
       "  </tbody>\n",
       "</table>\n",
       "<p>5 rows × 22 columns</p>\n",
       "</div>"
      ],
      "text/plain": [
       "   baseline value  accelerations  fetal_movement  uterine_contractions  \\\n",
       "0           120.0          0.000             0.0                 0.000   \n",
       "1           132.0          0.006             0.0                 0.006   \n",
       "2           133.0          0.003             0.0                 0.008   \n",
       "3           134.0          0.003             0.0                 0.008   \n",
       "4           132.0          0.007             0.0                 0.008   \n",
       "\n",
       "   light_decelerations  severe_decelerations  prolongued_decelerations  \\\n",
       "0                0.000                   0.0                       0.0   \n",
       "1                0.003                   0.0                       0.0   \n",
       "2                0.003                   0.0                       0.0   \n",
       "3                0.003                   0.0                       0.0   \n",
       "4                0.000                   0.0                       0.0   \n",
       "\n",
       "   abnormal_short_term_variability  mean_value_of_short_term_variability  \\\n",
       "0                             73.0                                   0.5   \n",
       "1                             17.0                                   2.1   \n",
       "2                             16.0                                   2.1   \n",
       "3                             16.0                                   2.4   \n",
       "4                             16.0                                   2.4   \n",
       "\n",
       "   percentage_of_time_with_abnormal_long_term_variability  ...  histogram_min  \\\n",
       "0                                               43.0       ...           62.0   \n",
       "1                                                0.0       ...           68.0   \n",
       "2                                                0.0       ...           68.0   \n",
       "3                                                0.0       ...           53.0   \n",
       "4                                                0.0       ...           53.0   \n",
       "\n",
       "   histogram_max  histogram_number_of_peaks  histogram_number_of_zeroes  \\\n",
       "0          126.0                        2.0                         0.0   \n",
       "1          198.0                        6.0                         1.0   \n",
       "2          198.0                        5.0                         1.0   \n",
       "3          170.0                       11.0                         0.0   \n",
       "4          170.0                        9.0                         0.0   \n",
       "\n",
       "   histogram_mode  histogram_mean  histogram_median  histogram_variance  \\\n",
       "0           120.0           137.0             121.0                73.0   \n",
       "1           141.0           136.0             140.0                12.0   \n",
       "2           141.0           135.0             138.0                13.0   \n",
       "3           137.0           134.0             137.0                13.0   \n",
       "4           137.0           136.0             138.0                11.0   \n",
       "\n",
       "   histogram_tendency  fetal_health  \n",
       "0                 1.0           2.0  \n",
       "1                 0.0           1.0  \n",
       "2                 0.0           1.0  \n",
       "3                 1.0           1.0  \n",
       "4                 1.0           1.0  \n",
       "\n",
       "[5 rows x 22 columns]"
      ]
     },
     "execution_count": 3,
     "metadata": {},
     "output_type": "execute_result"
    }
   ],
   "source": [
    "data = pd.read_csv(\"fetal_health.csv\")\n",
    "data.iloc[np.random.permutation(len(data))]\n",
    "data.head()"
   ]
  },
  {
   "cell_type": "code",
   "execution_count": 4,
   "metadata": {},
   "outputs": [
    {
     "name": "stdout",
     "output_type": "stream",
     "text": [
      "<class 'pandas.core.frame.DataFrame'>\n",
      "RangeIndex: 2126 entries, 0 to 2125\n",
      "Data columns (total 22 columns):\n",
      " #   Column                                                  Non-Null Count  Dtype  \n",
      "---  ------                                                  --------------  -----  \n",
      " 0   baseline value                                          2126 non-null   float64\n",
      " 1   accelerations                                           2126 non-null   float64\n",
      " 2   fetal_movement                                          2126 non-null   float64\n",
      " 3   uterine_contractions                                    2126 non-null   float64\n",
      " 4   light_decelerations                                     2126 non-null   float64\n",
      " 5   severe_decelerations                                    2126 non-null   float64\n",
      " 6   prolongued_decelerations                                2126 non-null   float64\n",
      " 7   abnormal_short_term_variability                         2126 non-null   float64\n",
      " 8   mean_value_of_short_term_variability                    2126 non-null   float64\n",
      " 9   percentage_of_time_with_abnormal_long_term_variability  2126 non-null   float64\n",
      " 10  mean_value_of_long_term_variability                     2126 non-null   float64\n",
      " 11  histogram_width                                         2126 non-null   float64\n",
      " 12  histogram_min                                           2126 non-null   float64\n",
      " 13  histogram_max                                           2126 non-null   float64\n",
      " 14  histogram_number_of_peaks                               2126 non-null   float64\n",
      " 15  histogram_number_of_zeroes                              2126 non-null   float64\n",
      " 16  histogram_mode                                          2126 non-null   float64\n",
      " 17  histogram_mean                                          2126 non-null   float64\n",
      " 18  histogram_median                                        2126 non-null   float64\n",
      " 19  histogram_variance                                      2126 non-null   float64\n",
      " 20  histogram_tendency                                      2126 non-null   float64\n",
      " 21  fetal_health                                            2126 non-null   float64\n",
      "dtypes: float64(22)\n",
      "memory usage: 365.5 KB\n"
     ]
    }
   ],
   "source": [
    "data.info()"
   ]
  },
  {
   "cell_type": "code",
   "execution_count": 8,
   "metadata": {},
   "outputs": [],
   "source": [
    "class Hyperparamters:\n",
    "    def __init__(self, num_trees=70, num_features=3, max_depth=20):\n",
    "        self.num_trees = num_trees\n",
    "        self.num_features = num_features\n",
    "        self.max_depth = max_depth"
   ]
  },
  {
   "cell_type": "code",
   "execution_count": 13,
   "metadata": {},
   "outputs": [],
   "source": [
    "def objective(trial):\n",
    "    hyperparam = Hyperparamters(\n",
    "        num_trees = trial.suggest_int(\"num_trees\", 50, 150),\n",
    "        num_features = trial.suggest_int(\"num_features\", 2, 21),\n",
    "        max_depth = trial.suggest_int(\"max_depth\", 1, 40)\n",
    "    )\n",
    "    forest = RandomForest(hyperparam.num_trees, hyperparam.num_features, hyperparam.max_depth)\n",
    "    forest.makeForest(data[:700])\n",
    "    return forest.getAccuracy(data[700:1400])"
   ]
  },
  {
   "cell_type": "code",
   "execution_count": 14,
   "metadata": {},
   "outputs": [
    {
     "name": "stderr",
     "output_type": "stream",
     "text": [
      "\u001b[32m[I 2022-03-05 10:42:23,453]\u001b[0m A new study created in memory with name: no-name-2e4429ef-6f24-40ae-9367-30401916cb17\u001b[0m\n"
     ]
    },
    {
     "name": "stdout",
     "output_type": "stream",
     "text": [
      "Finished training! Time elapsed: 198.81440567970276\n"
     ]
    },
    {
     "name": "stderr",
     "output_type": "stream",
     "text": [
      "\u001b[32m[I 2022-03-05 10:45:42,956]\u001b[0m Trial 0 finished with value: 0.9385714285714286 and parameters: {'num_trees': 73, 'num_features': 12, 'max_depth': 32}. Best is trial 0 with value: 0.9385714285714286.\u001b[0m\n"
     ]
    },
    {
     "name": "stdout",
     "output_type": "stream",
     "text": [
      "Finished training! Time elapsed: 254.78541016578674\n"
     ]
    },
    {
     "name": "stderr",
     "output_type": "stream",
     "text": [
      "\u001b[32m[I 2022-03-05 10:49:58,778]\u001b[0m Trial 1 finished with value: 0.9357142857142857 and parameters: {'num_trees': 93, 'num_features': 15, 'max_depth': 15}. Best is trial 0 with value: 0.9385714285714286.\u001b[0m\n"
     ]
    },
    {
     "name": "stdout",
     "output_type": "stream",
     "text": [
      "Finished training! Time elapsed: 218.6233515739441\n"
     ]
    },
    {
     "name": "stderr",
     "output_type": "stream",
     "text": [
      "\u001b[32m[I 2022-03-05 10:53:38,128]\u001b[0m Trial 2 finished with value: 0.9285714285714286 and parameters: {'num_trees': 144, 'num_features': 8, 'max_depth': 10}. Best is trial 0 with value: 0.9385714285714286.\u001b[0m\n"
     ]
    },
    {
     "name": "stdout",
     "output_type": "stream",
     "text": [
      "Finished training! Time elapsed: 6116.315807580948\n"
     ]
    },
    {
     "name": "stderr",
     "output_type": "stream",
     "text": [
      "\u001b[32m[I 2022-03-05 12:35:34,813]\u001b[0m Trial 3 finished with value: 0.9342857142857143 and parameters: {'num_trees': 136, 'num_features': 12, 'max_depth': 30}. Best is trial 0 with value: 0.9385714285714286.\u001b[0m\n",
      "\u001b[32m[I 2022-03-05 12:35:57,382]\u001b[0m Trial 4 finished with value: 0.9285714285714286 and parameters: {'num_trees': 55, 'num_features': 6, 'max_depth': 31}. Best is trial 0 with value: 0.9385714285714286.\u001b[0m\n"
     ]
    },
    {
     "name": "stdout",
     "output_type": "stream",
     "text": [
      "Finished training! Time elapsed: 22.451038122177124\n",
      "Finished training! Time elapsed: 117.50876879692078\n"
     ]
    },
    {
     "name": "stderr",
     "output_type": "stream",
     "text": [
      "\u001b[32m[I 2022-03-05 12:37:55,172]\u001b[0m Trial 5 finished with value: 0.9442857142857143 and parameters: {'num_trees': 114, 'num_features': 19, 'max_depth': 23}. Best is trial 5 with value: 0.9442857142857143.\u001b[0m\n"
     ]
    },
    {
     "name": "stdout",
     "output_type": "stream",
     "text": [
      "Finished training! Time elapsed: 118.89645051956177\n"
     ]
    },
    {
     "name": "stderr",
     "output_type": "stream",
     "text": [
      "\u001b[32m[I 2022-03-05 12:39:54,377]\u001b[0m Trial 6 finished with value: 0.94 and parameters: {'num_trees': 110, 'num_features': 15, 'max_depth': 38}. Best is trial 5 with value: 0.9442857142857143.\u001b[0m\n"
     ]
    },
    {
     "name": "stdout",
     "output_type": "stream",
     "text": [
      "Finished training! Time elapsed: 74.05633115768433\n"
     ]
    },
    {
     "name": "stderr",
     "output_type": "stream",
     "text": [
      "\u001b[32m[I 2022-03-05 12:41:08,769]\u001b[0m Trial 7 finished with value: 0.93 and parameters: {'num_trees': 146, 'num_features': 8, 'max_depth': 26}. Best is trial 5 with value: 0.9442857142857143.\u001b[0m\n",
      "\u001b[32m[I 2022-03-05 12:41:15,611]\u001b[0m Trial 8 finished with value: 0.9242857142857143 and parameters: {'num_trees': 66, 'num_features': 2, 'max_depth': 11}. Best is trial 5 with value: 0.9442857142857143.\u001b[0m\n"
     ]
    },
    {
     "name": "stdout",
     "output_type": "stream",
     "text": [
      "Finished training! Time elapsed: 6.763037204742432\n",
      "Finished training! Time elapsed: 165.86105918884277\n"
     ]
    },
    {
     "name": "stderr",
     "output_type": "stream",
     "text": [
      "\u001b[32m[I 2022-03-05 12:44:01,896]\u001b[0m Trial 9 finished with value: 0.9442857142857143 and parameters: {'num_trees': 145, 'num_features': 19, 'max_depth': 25}. Best is trial 5 with value: 0.9442857142857143.\u001b[0m\n",
      "\u001b[32m[I 2022-03-05 12:45:14,486]\u001b[0m Trial 10 finished with value: 0.9542857142857143 and parameters: {'num_trees': 116, 'num_features': 21, 'max_depth': 3}. Best is trial 10 with value: 0.9542857142857143.\u001b[0m\n"
     ]
    },
    {
     "name": "stdout",
     "output_type": "stream",
     "text": [
      "Finished training! Time elapsed: 72.46897912025452\n"
     ]
    },
    {
     "name": "stderr",
     "output_type": "stream",
     "text": [
      "\u001b[32m[I 2022-03-05 12:46:00,744]\u001b[0m Trial 11 finished with value: 0.9485714285714286 and parameters: {'num_trees': 114, 'num_features': 21, 'max_depth': 1}. Best is trial 10 with value: 0.9542857142857143.\u001b[0m\n"
     ]
    },
    {
     "name": "stdout",
     "output_type": "stream",
     "text": [
      "Finished training! Time elapsed: 46.20600891113281\n"
     ]
    },
    {
     "name": "stderr",
     "output_type": "stream",
     "text": [
      "\u001b[32m[I 2022-03-05 12:46:51,668]\u001b[0m Trial 12 finished with value: 0.9485714285714286 and parameters: {'num_trees': 123, 'num_features': 21, 'max_depth': 1}. Best is trial 10 with value: 0.9542857142857143.\u001b[0m\n"
     ]
    },
    {
     "name": "stdout",
     "output_type": "stream",
     "text": [
      "Finished training! Time elapsed: 50.86644148826599\n"
     ]
    },
    {
     "name": "stderr",
     "output_type": "stream",
     "text": [
      "\u001b[32m[I 2022-03-05 12:47:29,239]\u001b[0m Trial 13 finished with value: 0.9485714285714286 and parameters: {'num_trees': 93, 'num_features': 21, 'max_depth': 1}. Best is trial 10 with value: 0.9542857142857143.\u001b[0m\n"
     ]
    },
    {
     "name": "stdout",
     "output_type": "stream",
     "text": [
      "Finished training! Time elapsed: 37.52094864845276\n"
     ]
    },
    {
     "name": "stderr",
     "output_type": "stream",
     "text": [
      "\u001b[32m[I 2022-03-05 12:48:46,918]\u001b[0m Trial 14 finished with value: 0.9428571428571428 and parameters: {'num_trees': 125, 'num_features': 16, 'max_depth': 6}. Best is trial 10 with value: 0.9542857142857143.\u001b[0m\n"
     ]
    },
    {
     "name": "stdout",
     "output_type": "stream",
     "text": [
      "Finished training! Time elapsed: 77.5300190448761\n",
      "Finished training! Time elapsed: 307.81199765205383\n"
     ]
    },
    {
     "name": "stderr",
     "output_type": "stream",
     "text": [
      "\u001b[32m[I 2022-03-05 12:53:55,492]\u001b[0m Trial 15 finished with value: 0.9414285714285714 and parameters: {'num_trees': 101, 'num_features': 18, 'max_depth': 17}. Best is trial 10 with value: 0.9542857142857143.\u001b[0m\n"
     ]
    },
    {
     "name": "stdout",
     "output_type": "stream",
     "text": [
      "Finished training! Time elapsed: 359.5536642074585\n"
     ]
    },
    {
     "name": "stderr",
     "output_type": "stream",
     "text": [
      "\u001b[32m[I 2022-03-05 12:59:55,362]\u001b[0m Trial 16 finished with value: 0.94 and parameters: {'num_trees': 83, 'num_features': 21, 'max_depth': 6}. Best is trial 10 with value: 0.9542857142857143.\u001b[0m\n",
      "\u001b[32m[I 2022-03-05 13:01:57,380]\u001b[0m Trial 17 finished with value: 0.94 and parameters: {'num_trees': 92, 'num_features': 17, 'max_depth': 6}. Best is trial 10 with value: 0.9542857142857143.\u001b[0m\n"
     ]
    },
    {
     "name": "stdout",
     "output_type": "stream",
     "text": [
      "Finished training! Time elapsed: 121.89304804801941\n"
     ]
    },
    {
     "name": "stderr",
     "output_type": "stream",
     "text": [
      "\u001b[32m[I 2022-03-05 13:03:00,559]\u001b[0m Trial 18 finished with value: 0.9385714285714286 and parameters: {'num_trees': 82, 'num_features': 14, 'max_depth': 15}. Best is trial 10 with value: 0.9542857142857143.\u001b[0m\n"
     ]
    },
    {
     "name": "stdout",
     "output_type": "stream",
     "text": [
      "Finished training! Time elapsed: 62.99748754501343\n"
     ]
    },
    {
     "name": "stderr",
     "output_type": "stream",
     "text": [
      "\u001b[32m[I 2022-03-05 13:03:39,267]\u001b[0m Trial 19 finished with value: 0.9485714285714286 and parameters: {'num_trees': 100, 'num_features': 19, 'max_depth': 1}. Best is trial 10 with value: 0.9542857142857143.\u001b[0m\n"
     ]
    },
    {
     "name": "stdout",
     "output_type": "stream",
     "text": [
      "Finished training! Time elapsed: 38.65896964073181\n"
     ]
    },
    {
     "name": "stderr",
     "output_type": "stream",
     "text": [
      "\u001b[32m[I 2022-03-05 13:05:23,297]\u001b[0m Trial 20 finished with value: 0.9442857142857143 and parameters: {'num_trees': 127, 'num_features': 18, 'max_depth': 10}. Best is trial 10 with value: 0.9542857142857143.\u001b[0m\n"
     ]
    },
    {
     "name": "stdout",
     "output_type": "stream",
     "text": [
      "Finished training! Time elapsed: 103.8165192604065\n"
     ]
    },
    {
     "name": "stderr",
     "output_type": "stream",
     "text": [
      "\u001b[32m[I 2022-03-05 13:06:14,634]\u001b[0m Trial 21 finished with value: 0.9485714285714286 and parameters: {'num_trees': 125, 'num_features': 21, 'max_depth': 1}. Best is trial 10 with value: 0.9542857142857143.\u001b[0m\n"
     ]
    },
    {
     "name": "stdout",
     "output_type": "stream",
     "text": [
      "Finished training! Time elapsed: 51.27715468406677\n"
     ]
    },
    {
     "name": "stderr",
     "output_type": "stream",
     "text": [
      "\u001b[32m[I 2022-03-05 13:07:13,861]\u001b[0m Trial 22 finished with value: 0.9514285714285714 and parameters: {'num_trees': 102, 'num_features': 19, 'max_depth': 3}. Best is trial 10 with value: 0.9542857142857143.\u001b[0m\n"
     ]
    },
    {
     "name": "stdout",
     "output_type": "stream",
     "text": [
      "Finished training! Time elapsed: 59.14451360702515\n"
     ]
    },
    {
     "name": "stderr",
     "output_type": "stream",
     "text": [
      "\u001b[32m[I 2022-03-05 13:08:26,598]\u001b[0m Trial 23 finished with value: 0.9414285714285714 and parameters: {'num_trees': 105, 'num_features': 19, 'max_depth': 5}. Best is trial 10 with value: 0.9542857142857143.\u001b[0m\n"
     ]
    },
    {
     "name": "stdout",
     "output_type": "stream",
     "text": [
      "Finished training! Time elapsed: 72.6267340183258\n"
     ]
    },
    {
     "name": "stderr",
     "output_type": "stream",
     "text": [
      "\u001b[32m[I 2022-03-05 13:09:32,964]\u001b[0m Trial 24 finished with value: 0.9471428571428572 and parameters: {'num_trees': 116, 'num_features': 17, 'max_depth': 4}. Best is trial 10 with value: 0.9542857142857143.\u001b[0m\n"
     ]
    },
    {
     "name": "stdout",
     "output_type": "stream",
     "text": [
      "Finished training! Time elapsed: 66.2572751045227\n"
     ]
    },
    {
     "name": "stderr",
     "output_type": "stream",
     "text": [
      "\u001b[32m[I 2022-03-05 13:11:30,140]\u001b[0m Trial 25 finished with value: 0.9428571428571428 and parameters: {'num_trees': 121, 'num_features': 20, 'max_depth': 9}. Best is trial 10 with value: 0.9542857142857143.\u001b[0m\n"
     ]
    },
    {
     "name": "stdout",
     "output_type": "stream",
     "text": [
      "Finished training! Time elapsed: 116.98406219482422\n",
      "Finished training! Time elapsed: 102.5920422077179\n"
     ]
    },
    {
     "name": "stderr",
     "output_type": "stream",
     "text": [
      "\u001b[32m[I 2022-03-05 13:13:12,994]\u001b[0m Trial 26 finished with value: 0.94 and parameters: {'num_trees': 137, 'num_features': 14, 'max_depth': 13}. Best is trial 10 with value: 0.9542857142857143.\u001b[0m\n",
      "\u001b[32m[I 2022-03-05 13:14:07,759]\u001b[0m Trial 27 finished with value: 0.9442857142857143 and parameters: {'num_trees': 94, 'num_features': 10, 'max_depth': 18}. Best is trial 10 with value: 0.9542857142857143.\u001b[0m\n"
     ]
    },
    {
     "name": "stdout",
     "output_type": "stream",
     "text": [
      "Finished training! Time elapsed: 54.54993915557861\n"
     ]
    },
    {
     "name": "stderr",
     "output_type": "stream",
     "text": [
      "\u001b[32m[I 2022-03-05 13:15:23,610]\u001b[0m Trial 28 finished with value: 0.9485714285714286 and parameters: {'num_trees': 86, 'num_features': 20, 'max_depth': 8}. Best is trial 10 with value: 0.9542857142857143.\u001b[0m\n"
     ]
    },
    {
     "name": "stdout",
     "output_type": "stream",
     "text": [
      "Finished training! Time elapsed: 75.72683548927307\n"
     ]
    },
    {
     "name": "stderr",
     "output_type": "stream",
     "text": [
      "\u001b[32m[I 2022-03-05 13:16:01,513]\u001b[0m Trial 29 finished with value: 0.9328571428571428 and parameters: {'num_trees': 77, 'num_features': 12, 'max_depth': 7}. Best is trial 10 with value: 0.9542857142857143.\u001b[0m\n"
     ]
    },
    {
     "name": "stdout",
     "output_type": "stream",
     "text": [
      "Finished training! Time elapsed: 37.801774978637695\n"
     ]
    },
    {
     "name": "stderr",
     "output_type": "stream",
     "text": [
      "\u001b[32m[I 2022-03-05 13:17:10,969]\u001b[0m Trial 30 finished with value: 0.9442857142857143 and parameters: {'num_trees': 133, 'num_features': 17, 'max_depth': 3}. Best is trial 10 with value: 0.9542857142857143.\u001b[0m\n"
     ]
    },
    {
     "name": "stdout",
     "output_type": "stream",
     "text": [
      "Finished training! Time elapsed: 69.34931206703186\n"
     ]
    },
    {
     "name": "stderr",
     "output_type": "stream",
     "text": [
      "\u001b[32m[I 2022-03-05 13:18:19,803]\u001b[0m Trial 31 finished with value: 0.9428571428571428 and parameters: {'num_trees': 107, 'num_features': 21, 'max_depth': 3}. Best is trial 10 with value: 0.9542857142857143.\u001b[0m\n"
     ]
    },
    {
     "name": "stdout",
     "output_type": "stream",
     "text": [
      "Finished training! Time elapsed: 68.74941492080688\n"
     ]
    },
    {
     "name": "stderr",
     "output_type": "stream",
     "text": [
      "\u001b[32m[I 2022-03-05 13:19:17,955]\u001b[0m Trial 32 finished with value: 0.9514285714285714 and parameters: {'num_trees': 98, 'num_features': 20, 'max_depth': 3}. Best is trial 10 with value: 0.9542857142857143.\u001b[0m\n"
     ]
    },
    {
     "name": "stdout",
     "output_type": "stream",
     "text": [
      "Finished training! Time elapsed: 58.066092014312744\n"
     ]
    },
    {
     "name": "stderr",
     "output_type": "stream",
     "text": [
      "\u001b[32m[I 2022-03-05 13:21:14,924]\u001b[0m Trial 33 finished with value: 0.9414285714285714 and parameters: {'num_trees': 114, 'num_features': 20, 'max_depth': 13}. Best is trial 10 with value: 0.9542857142857143.\u001b[0m\n"
     ]
    },
    {
     "name": "stdout",
     "output_type": "stream",
     "text": [
      "Finished training! Time elapsed: 116.73329210281372\n"
     ]
    },
    {
     "name": "stderr",
     "output_type": "stream",
     "text": [
      "\u001b[32m[I 2022-03-05 13:22:17,074]\u001b[0m Trial 34 finished with value: 0.9471428571428572 and parameters: {'num_trees': 100, 'num_features': 18, 'max_depth': 4}. Best is trial 10 with value: 0.9542857142857143.\u001b[0m\n"
     ]
    },
    {
     "name": "stdout",
     "output_type": "stream",
     "text": [
      "Finished training! Time elapsed: 62.056936264038086\n",
      "Finished training! Time elapsed: 97.57145142555237\n"
     ]
    },
    {
     "name": "stderr",
     "output_type": "stream",
     "text": [
      "\u001b[32m[I 2022-03-05 13:23:54,926]\u001b[0m Trial 35 finished with value: 0.9414285714285714 and parameters: {'num_trees': 97, 'num_features': 15, 'max_depth': 35}. Best is trial 10 with value: 0.9542857142857143.\u001b[0m\n",
      "\u001b[32m[I 2022-03-05 13:25:47,623]\u001b[0m Trial 36 finished with value: 0.9442857142857143 and parameters: {'num_trees': 110, 'num_features': 20, 'max_depth': 12}. Best is trial 10 with value: 0.9542857142857143.\u001b[0m\n"
     ]
    },
    {
     "name": "stdout",
     "output_type": "stream",
     "text": [
      "Finished training! Time elapsed: 112.48907136917114\n"
     ]
    },
    {
     "name": "stderr",
     "output_type": "stream",
     "text": [
      "\u001b[32m[I 2022-03-05 13:26:52,405]\u001b[0m Trial 37 finished with value: 0.9471428571428572 and parameters: {'num_trees': 90, 'num_features': 16, 'max_depth': 8}. Best is trial 10 with value: 0.9542857142857143.\u001b[0m\n"
     ]
    },
    {
     "name": "stdout",
     "output_type": "stream",
     "text": [
      "Finished training! Time elapsed: 64.64556980133057\n"
     ]
    },
    {
     "name": "stderr",
     "output_type": "stream",
     "text": [
      "\u001b[32m[I 2022-03-05 13:27:01,801]\u001b[0m Trial 38 finished with value: 0.9257142857142857 and parameters: {'num_trees': 68, 'num_features': 3, 'max_depth': 8}. Best is trial 10 with value: 0.9542857142857143.\u001b[0m\n"
     ]
    },
    {
     "name": "stdout",
     "output_type": "stream",
     "text": [
      "Finished training! Time elapsed: 9.309415102005005\n"
     ]
    },
    {
     "name": "stderr",
     "output_type": "stream",
     "text": [
      "\u001b[32m[I 2022-03-05 13:27:57,555]\u001b[0m Trial 39 finished with value: 0.9457142857142857 and parameters: {'num_trees': 102, 'num_features': 19, 'max_depth': 3}. Best is trial 10 with value: 0.9542857142857143.\u001b[0m\n"
     ]
    },
    {
     "name": "stdout",
     "output_type": "stream",
     "text": [
      "Finished training! Time elapsed: 55.66252160072327\n",
      "Finished training! Time elapsed: 129.62431478500366\n"
     ]
    },
    {
     "name": "stderr",
     "output_type": "stream",
     "text": [
      "\u001b[32m[I 2022-03-05 13:30:07,617]\u001b[0m Trial 40 finished with value: 0.9357142857142857 and parameters: {'num_trees': 107, 'num_features': 14, 'max_depth': 29}. Best is trial 10 with value: 0.9542857142857143.\u001b[0m\n",
      "\u001b[32m[I 2022-03-05 13:31:22,714]\u001b[0m Trial 41 finished with value: 0.9528571428571428 and parameters: {'num_trees': 131, 'num_features': 19, 'max_depth': 2}. Best is trial 10 with value: 0.9542857142857143.\u001b[0m\n"
     ]
    },
    {
     "name": "stdout",
     "output_type": "stream",
     "text": [
      "Finished training! Time elapsed: 74.99777865409851\n"
     ]
    },
    {
     "name": "stderr",
     "output_type": "stream",
     "text": [
      "\u001b[32m[I 2022-03-05 13:32:39,835]\u001b[0m Trial 42 finished with value: 0.9514285714285714 and parameters: {'num_trees': 134, 'num_features': 18, 'max_depth': 3}. Best is trial 10 with value: 0.9542857142857143.\u001b[0m\n"
     ]
    },
    {
     "name": "stdout",
     "output_type": "stream",
     "text": [
      "Finished training! Time elapsed: 77.01718354225159\n",
      "Finished training! Time elapsed: 165.16006875038147\n"
     ]
    },
    {
     "name": "stderr",
     "output_type": "stream",
     "text": [
      "\u001b[32m[I 2022-03-05 13:35:25,402]\u001b[0m Trial 43 finished with value: 0.9442857142857143 and parameters: {'num_trees': 149, 'num_features': 18, 'max_depth': 21}. Best is trial 10 with value: 0.9542857142857143.\u001b[0m\n",
      "\u001b[32m[I 2022-03-05 13:36:44,177]\u001b[0m Trial 44 finished with value: 0.9414285714285714 and parameters: {'num_trees': 140, 'num_features': 17, 'max_depth': 4}. Best is trial 10 with value: 0.9542857142857143.\u001b[0m\n"
     ]
    },
    {
     "name": "stdout",
     "output_type": "stream",
     "text": [
      "Finished training! Time elapsed: 78.6453115940094\n"
     ]
    },
    {
     "name": "stderr",
     "output_type": "stream",
     "text": [
      "\u001b[32m[I 2022-03-05 13:37:46,129]\u001b[0m Trial 45 finished with value: 0.9485714285714286 and parameters: {'num_trees': 132, 'num_features': 16, 'max_depth': 3}. Best is trial 10 with value: 0.9542857142857143.\u001b[0m\n"
     ]
    },
    {
     "name": "stdout",
     "output_type": "stream",
     "text": [
      "Finished training! Time elapsed: 61.848987340927124\n"
     ]
    },
    {
     "name": "stderr",
     "output_type": "stream",
     "text": [
      "\u001b[32m[I 2022-03-05 13:39:41,371]\u001b[0m Trial 46 finished with value: 0.9428571428571428 and parameters: {'num_trees': 131, 'num_features': 19, 'max_depth': 10}. Best is trial 10 with value: 0.9542857142857143.\u001b[0m\n"
     ]
    },
    {
     "name": "stdout",
     "output_type": "stream",
     "text": [
      "Finished training! Time elapsed: 115.02060794830322\n"
     ]
    },
    {
     "name": "stderr",
     "output_type": "stream",
     "text": [
      "\u001b[32m[I 2022-03-05 13:41:10,131]\u001b[0m Trial 47 finished with value: 0.9414285714285714 and parameters: {'num_trees': 117, 'num_features': 20, 'max_depth': 6}. Best is trial 10 with value: 0.9542857142857143.\u001b[0m\n"
     ]
    },
    {
     "name": "stdout",
     "output_type": "stream",
     "text": [
      "Finished training! Time elapsed: 88.6133975982666\n"
     ]
    },
    {
     "name": "stderr",
     "output_type": "stream",
     "text": [
      "\u001b[32m[I 2022-03-05 13:41:46,943]\u001b[0m Trial 48 finished with value: 0.9271428571428572 and parameters: {'num_trees': 54, 'num_features': 10, 'max_depth': 40}. Best is trial 10 with value: 0.9542857142857143.\u001b[0m\n"
     ]
    },
    {
     "name": "stdout",
     "output_type": "stream",
     "text": [
      "Finished training! Time elapsed: 36.65567970275879\n"
     ]
    },
    {
     "name": "stderr",
     "output_type": "stream",
     "text": [
      "\u001b[32m[I 2022-03-05 13:42:08,601]\u001b[0m Trial 49 finished with value: 0.93 and parameters: {'num_trees': 119, 'num_features': 7, 'max_depth': 2}. Best is trial 10 with value: 0.9542857142857143.\u001b[0m\n"
     ]
    },
    {
     "name": "stdout",
     "output_type": "stream",
     "text": [
      "Finished training! Time elapsed: 21.5819034576416\n"
     ]
    },
    {
     "name": "stderr",
     "output_type": "stream",
     "text": [
      "\u001b[32m[I 2022-03-05 13:43:29,531]\u001b[0m Trial 50 finished with value: 0.9414285714285714 and parameters: {'num_trees': 128, 'num_features': 18, 'max_depth': 5}. Best is trial 10 with value: 0.9542857142857143.\u001b[0m\n"
     ]
    },
    {
     "name": "stdout",
     "output_type": "stream",
     "text": [
      "Finished training! Time elapsed: 80.79802513122559\n"
     ]
    },
    {
     "name": "stderr",
     "output_type": "stream",
     "text": [
      "\u001b[32m[I 2022-03-05 13:44:28,297]\u001b[0m Trial 51 finished with value: 0.9485714285714286 and parameters: {'num_trees': 142, 'num_features': 21, 'max_depth': 1}. Best is trial 10 with value: 0.9542857142857143.\u001b[0m\n"
     ]
    },
    {
     "name": "stdout",
     "output_type": "stream",
     "text": [
      "Finished training! Time elapsed: 58.69902276992798\n"
     ]
    },
    {
     "name": "stderr",
     "output_type": "stream",
     "text": [
      "\u001b[32m[I 2022-03-05 13:45:43,324]\u001b[0m Trial 52 finished with value: 0.9528571428571428 and parameters: {'num_trees': 139, 'num_features': 21, 'max_depth': 2}. Best is trial 10 with value: 0.9542857142857143.\u001b[0m\n"
     ]
    },
    {
     "name": "stdout",
     "output_type": "stream",
     "text": [
      "Finished training! Time elapsed: 74.9347460269928\n"
     ]
    },
    {
     "name": "stderr",
     "output_type": "stream",
     "text": [
      "\u001b[32m[I 2022-03-05 13:47:23,279]\u001b[0m Trial 53 finished with value: 0.9442857142857143 and parameters: {'num_trees': 136, 'num_features': 20, 'max_depth': 5}. Best is trial 10 with value: 0.9542857142857143.\u001b[0m\n"
     ]
    },
    {
     "name": "stdout",
     "output_type": "stream",
     "text": [
      "Finished training! Time elapsed: 99.80863308906555\n",
      "Finished training! Time elapsed: 179.43385481834412\n"
     ]
    },
    {
     "name": "stderr",
     "output_type": "stream",
     "text": [
      "\u001b[32m[I 2022-03-05 13:50:23,315]\u001b[0m Trial 54 finished with value: 0.9457142857142857 and parameters: {'num_trees': 148, 'num_features': 19, 'max_depth': 7}. Best is trial 10 with value: 0.9542857142857143.\u001b[0m\n"
     ]
    },
    {
     "name": "stdout",
     "output_type": "stream",
     "text": [
      "Finished training! Time elapsed: 387.34111738204956\n"
     ]
    },
    {
     "name": "stderr",
     "output_type": "stream",
     "text": [
      "\u001b[32m[I 2022-03-05 13:56:50,933]\u001b[0m Trial 55 finished with value: 0.9528571428571428 and parameters: {'num_trees': 144, 'num_features': 20, 'max_depth': 2}. Best is trial 10 with value: 0.9542857142857143.\u001b[0m\n"
     ]
    },
    {
     "name": "stdout",
     "output_type": "stream",
     "text": [
      "Finished training! Time elapsed: 397.24430894851685\n"
     ]
    },
    {
     "name": "stderr",
     "output_type": "stream",
     "text": [
      "\u001b[32m[I 2022-03-05 14:03:28,448]\u001b[0m Trial 56 finished with value: 0.9442857142857143 and parameters: {'num_trees': 139, 'num_features': 21, 'max_depth': 2}. Best is trial 10 with value: 0.9542857142857143.\u001b[0m\n"
     ]
    },
    {
     "name": "stdout",
     "output_type": "stream",
     "text": [
      "Finished training! Time elapsed: 558.0222959518433\n"
     ]
    },
    {
     "name": "stderr",
     "output_type": "stream",
     "text": [
      "\u001b[32m[I 2022-03-05 14:12:46,962]\u001b[0m Trial 57 finished with value: 0.9428571428571428 and parameters: {'num_trees': 144, 'num_features': 20, 'max_depth': 5}. Best is trial 10 with value: 0.9542857142857143.\u001b[0m\n",
      "\u001b[32m[I 2022-03-05 14:17:23,624]\u001b[0m Trial 58 finished with value: 0.9485714285714286 and parameters: {'num_trees': 129, 'num_features': 21, 'max_depth': 1}. Best is trial 10 with value: 0.9542857142857143.\u001b[0m\n"
     ]
    },
    {
     "name": "stdout",
     "output_type": "stream",
     "text": [
      "Finished training! Time elapsed: 276.47982692718506\n",
      "Finished training! Time elapsed: 559.2082004547119\n"
     ]
    },
    {
     "name": "stderr",
     "output_type": "stream",
     "text": [
      "\u001b[32m[I 2022-03-05 14:26:44,047]\u001b[0m Trial 59 finished with value: 0.9414285714285714 and parameters: {'num_trees': 150, 'num_features': 18, 'max_depth': 7}. Best is trial 10 with value: 0.9542857142857143.\u001b[0m\n"
     ]
    },
    {
     "name": "stdout",
     "output_type": "stream",
     "text": [
      "Finished training! Time elapsed: 538.9810166358948\n"
     ]
    },
    {
     "name": "stderr",
     "output_type": "stream",
     "text": [
      "\u001b[32m[I 2022-03-05 14:35:43,655]\u001b[0m Trial 60 finished with value: 0.9414285714285714 and parameters: {'num_trees': 124, 'num_features': 19, 'max_depth': 9}. Best is trial 10 with value: 0.9542857142857143.\u001b[0m\n"
     ]
    },
    {
     "name": "stdout",
     "output_type": "stream",
     "text": [
      "Finished training! Time elapsed: 374.0397093296051\n"
     ]
    },
    {
     "name": "stderr",
     "output_type": "stream",
     "text": [
      "\u001b[32m[I 2022-03-05 14:41:58,543]\u001b[0m Trial 61 finished with value: 0.95 and parameters: {'num_trees': 135, 'num_features': 20, 'max_depth': 3}. Best is trial 10 with value: 0.9542857142857143.\u001b[0m\n"
     ]
    },
    {
     "name": "stdout",
     "output_type": "stream",
     "text": [
      "Finished training! Time elapsed: 387.80419182777405\n"
     ]
    },
    {
     "name": "stderr",
     "output_type": "stream",
     "text": [
      "\u001b[32m[I 2022-03-05 14:48:26,685]\u001b[0m Trial 62 finished with value: 0.9528571428571428 and parameters: {'num_trees': 143, 'num_features': 21, 'max_depth': 2}. Best is trial 10 with value: 0.9542857142857143.\u001b[0m\n"
     ]
    },
    {
     "name": "stdout",
     "output_type": "stream",
     "text": [
      "Finished training! Time elapsed: 362.6976435184479\n"
     ]
    },
    {
     "name": "stderr",
     "output_type": "stream",
     "text": [
      "\u001b[32m[I 2022-03-05 14:54:29,662]\u001b[0m Trial 63 finished with value: 0.9528571428571428 and parameters: {'num_trees': 142, 'num_features': 19, 'max_depth': 2}. Best is trial 10 with value: 0.9542857142857143.\u001b[0m\n"
     ]
    },
    {
     "name": "stdout",
     "output_type": "stream",
     "text": [
      "Finished training! Time elapsed: 281.32453870773315\n"
     ]
    },
    {
     "name": "stderr",
     "output_type": "stream",
     "text": [
      "\u001b[32m[I 2022-03-05 14:59:11,966]\u001b[0m Trial 64 finished with value: 0.9485714285714286 and parameters: {'num_trees': 145, 'num_features': 21, 'max_depth': 1}. Best is trial 10 with value: 0.9542857142857143.\u001b[0m\n"
     ]
    },
    {
     "name": "stdout",
     "output_type": "stream",
     "text": [
      "Finished training! Time elapsed: 384.2474150657654\n"
     ]
    },
    {
     "name": "stderr",
     "output_type": "stream",
     "text": [
      "\u001b[32m[I 2022-03-05 15:05:36,579]\u001b[0m Trial 65 finished with value: 0.9485714285714286 and parameters: {'num_trees': 139, 'num_features': 20, 'max_depth': 2}. Best is trial 10 with value: 0.9542857142857143.\u001b[0m\n"
     ]
    },
    {
     "name": "stdout",
     "output_type": "stream",
     "text": [
      "Finished training! Time elapsed: 504.16640615463257\n"
     ]
    },
    {
     "name": "stderr",
     "output_type": "stream",
     "text": [
      "\u001b[32m[I 2022-03-05 15:14:02,126]\u001b[0m Trial 66 finished with value: 0.9428571428571428 and parameters: {'num_trees': 141, 'num_features': 19, 'max_depth': 5}. Best is trial 10 with value: 0.9542857142857143.\u001b[0m\n"
     ]
    },
    {
     "name": "stdout",
     "output_type": "stream",
     "text": [
      "Finished training! Time elapsed: 466.72904086112976\n"
     ]
    },
    {
     "name": "stderr",
     "output_type": "stream",
     "text": [
      "\u001b[32m[I 2022-03-05 15:21:49,338]\u001b[0m Trial 67 finished with value: 0.9342857142857143 and parameters: {'num_trees': 146, 'num_features': 17, 'max_depth': 4}. Best is trial 10 with value: 0.9542857142857143.\u001b[0m\n"
     ]
    },
    {
     "name": "stdout",
     "output_type": "stream",
     "text": [
      "Finished training! Time elapsed: 188.29848647117615\n"
     ]
    },
    {
     "name": "stderr",
     "output_type": "stream",
     "text": [
      "\u001b[32m[I 2022-03-05 15:24:58,006]\u001b[0m Trial 68 finished with value: 0.9357142857142857 and parameters: {'num_trees': 143, 'num_features': 5, 'max_depth': 25}. Best is trial 10 with value: 0.9542857142857143.\u001b[0m\n",
      "\u001b[32m[I 2022-03-05 15:25:41,598]\u001b[0m Trial 69 finished with value: 0.9428571428571428 and parameters: {'num_trees': 50, 'num_features': 21, 'max_depth': 6}. Best is trial 10 with value: 0.9542857142857143.\u001b[0m\n"
     ]
    },
    {
     "name": "stdout",
     "output_type": "stream",
     "text": [
      "Finished training! Time elapsed: 43.52403283119202\n"
     ]
    },
    {
     "name": "stderr",
     "output_type": "stream",
     "text": [
      "\u001b[32m[I 2022-03-05 15:26:49,667]\u001b[0m Trial 70 finished with value: 0.9471428571428572 and parameters: {'num_trees': 137, 'num_features': 19, 'max_depth': 2}. Best is trial 10 with value: 0.9542857142857143.\u001b[0m\n"
     ]
    },
    {
     "name": "stdout",
     "output_type": "stream",
     "text": [
      "Finished training! Time elapsed: 67.97698044776917\n"
     ]
    },
    {
     "name": "stderr",
     "output_type": "stream",
     "text": [
      "\u001b[32m[I 2022-03-05 15:28:13,199]\u001b[0m Trial 71 finished with value: 0.9442857142857143 and parameters: {'num_trees': 135, 'num_features': 18, 'max_depth': 4}. Best is trial 10 with value: 0.9542857142857143.\u001b[0m\n"
     ]
    },
    {
     "name": "stdout",
     "output_type": "stream",
     "text": [
      "Finished training! Time elapsed: 83.40804314613342\n"
     ]
    },
    {
     "name": "stderr",
     "output_type": "stream",
     "text": [
      "\u001b[32m[I 2022-03-05 15:29:12,317]\u001b[0m Trial 72 finished with value: 0.95 and parameters: {'num_trees': 111, 'num_features': 20, 'max_depth': 2}. Best is trial 10 with value: 0.9542857142857143.\u001b[0m\n"
     ]
    },
    {
     "name": "stdout",
     "output_type": "stream",
     "text": [
      "Finished training! Time elapsed: 59.0472092628479\n"
     ]
    },
    {
     "name": "stderr",
     "output_type": "stream",
     "text": [
      "\u001b[32m[I 2022-03-05 15:30:38,987]\u001b[0m Trial 73 finished with value: 0.95 and parameters: {'num_trees': 131, 'num_features': 21, 'max_depth': 3}. Best is trial 10 with value: 0.9542857142857143.\u001b[0m\n"
     ]
    },
    {
     "name": "stdout",
     "output_type": "stream",
     "text": [
      "Finished training! Time elapsed: 86.57034921646118\n",
      "Finished training! Time elapsed: 132.89251136779785\n"
     ]
    },
    {
     "name": "stderr",
     "output_type": "stream",
     "text": [
      "\u001b[32m[I 2022-03-05 15:32:52,125]\u001b[0m Trial 74 finished with value: 0.9442857142857143 and parameters: {'num_trees': 147, 'num_features': 20, 'max_depth': 7}. Best is trial 10 with value: 0.9542857142857143.\u001b[0m\n",
      "\u001b[32m[I 2022-03-05 15:33:44,191]\u001b[0m Trial 75 finished with value: 0.9485714285714286 and parameters: {'num_trees': 126, 'num_features': 19, 'max_depth': 1}. Best is trial 10 with value: 0.9542857142857143.\u001b[0m\n"
     ]
    },
    {
     "name": "stdout",
     "output_type": "stream",
     "text": [
      "Finished training! Time elapsed: 52.003448247909546\n"
     ]
    },
    {
     "name": "stderr",
     "output_type": "stream",
     "text": [
      "\u001b[32m[I 2022-03-05 15:35:03,976]\u001b[0m Trial 76 finished with value: 0.94 and parameters: {'num_trees': 134, 'num_features': 17, 'max_depth': 4}. Best is trial 10 with value: 0.9542857142857143.\u001b[0m\n"
     ]
    },
    {
     "name": "stdout",
     "output_type": "stream",
     "text": [
      "Finished training! Time elapsed: 79.65668082237244\n"
     ]
    },
    {
     "name": "stderr",
     "output_type": "stream",
     "text": [
      "\u001b[32m[I 2022-03-05 15:36:27,468]\u001b[0m Trial 77 finished with value: 0.9414285714285714 and parameters: {'num_trees': 121, 'num_features': 18, 'max_depth': 6}. Best is trial 10 with value: 0.9542857142857143.\u001b[0m\n"
     ]
    },
    {
     "name": "stdout",
     "output_type": "stream",
     "text": [
      "Finished training! Time elapsed: 83.34459853172302\n"
     ]
    },
    {
     "name": "stderr",
     "output_type": "stream",
     "text": [
      "\u001b[32m[I 2022-03-05 15:37:19,478]\u001b[0m Trial 78 finished with value: 0.9485714285714286 and parameters: {'num_trees': 98, 'num_features': 21, 'max_depth': 2}. Best is trial 10 with value: 0.9542857142857143.\u001b[0m\n"
     ]
    },
    {
     "name": "stdout",
     "output_type": "stream",
     "text": [
      "Finished training! Time elapsed: 51.94566249847412\n",
      "Finished training! Time elapsed: 148.83475613594055\n"
     ]
    },
    {
     "name": "stderr",
     "output_type": "stream",
     "text": [
      "\u001b[32m[I 2022-03-05 15:39:48,617]\u001b[0m Trial 79 finished with value: 0.9457142857142857 and parameters: {'num_trees': 138, 'num_features': 20, 'max_depth': 15}. Best is trial 10 with value: 0.9542857142857143.\u001b[0m\n",
      "\u001b[32m[I 2022-03-05 15:41:09,408]\u001b[0m Trial 80 finished with value: 0.94 and parameters: {'num_trees': 143, 'num_features': 13, 'max_depth': 9}. Best is trial 10 with value: 0.9542857142857143.\u001b[0m\n"
     ]
    },
    {
     "name": "stdout",
     "output_type": "stream",
     "text": [
      "Finished training! Time elapsed: 80.5769636631012\n"
     ]
    },
    {
     "name": "stderr",
     "output_type": "stream",
     "text": [
      "\u001b[32m[I 2022-03-05 15:42:00,027]\u001b[0m Trial 81 finished with value: 0.9442857142857143 and parameters: {'num_trees': 89, 'num_features': 19, 'max_depth': 3}. Best is trial 10 with value: 0.9542857142857143.\u001b[0m\n"
     ]
    },
    {
     "name": "stdout",
     "output_type": "stream",
     "text": [
      "Finished training! Time elapsed: 50.53900933265686\n"
     ]
    },
    {
     "name": "stderr",
     "output_type": "stream",
     "text": [
      "\u001b[32m[I 2022-03-05 15:43:21,746]\u001b[0m Trial 82 finished with value: 0.9414285714285714 and parameters: {'num_trees': 105, 'num_features': 21, 'max_depth': 5}. Best is trial 10 with value: 0.9542857142857143.\u001b[0m\n"
     ]
    },
    {
     "name": "stdout",
     "output_type": "stream",
     "text": [
      "Finished training! Time elapsed: 81.60426354408264\n"
     ]
    },
    {
     "name": "stderr",
     "output_type": "stream",
     "text": [
      "\u001b[32m[I 2022-03-05 15:44:32,801]\u001b[0m Trial 83 finished with value: 0.9414285714285714 and parameters: {'num_trees': 103, 'num_features': 20, 'max_depth': 4}. Best is trial 10 with value: 0.9542857142857143.\u001b[0m\n"
     ]
    },
    {
     "name": "stdout",
     "output_type": "stream",
     "text": [
      "Finished training! Time elapsed: 70.96044540405273\n"
     ]
    },
    {
     "name": "stderr",
     "output_type": "stream",
     "text": [
      "\u001b[32m[I 2022-03-05 15:45:22,852]\u001b[0m Trial 84 finished with value: 0.9485714285714286 and parameters: {'num_trees': 130, 'num_features': 19, 'max_depth': 1}. Best is trial 10 with value: 0.9542857142857143.\u001b[0m\n"
     ]
    },
    {
     "name": "stdout",
     "output_type": "stream",
     "text": [
      "Finished training! Time elapsed: 49.99064612388611\n"
     ]
    },
    {
     "name": "stderr",
     "output_type": "stream",
     "text": [
      "\u001b[32m[I 2022-03-05 15:46:45,585]\u001b[0m Trial 85 finished with value: 0.9442857142857143 and parameters: {'num_trees': 141, 'num_features': 18, 'max_depth': 3}. Best is trial 10 with value: 0.9542857142857143.\u001b[0m\n"
     ]
    },
    {
     "name": "stdout",
     "output_type": "stream",
     "text": [
      "Finished training! Time elapsed: 82.61856889724731\n"
     ]
    },
    {
     "name": "stderr",
     "output_type": "stream",
     "text": [
      "\u001b[32m[I 2022-03-05 15:47:39,459]\u001b[0m Trial 86 finished with value: 0.9442857142857143 and parameters: {'num_trees': 133, 'num_features': 16, 'max_depth': 2}. Best is trial 10 with value: 0.9542857142857143.\u001b[0m\n"
     ]
    },
    {
     "name": "stdout",
     "output_type": "stream",
     "text": [
      "Finished training! Time elapsed: 53.783828258514404\n"
     ]
    },
    {
     "name": "stderr",
     "output_type": "stream",
     "text": [
      "\u001b[32m[I 2022-03-05 15:48:49,526]\u001b[0m Trial 87 finished with value: 0.9457142857142857 and parameters: {'num_trees': 95, 'num_features': 21, 'max_depth': 4}. Best is trial 10 with value: 0.9542857142857143.\u001b[0m\n"
     ]
    },
    {
     "name": "stdout",
     "output_type": "stream",
     "text": [
      "Finished training! Time elapsed: 69.97314977645874\n",
      "Finished training! Time elapsed: 78.35713934898376\n"
     ]
    },
    {
     "name": "stderr",
     "output_type": "stream",
     "text": [
      "\u001b[32m[I 2022-03-05 15:50:08,260]\u001b[0m Trial 88 finished with value: 0.9257142857142857 and parameters: {'num_trees': 114, 'num_features': 10, 'max_depth': 29}. Best is trial 10 with value: 0.9542857142857143.\u001b[0m\n",
      "\u001b[32m[I 2022-03-05 15:51:46,031]\u001b[0m Trial 89 finished with value: 0.9428571428571428 and parameters: {'num_trees': 121, 'num_features': 20, 'max_depth': 6}. Best is trial 10 with value: 0.9542857142857143.\u001b[0m\n"
     ]
    },
    {
     "name": "stdout",
     "output_type": "stream",
     "text": [
      "Finished training! Time elapsed: 97.62444639205933\n"
     ]
    },
    {
     "name": "stderr",
     "output_type": "stream",
     "text": [
      "\u001b[32m[I 2022-03-05 15:52:20,073]\u001b[0m Trial 90 finished with value: 0.9442857142857143 and parameters: {'num_trees': 81, 'num_features': 17, 'max_depth': 2}. Best is trial 10 with value: 0.9542857142857143.\u001b[0m\n"
     ]
    },
    {
     "name": "stdout",
     "output_type": "stream",
     "text": [
      "Finished training! Time elapsed: 33.98699712753296\n"
     ]
    },
    {
     "name": "stderr",
     "output_type": "stream",
     "text": [
      "\u001b[32m[I 2022-03-05 15:53:44,696]\u001b[0m Trial 91 finished with value: 0.9514285714285714 and parameters: {'num_trees': 136, 'num_features': 20, 'max_depth': 3}. Best is trial 10 with value: 0.9542857142857143.\u001b[0m\n"
     ]
    },
    {
     "name": "stdout",
     "output_type": "stream",
     "text": [
      "Finished training! Time elapsed: 84.51113057136536\n"
     ]
    },
    {
     "name": "stderr",
     "output_type": "stream",
     "text": [
      "\u001b[32m[I 2022-03-05 15:55:35,738]\u001b[0m Trial 92 finished with value: 0.9428571428571428 and parameters: {'num_trees': 150, 'num_features': 20, 'max_depth': 5}. Best is trial 10 with value: 0.9542857142857143.\u001b[0m\n"
     ]
    },
    {
     "name": "stdout",
     "output_type": "stream",
     "text": [
      "Finished training! Time elapsed: 110.8753821849823\n"
     ]
    },
    {
     "name": "stderr",
     "output_type": "stream",
     "text": [
      "\u001b[32m[I 2022-03-05 15:56:58,139]\u001b[0m Trial 93 finished with value: 0.9528571428571428 and parameters: {'num_trees': 139, 'num_features': 19, 'max_depth': 3}. Best is trial 10 with value: 0.9542857142857143.\u001b[0m\n"
     ]
    },
    {
     "name": "stdout",
     "output_type": "stream",
     "text": [
      "Finished training! Time elapsed: 82.28884935379028\n"
     ]
    },
    {
     "name": "stderr",
     "output_type": "stream",
     "text": [
      "\u001b[32m[I 2022-03-05 15:57:50,131]\u001b[0m Trial 94 finished with value: 0.9485714285714286 and parameters: {'num_trees': 145, 'num_features': 18, 'max_depth': 1}. Best is trial 10 with value: 0.9542857142857143.\u001b[0m\n"
     ]
    },
    {
     "name": "stdout",
     "output_type": "stream",
     "text": [
      "Finished training! Time elapsed: 51.92563199996948\n",
      "Finished training! Time elapsed: 147.80139541625977\n"
     ]
    },
    {
     "name": "stderr",
     "output_type": "stream",
     "text": [
      "\u001b[32m[I 2022-03-05 16:00:18,341]\u001b[0m Trial 95 finished with value: 0.9414285714285714 and parameters: {'num_trees': 137, 'num_features': 19, 'max_depth': 19}. Best is trial 10 with value: 0.9542857142857143.\u001b[0m\n",
      "\u001b[32m[I 2022-03-05 16:01:52,420]\u001b[0m Trial 96 finished with value: 0.9457142857142857 and parameters: {'num_trees': 140, 'num_features': 21, 'max_depth': 3}. Best is trial 10 with value: 0.9542857142857143.\u001b[0m\n"
     ]
    },
    {
     "name": "stdout",
     "output_type": "stream",
     "text": [
      "Finished training! Time elapsed: 93.97169661521912\n",
      "Finished training! Time elapsed: 174.78450536727905\n"
     ]
    },
    {
     "name": "stderr",
     "output_type": "stream",
     "text": [
      "\u001b[32m[I 2022-03-05 16:04:47,725]\u001b[0m Trial 97 finished with value: 0.9428571428571428 and parameters: {'num_trees': 142, 'num_features': 19, 'max_depth': 33}. Best is trial 10 with value: 0.9542857142857143.\u001b[0m\n",
      "\u001b[32m[I 2022-03-05 16:06:26,389]\u001b[0m Trial 98 finished with value: 0.9442857142857143 and parameters: {'num_trees': 127, 'num_features': 18, 'max_depth': 7}. Best is trial 10 with value: 0.9542857142857143.\u001b[0m\n"
     ]
    },
    {
     "name": "stdout",
     "output_type": "stream",
     "text": [
      "Finished training! Time elapsed: 98.4907534122467\n"
     ]
    },
    {
     "name": "stderr",
     "output_type": "stream",
     "text": [
      "\u001b[32m[I 2022-03-05 16:08:00,927]\u001b[0m Trial 99 finished with value: 0.9414285714285714 and parameters: {'num_trees': 108, 'num_features': 20, 'max_depth': 8}. Best is trial 10 with value: 0.9542857142857143.\u001b[0m\n"
     ]
    },
    {
     "name": "stdout",
     "output_type": "stream",
     "text": [
      "Finished training! Time elapsed: 94.38328385353088\n"
     ]
    }
   ],
   "source": [
    "study = optuna.create_study(direction='maximize')\n",
    "study.optimize(objective, n_trials=100)"
   ]
  },
  {
   "cell_type": "code",
   "execution_count": 15,
   "metadata": {},
   "outputs": [
    {
     "name": "stdout",
     "output_type": "stream",
     "text": [
      "Best hyperparameters are: {'num_trees': 116, 'num_features': 21, 'max_depth': 3}\n",
      "Best validation accuracy is: 0.9542857142857143\n"
     ]
    }
   ],
   "source": [
    "print(\"Best hyperparameters are:\", study.best_params)\n",
    "print(\"Best validation accuracy is:\", study.best_value)"
   ]
  },
  {
   "cell_type": "code",
   "execution_count": 16,
   "metadata": {},
   "outputs": [
    {
     "name": "stdout",
     "output_type": "stream",
     "text": [
      "Finished training! Time elapsed: 75.76718854904175\n"
     ]
    },
    {
     "data": {
      "text/plain": [
       "0.509641873278237"
      ]
     },
     "execution_count": 16,
     "metadata": {},
     "output_type": "execute_result"
    }
   ],
   "source": [
    "forest = RandomForest(116, 21, 3)\n",
    "forest.makeForest(data[:700])\n",
    "forest.getAccuracy(data[1400:])"
   ]
  },
  {
   "cell_type": "code",
   "execution_count": 17,
   "metadata": {},
   "outputs": [
    {
     "data": {
      "text/plain": [
       "0.895"
      ]
     },
     "execution_count": 17,
     "metadata": {},
     "output_type": "execute_result"
    }
   ],
   "source": [
    "forest.getAccuracy(data[:1400])"
   ]
  },
  {
   "cell_type": "code",
   "execution_count": 18,
   "metadata": {},
   "outputs": [
    {
     "name": "stdout",
     "output_type": "stream",
     "text": [
      "Finished training! Time elapsed: 87.7416422367096\n"
     ]
    },
    {
     "data": {
      "text/plain": [
       "0.5082644628099173"
      ]
     },
     "execution_count": 18,
     "metadata": {},
     "output_type": "execute_result"
    }
   ],
   "source": [
    "hyperparams = {'num_trees': 135, 'num_features': 20, 'max_depth': 3}\n",
    "forest = RandomForest(hyperparams['num_trees'], hyperparams['num_features'], hyperparams['max_depth'])\n",
    "forest.makeForest(data[:700])\n",
    "forest.getAccuracy(data[1400:])"
   ]
  },
  {
   "cell_type": "code",
   "execution_count": 19,
   "metadata": {},
   "outputs": [
    {
     "name": "stdout",
     "output_type": "stream",
     "text": [
      "Finished training! Time elapsed: 78.53906202316284\n"
     ]
    },
    {
     "data": {
      "text/plain": [
       "0.5110192837465565"
      ]
     },
     "execution_count": 19,
     "metadata": {},
     "output_type": "execute_result"
    }
   ],
   "source": [
    "hyperparams = {'num_trees': 134, 'num_features': 18, 'max_depth': 3}\n",
    "forest = RandomForest(hyperparams['num_trees'], hyperparams['num_features'], hyperparams['max_depth'])\n",
    "forest.makeForest(data[:700])\n",
    "forest.getAccuracy(data[1400:])"
   ]
  },
  {
   "cell_type": "code",
   "execution_count": 20,
   "metadata": {},
   "outputs": [
    {
     "name": "stdout",
     "output_type": "stream",
     "text": [
      "Finished training! Time elapsed: 33.3549907207489\n"
     ]
    },
    {
     "data": {
      "text/plain": [
       "0.696969696969697"
      ]
     },
     "execution_count": 20,
     "metadata": {},
     "output_type": "execute_result"
    }
   ],
   "source": [
    "hyperparams = {'num_trees': 135, 'num_features': 5, 'max_depth': 10}\n",
    "forest = RandomForest(hyperparams['num_trees'], hyperparams['num_features'], hyperparams['max_depth'])\n",
    "forest.makeForest(data[:700])\n",
    "forest.getAccuracy(data[1400:])"
   ]
  },
  {
   "cell_type": "code",
   "execution_count": null,
   "metadata": {},
   "outputs": [],
   "source": []
  }
 ],
 "metadata": {
  "kernelspec": {
   "display_name": "Python 3",
   "language": "python",
   "name": "python3"
  },
  "language_info": {
   "codemirror_mode": {
    "name": "ipython",
    "version": 3
   },
   "file_extension": ".py",
   "mimetype": "text/x-python",
   "name": "python",
   "nbconvert_exporter": "python",
   "pygments_lexer": "ipython3",
   "version": "3.8.3"
  }
 },
 "nbformat": 4,
 "nbformat_minor": 4
}
