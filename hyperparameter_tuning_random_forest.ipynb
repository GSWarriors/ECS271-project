{
 "cells": [
  {
   "cell_type": "code",
   "execution_count": 22,
   "metadata": {},
   "outputs": [],
   "source": [
    "import optuna\n",
    "import pandas as pd\n",
    "from randomForest import *"
   ]
  },
  {
   "cell_type": "code",
   "execution_count": 23,
   "metadata": {},
   "outputs": [
    {
     "data": {
      "text/html": [
       "<div>\n",
       "<style scoped>\n",
       "    .dataframe tbody tr th:only-of-type {\n",
       "        vertical-align: middle;\n",
       "    }\n",
       "\n",
       "    .dataframe tbody tr th {\n",
       "        vertical-align: top;\n",
       "    }\n",
       "\n",
       "    .dataframe thead th {\n",
       "        text-align: right;\n",
       "    }\n",
       "</style>\n",
       "<table border=\"1\" class=\"dataframe\">\n",
       "  <thead>\n",
       "    <tr style=\"text-align: right;\">\n",
       "      <th></th>\n",
       "      <th>baseline value</th>\n",
       "      <th>accelerations</th>\n",
       "      <th>fetal_movement</th>\n",
       "      <th>uterine_contractions</th>\n",
       "      <th>light_decelerations</th>\n",
       "      <th>severe_decelerations</th>\n",
       "      <th>prolongued_decelerations</th>\n",
       "      <th>abnormal_short_term_variability</th>\n",
       "      <th>mean_value_of_short_term_variability</th>\n",
       "      <th>percentage_of_time_with_abnormal_long_term_variability</th>\n",
       "      <th>...</th>\n",
       "      <th>histogram_min</th>\n",
       "      <th>histogram_max</th>\n",
       "      <th>histogram_number_of_peaks</th>\n",
       "      <th>histogram_number_of_zeroes</th>\n",
       "      <th>histogram_mode</th>\n",
       "      <th>histogram_mean</th>\n",
       "      <th>histogram_median</th>\n",
       "      <th>histogram_variance</th>\n",
       "      <th>histogram_tendency</th>\n",
       "      <th>fetal_health</th>\n",
       "    </tr>\n",
       "  </thead>\n",
       "  <tbody>\n",
       "    <tr>\n",
       "      <th>4</th>\n",
       "      <td>132.0</td>\n",
       "      <td>0.007</td>\n",
       "      <td>0.000</td>\n",
       "      <td>0.008</td>\n",
       "      <td>0.000</td>\n",
       "      <td>0.0</td>\n",
       "      <td>0.0</td>\n",
       "      <td>16.0</td>\n",
       "      <td>2.4</td>\n",
       "      <td>0.0</td>\n",
       "      <td>...</td>\n",
       "      <td>53.0</td>\n",
       "      <td>170.0</td>\n",
       "      <td>9.0</td>\n",
       "      <td>0.0</td>\n",
       "      <td>137.0</td>\n",
       "      <td>136.0</td>\n",
       "      <td>138.0</td>\n",
       "      <td>11.0</td>\n",
       "      <td>1.0</td>\n",
       "      <td>1.0</td>\n",
       "    </tr>\n",
       "    <tr>\n",
       "      <th>1485</th>\n",
       "      <td>132.0</td>\n",
       "      <td>0.013</td>\n",
       "      <td>0.000</td>\n",
       "      <td>0.010</td>\n",
       "      <td>0.000</td>\n",
       "      <td>0.0</td>\n",
       "      <td>0.0</td>\n",
       "      <td>30.0</td>\n",
       "      <td>1.3</td>\n",
       "      <td>0.0</td>\n",
       "      <td>...</td>\n",
       "      <td>97.0</td>\n",
       "      <td>166.0</td>\n",
       "      <td>2.0</td>\n",
       "      <td>0.0</td>\n",
       "      <td>145.0</td>\n",
       "      <td>142.0</td>\n",
       "      <td>144.0</td>\n",
       "      <td>8.0</td>\n",
       "      <td>1.0</td>\n",
       "      <td>1.0</td>\n",
       "    </tr>\n",
       "    <tr>\n",
       "      <th>849</th>\n",
       "      <td>138.0</td>\n",
       "      <td>0.002</td>\n",
       "      <td>0.000</td>\n",
       "      <td>0.004</td>\n",
       "      <td>0.000</td>\n",
       "      <td>0.0</td>\n",
       "      <td>0.0</td>\n",
       "      <td>41.0</td>\n",
       "      <td>0.8</td>\n",
       "      <td>8.0</td>\n",
       "      <td>...</td>\n",
       "      <td>105.0</td>\n",
       "      <td>156.0</td>\n",
       "      <td>4.0</td>\n",
       "      <td>0.0</td>\n",
       "      <td>142.0</td>\n",
       "      <td>142.0</td>\n",
       "      <td>143.0</td>\n",
       "      <td>2.0</td>\n",
       "      <td>1.0</td>\n",
       "      <td>1.0</td>\n",
       "    </tr>\n",
       "    <tr>\n",
       "      <th>1575</th>\n",
       "      <td>132.0</td>\n",
       "      <td>0.000</td>\n",
       "      <td>0.000</td>\n",
       "      <td>0.003</td>\n",
       "      <td>0.003</td>\n",
       "      <td>0.0</td>\n",
       "      <td>0.0</td>\n",
       "      <td>34.0</td>\n",
       "      <td>1.0</td>\n",
       "      <td>7.0</td>\n",
       "      <td>...</td>\n",
       "      <td>83.0</td>\n",
       "      <td>149.0</td>\n",
       "      <td>7.0</td>\n",
       "      <td>1.0</td>\n",
       "      <td>136.0</td>\n",
       "      <td>133.0</td>\n",
       "      <td>137.0</td>\n",
       "      <td>7.0</td>\n",
       "      <td>1.0</td>\n",
       "      <td>1.0</td>\n",
       "    </tr>\n",
       "    <tr>\n",
       "      <th>33</th>\n",
       "      <td>120.0</td>\n",
       "      <td>0.008</td>\n",
       "      <td>0.103</td>\n",
       "      <td>0.001</td>\n",
       "      <td>0.001</td>\n",
       "      <td>0.0</td>\n",
       "      <td>0.0</td>\n",
       "      <td>28.0</td>\n",
       "      <td>3.4</td>\n",
       "      <td>0.0</td>\n",
       "      <td>...</td>\n",
       "      <td>55.0</td>\n",
       "      <td>181.0</td>\n",
       "      <td>13.0</td>\n",
       "      <td>0.0</td>\n",
       "      <td>121.0</td>\n",
       "      <td>124.0</td>\n",
       "      <td>126.0</td>\n",
       "      <td>25.0</td>\n",
       "      <td>0.0</td>\n",
       "      <td>1.0</td>\n",
       "    </tr>\n",
       "  </tbody>\n",
       "</table>\n",
       "<p>5 rows × 22 columns</p>\n",
       "</div>"
      ],
      "text/plain": [
       "      baseline value  accelerations  fetal_movement  uterine_contractions  \\\n",
       "4              132.0          0.007           0.000                 0.008   \n",
       "1485           132.0          0.013           0.000                 0.010   \n",
       "849            138.0          0.002           0.000                 0.004   \n",
       "1575           132.0          0.000           0.000                 0.003   \n",
       "33             120.0          0.008           0.103                 0.001   \n",
       "\n",
       "      light_decelerations  severe_decelerations  prolongued_decelerations  \\\n",
       "4                   0.000                   0.0                       0.0   \n",
       "1485                0.000                   0.0                       0.0   \n",
       "849                 0.000                   0.0                       0.0   \n",
       "1575                0.003                   0.0                       0.0   \n",
       "33                  0.001                   0.0                       0.0   \n",
       "\n",
       "      abnormal_short_term_variability  mean_value_of_short_term_variability  \\\n",
       "4                                16.0                                   2.4   \n",
       "1485                             30.0                                   1.3   \n",
       "849                              41.0                                   0.8   \n",
       "1575                             34.0                                   1.0   \n",
       "33                               28.0                                   3.4   \n",
       "\n",
       "      percentage_of_time_with_abnormal_long_term_variability  ...  \\\n",
       "4                                                   0.0       ...   \n",
       "1485                                                0.0       ...   \n",
       "849                                                 8.0       ...   \n",
       "1575                                                7.0       ...   \n",
       "33                                                  0.0       ...   \n",
       "\n",
       "      histogram_min  histogram_max  histogram_number_of_peaks  \\\n",
       "4              53.0          170.0                        9.0   \n",
       "1485           97.0          166.0                        2.0   \n",
       "849           105.0          156.0                        4.0   \n",
       "1575           83.0          149.0                        7.0   \n",
       "33             55.0          181.0                       13.0   \n",
       "\n",
       "      histogram_number_of_zeroes  histogram_mode  histogram_mean  \\\n",
       "4                            0.0           137.0           136.0   \n",
       "1485                         0.0           145.0           142.0   \n",
       "849                          0.0           142.0           142.0   \n",
       "1575                         1.0           136.0           133.0   \n",
       "33                           0.0           121.0           124.0   \n",
       "\n",
       "      histogram_median  histogram_variance  histogram_tendency  fetal_health  \n",
       "4                138.0                11.0                 1.0           1.0  \n",
       "1485             144.0                 8.0                 1.0           1.0  \n",
       "849              143.0                 2.0                 1.0           1.0  \n",
       "1575             137.0                 7.0                 1.0           1.0  \n",
       "33               126.0                25.0                 0.0           1.0  \n",
       "\n",
       "[5 rows x 22 columns]"
      ]
     },
     "execution_count": 23,
     "metadata": {},
     "output_type": "execute_result"
    }
   ],
   "source": [
    "data = pd.read_csv(\"fetal_health.csv\")\n",
    "data = data.iloc[np.random.permutation(len(data))]\n",
    "data.head()"
   ]
  },
  {
   "cell_type": "code",
   "execution_count": 24,
   "metadata": {},
   "outputs": [
    {
     "name": "stdout",
     "output_type": "stream",
     "text": [
      "<class 'pandas.core.frame.DataFrame'>\n",
      "Int64Index: 2126 entries, 4 to 119\n",
      "Data columns (total 22 columns):\n",
      " #   Column                                                  Non-Null Count  Dtype  \n",
      "---  ------                                                  --------------  -----  \n",
      " 0   baseline value                                          2126 non-null   float64\n",
      " 1   accelerations                                           2126 non-null   float64\n",
      " 2   fetal_movement                                          2126 non-null   float64\n",
      " 3   uterine_contractions                                    2126 non-null   float64\n",
      " 4   light_decelerations                                     2126 non-null   float64\n",
      " 5   severe_decelerations                                    2126 non-null   float64\n",
      " 6   prolongued_decelerations                                2126 non-null   float64\n",
      " 7   abnormal_short_term_variability                         2126 non-null   float64\n",
      " 8   mean_value_of_short_term_variability                    2126 non-null   float64\n",
      " 9   percentage_of_time_with_abnormal_long_term_variability  2126 non-null   float64\n",
      " 10  mean_value_of_long_term_variability                     2126 non-null   float64\n",
      " 11  histogram_width                                         2126 non-null   float64\n",
      " 12  histogram_min                                           2126 non-null   float64\n",
      " 13  histogram_max                                           2126 non-null   float64\n",
      " 14  histogram_number_of_peaks                               2126 non-null   float64\n",
      " 15  histogram_number_of_zeroes                              2126 non-null   float64\n",
      " 16  histogram_mode                                          2126 non-null   float64\n",
      " 17  histogram_mean                                          2126 non-null   float64\n",
      " 18  histogram_median                                        2126 non-null   float64\n",
      " 19  histogram_variance                                      2126 non-null   float64\n",
      " 20  histogram_tendency                                      2126 non-null   float64\n",
      " 21  fetal_health                                            2126 non-null   float64\n",
      "dtypes: float64(22)\n",
      "memory usage: 382.0 KB\n"
     ]
    }
   ],
   "source": [
    "data.info()"
   ]
  },
  {
   "cell_type": "code",
   "execution_count": 25,
   "metadata": {},
   "outputs": [],
   "source": [
    "class Hyperparamters:\n",
    "    def __init__(self, num_trees=70, num_features=3, max_depth=20):\n",
    "        self.num_trees = num_trees\n",
    "        self.num_features = num_features\n",
    "        self.max_depth = max_depth"
   ]
  },
  {
   "cell_type": "code",
   "execution_count": 26,
   "metadata": {},
   "outputs": [],
   "source": [
    "def objective(trial):\n",
    "    hyperparam = Hyperparamters(\n",
    "        num_trees = trial.suggest_int(\"num_trees\", 50, 150),\n",
    "        num_features = trial.suggest_int(\"num_features\", 2, 21),\n",
    "        max_depth = trial.suggest_int(\"max_depth\", 1, 40)\n",
    "    )\n",
    "    forest = RandomForest(hyperparam.num_trees, hyperparam.num_features, hyperparam.max_depth)\n",
    "    forest.makeForest(data[:700])\n",
    "    return forest.getAccuracy(data[700:1400])"
   ]
  },
  {
   "cell_type": "code",
   "execution_count": null,
   "metadata": {},
   "outputs": [
    {
     "name": "stderr",
     "output_type": "stream",
     "text": [
      "\u001b[32m[I 2022-03-06 10:20:32,557]\u001b[0m A new study created in memory with name: no-name-f3cce5d8-a4dd-4998-9efb-40a1fbd0e351\u001b[0m\n"
     ]
    },
    {
     "name": "stdout",
     "output_type": "stream",
     "text": [
      "Finished training! Time elapsed: 300.22376227378845\n"
     ]
    },
    {
     "name": "stderr",
     "output_type": "stream",
     "text": [
      "\u001b[32m[I 2022-03-06 10:25:34,788]\u001b[0m Trial 0 finished with value: 0.8842857142857142 and parameters: {'num_trees': 137, 'num_features': 6, 'max_depth': 40}. Best is trial 0 with value: 0.8842857142857142.\u001b[0m\n"
     ]
    },
    {
     "name": "stdout",
     "output_type": "stream",
     "text": [
      "Finished training! Time elapsed: 131.12181687355042\n"
     ]
    },
    {
     "name": "stderr",
     "output_type": "stream",
     "text": [
      "\u001b[32m[I 2022-03-06 10:27:46,609]\u001b[0m Trial 1 finished with value: 0.8842857142857142 and parameters: {'num_trees': 62, 'num_features': 6, 'max_depth': 40}. Best is trial 0 with value: 0.8842857142857142.\u001b[0m\n"
     ]
    },
    {
     "name": "stdout",
     "output_type": "stream",
     "text": [
      "Finished training! Time elapsed: 90.30003476142883\n"
     ]
    },
    {
     "name": "stderr",
     "output_type": "stream",
     "text": [
      "\u001b[32m[I 2022-03-06 10:29:17,669]\u001b[0m Trial 2 finished with value: 0.8728571428571429 and parameters: {'num_trees': 79, 'num_features': 3, 'max_depth': 40}. Best is trial 0 with value: 0.8842857142857142.\u001b[0m\n"
     ]
    },
    {
     "name": "stdout",
     "output_type": "stream",
     "text": [
      "Finished training! Time elapsed: 558.5300099849701\n"
     ]
    },
    {
     "name": "stderr",
     "output_type": "stream",
     "text": [
      "\u001b[32m[I 2022-03-06 10:38:37,781]\u001b[0m Trial 3 finished with value: 0.8871428571428571 and parameters: {'num_trees': 146, 'num_features': 14, 'max_depth': 20}. Best is trial 3 with value: 0.8871428571428571.\u001b[0m\n"
     ]
    },
    {
     "name": "stdout",
     "output_type": "stream",
     "text": [
      "Finished training! Time elapsed: 318.5847318172455\n"
     ]
    },
    {
     "name": "stderr",
     "output_type": "stream",
     "text": [
      "\u001b[32m[I 2022-03-06 10:43:57,095]\u001b[0m Trial 4 finished with value: 0.8971428571428571 and parameters: {'num_trees': 57, 'num_features': 20, 'max_depth': 23}. Best is trial 4 with value: 0.8971428571428571.\u001b[0m\n"
     ]
    },
    {
     "name": "stdout",
     "output_type": "stream",
     "text": [
      "Finished training! Time elapsed: 299.9253706932068\n"
     ]
    },
    {
     "name": "stderr",
     "output_type": "stream",
     "text": [
      "\u001b[32m[I 2022-03-06 10:48:58,350]\u001b[0m Trial 5 finished with value: 0.8728571428571429 and parameters: {'num_trees': 94, 'num_features': 10, 'max_depth': 37}. Best is trial 4 with value: 0.8971428571428571.\u001b[0m\n"
     ]
    },
    {
     "name": "stdout",
     "output_type": "stream",
     "text": [
      "Finished training! Time elapsed: 103.51472735404968\n"
     ]
    },
    {
     "name": "stderr",
     "output_type": "stream",
     "text": [
      "\u001b[32m[I 2022-03-06 10:50:42,823]\u001b[0m Trial 6 finished with value: 0.87 and parameters: {'num_trees': 91, 'num_features': 3, 'max_depth': 29}. Best is trial 4 with value: 0.8971428571428571.\u001b[0m\n"
     ]
    },
    {
     "name": "stdout",
     "output_type": "stream",
     "text": [
      "Finished training! Time elapsed: 43.208556175231934\n"
     ]
    },
    {
     "name": "stderr",
     "output_type": "stream",
     "text": [
      "\u001b[32m[I 2022-03-06 10:51:26,419]\u001b[0m Trial 7 finished with value: 0.8571428571428571 and parameters: {'num_trees': 59, 'num_features': 3, 'max_depth': 13}. Best is trial 4 with value: 0.8971428571428571.\u001b[0m\n"
     ]
    },
    {
     "name": "stdout",
     "output_type": "stream",
     "text": [
      "Finished training! Time elapsed: 416.2800030708313\n"
     ]
    },
    {
     "name": "stderr",
     "output_type": "stream",
     "text": [
      "\u001b[32m[I 2022-03-06 10:58:23,347]\u001b[0m Trial 8 finished with value: 0.8885714285714286 and parameters: {'num_trees': 137, 'num_features': 17, 'max_depth': 7}. Best is trial 4 with value: 0.8971428571428571.\u001b[0m\n"
     ]
    },
    {
     "name": "stdout",
     "output_type": "stream",
     "text": [
      "Finished training! Time elapsed: 236.5783224105835\n"
     ]
    },
    {
     "name": "stderr",
     "output_type": "stream",
     "text": [
      "\u001b[32m[I 2022-03-06 11:02:20,859]\u001b[0m Trial 9 finished with value: 0.89 and parameters: {'num_trees': 93, 'num_features': 10, 'max_depth': 16}. Best is trial 4 with value: 0.8971428571428571.\u001b[0m\n"
     ]
    },
    {
     "name": "stdout",
     "output_type": "stream",
     "text": [
      "Finished training! Time elapsed: 697.2788307666779\n"
     ]
    },
    {
     "name": "stderr",
     "output_type": "stream",
     "text": [
      "\u001b[32m[I 2022-03-06 11:13:59,887]\u001b[0m Trial 10 finished with value: 0.87 and parameters: {'num_trees': 117, 'num_features': 21, 'max_depth': 28}. Best is trial 4 with value: 0.8971428571428571.\u001b[0m\n"
     ]
    },
    {
     "name": "stdout",
     "output_type": "stream",
     "text": [
      "Finished training! Time elapsed: 337.9672005176544\n"
     ]
    },
    {
     "name": "stderr",
     "output_type": "stream",
     "text": [
      "\u001b[32m[I 2022-03-06 11:19:39,217]\u001b[0m Trial 11 finished with value: 0.8971428571428571 and parameters: {'num_trees': 116, 'num_features': 11, 'max_depth': 18}. Best is trial 4 with value: 0.8971428571428571.\u001b[0m\n"
     ]
    }
   ],
   "source": [
    "study = optuna.create_study(direction='maximize')\n",
    "study.optimize(objective, n_trials=100)"
   ]
  },
  {
   "cell_type": "code",
   "execution_count": null,
   "metadata": {},
   "outputs": [],
   "source": [
    "print(\"Best hyperparameters are:\", study.best_params)\n",
    "print(\"Best validation accuracy is:\", study.best_value)"
   ]
  },
  {
   "cell_type": "code",
   "execution_count": null,
   "metadata": {},
   "outputs": [],
   "source": [
    "hyperparams = study.best_params\n",
    "forest = RandomForest(hyperparams['num_trees'], hyperparams['num_features'], hyperparams['max_depth'])\n",
    "forest.makeForest(data[:700])\n",
    "forest.getAccuracy(data[1400:])"
   ]
  },
  {
   "cell_type": "code",
   "execution_count": 19,
   "metadata": {
    "scrolled": true
   },
   "outputs": [
    {
     "name": "stdout",
     "output_type": "stream",
     "text": [
      "Finished training! Time elapsed: 78.53906202316284\n"
     ]
    },
    {
     "data": {
      "text/plain": [
       "0.5110192837465565"
      ]
     },
     "execution_count": 19,
     "metadata": {},
     "output_type": "execute_result"
    }
   ],
   "source": [
    "hyperparams = {'num_trees': 134, 'num_features': 18, 'max_depth': 3}\n",
    "forest = RandomForest(hyperparams['num_trees'], hyperparams['num_features'], hyperparams['max_depth'])\n",
    "forest.makeForest(data[:700])\n",
    "forest.getAccuracy(data[1400:])"
   ]
  },
  {
   "cell_type": "code",
   "execution_count": 20,
   "metadata": {},
   "outputs": [
    {
     "name": "stdout",
     "output_type": "stream",
     "text": [
      "Finished training! Time elapsed: 33.3549907207489\n"
     ]
    },
    {
     "data": {
      "text/plain": [
       "0.696969696969697"
      ]
     },
     "execution_count": 20,
     "metadata": {},
     "output_type": "execute_result"
    }
   ],
   "source": [
    "hyperparams = {'num_trees': 135, 'num_features': 5, 'max_depth': 10}\n",
    "forest = RandomForest(hyperparams['num_trees'], hyperparams['num_features'], hyperparams['max_depth'])\n",
    "forest.makeForest(data[:700])\n",
    "forest.getAccuracy(data[1400:])"
   ]
  },
  {
   "cell_type": "code",
   "execution_count": 21,
   "metadata": {},
   "outputs": [
    {
     "name": "stdout",
     "output_type": "stream",
     "text": [
      "Finished training! Time elapsed: 14.33721923828125\n"
     ]
    },
    {
     "data": {
      "text/plain": [
       "0.6253443526170799"
      ]
     },
     "execution_count": 21,
     "metadata": {},
     "output_type": "execute_result"
    }
   ],
   "source": [
    "forest = RandomForest(50, 3, 100)\n",
    "forest.makeForest(data[:700])\n",
    "forest.getAccuracy(data[1400:])"
   ]
  },
  {
   "cell_type": "code",
   "execution_count": null,
   "metadata": {},
   "outputs": [],
   "source": []
  }
 ],
 "metadata": {
  "kernelspec": {
   "display_name": "Python 3",
   "language": "python",
   "name": "python3"
  },
  "language_info": {
   "codemirror_mode": {
    "name": "ipython",
    "version": 3
   },
   "file_extension": ".py",
   "mimetype": "text/x-python",
   "name": "python",
   "nbconvert_exporter": "python",
   "pygments_lexer": "ipython3",
   "version": "3.8.3"
  }
 },
 "nbformat": 4,
 "nbformat_minor": 4
}
