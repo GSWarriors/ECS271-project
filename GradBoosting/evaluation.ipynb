{
 "cells": [
  {
   "cell_type": "code",
   "execution_count": 1,
   "metadata": {},
   "outputs": [],
   "source": [
    "from data import get_data\n",
    "from neural_network import NeuralNetwork\n",
    "from randomforest.randomForestInterface import RandomForest\n",
    "from grad_boosting_interface import *\n",
    "\n",
    "import numpy as np\n",
    "from sklearn.metrics import confusion_matrix, recall_score, accuracy_score, precision_score, f1_score\n",
    "import pandas as pd\n",
    "import seaborn as sn\n",
    "import matplotlib.pyplot as plt\n",
    "from sklearn.metrics import roc_curve, auc\n",
    "import matplotlib.colors as mcolors\n"
   ]
  },
  {
   "cell_type": "code",
   "execution_count": 2,
   "metadata": {},
   "outputs": [],
   "source": [
    "#converting data into binary problem (gradient boosting)\n",
    "\n",
    "def convert_data(y, pos_class, neg_class1, neg_class2):\n",
    "    zero_count = 0\n",
    "    one_count = 0\n",
    "\n",
    "    for i in range(0, len(y)):\n",
    "        if y[i] == pos_class:\n",
    "            y[i] = 1\n",
    "            one_count += 1\n",
    "        else:\n",
    "            if y[i] == neg_class1 or y[i] == neg_class2:\n",
    "                y[i] = 0\n",
    "                zero_count += 1\n",
    "\n",
    "\n",
    "    return zero_count, one_count"
   ]
  },
  {
   "cell_type": "code",
   "execution_count": 3,
   "metadata": {},
   "outputs": [],
   "source": [
    "train_X, train_y, val_X, val_y, test_X, test_y = get_data()"
   ]
  },
  {
   "cell_type": "code",
   "execution_count": 5,
   "metadata": {},
   "outputs": [
    {
     "name": "stdout",
     "output_type": "stream",
     "text": [
      "Finished training! Time elapsed: 120.15516090393066\n",
      "the current accuracy of this tree (Gradient boosting) on test set: 89.43661971830986\n",
      "feature importances: [0.         0.         0.         0.01129208 0.         0.\n",
      " 0.         0.         0.60236885 0.03385932 0.         0.\n",
      " 0.         0.0280127  0.         0.         0.03947507 0.28499197\n",
      " 0.         0.         0.        ]\n",
      "\n",
      "the current accuracy of this tree (Gradient boosting) on test set: 90.84507042253522\n",
      "feature importances: [0.         0.         0.         0.         0.         0.\n",
      " 0.         0.22921534 0.59257106 0.17821359 0.         0.\n",
      " 0.         0.         0.         0.         0.         0.\n",
      " 0.         0.         0.        ]\n",
      "\n",
      "the current accuracy of this tree (Gradient boosting) on test set: 97.88732394366197\n",
      "feature importances: [0.         0.         0.         0.         0.         0.\n",
      " 0.         0.13039737 0.02881021 0.24047257 0.         0.\n",
      " 0.         0.07181807 0.         0.         0.         0.52850178\n",
      " 0.         0.         0.        ]\n",
      "\n",
      "<grad_boosting_interface.Grad_Boosting_Interface object at 0x7f989bd6afa0>\n"
     ]
    }
   ],
   "source": [
    "models = [NeuralNetwork(), RandomForest(), Grad_Boosting_Interface(learning_rate=0.01, boosting_rounds=5, max_depth=3, leaves=8),\n",
    "         Grad_Boosting_Interface(learning_rate=0.9, boosting_rounds=1, max_depth=3, leaves=4), \n",
    "          Grad_Boosting_Interface(learning_rate=0.4698, boosting_rounds=4, max_depth=3, leaves=6)]\n",
    "\n",
    "#got best hyperparams from optuna trials\n",
    "best_acc = 0\n",
    "best_model = models[2]\n",
    "\n",
    "modelNames = [\"Neural Network\", \"Random Forest\", \"Gradient Boosting\", \"Gradient Boosting\", \"Gradient Boosting\"]\n",
    "\n",
    "count = 0\n",
    "\n",
    "for i in range(0, len(models)):\n",
    "    \n",
    "    \n",
    "    #get class 1 for grad boosting\n",
    "    if modelNames[i] == \"Gradient Boosting\":\n",
    "        train_X, train_y, val_X, val_y, test_X, test_y = get_data()\n",
    "        \n",
    "        if count == 0:\n",
    "            train_zero_count, train_one_count = convert_data(train_y, 0, 1, 2)\n",
    "            val_zero_count, val_one_count = convert_data(val_y, 0, 1, 2)\n",
    "            test_zero_count, test_one_count = convert_data(test_y, 0, 1, 2)\n",
    "\n",
    "            models[i].one_count = train_one_count\n",
    "            models[i].zero_count = train_zero_count\n",
    "            count += 1\n",
    "        \n",
    "        elif count == 1: \n",
    "            \n",
    "            class_2_train_zero_count, class_2_train_one_count = convert_data(train_y, 1, 0, 2)\n",
    "            class_2_val_zero_count, class_2_val_one_count = convert_data(val_y, 1, 0, 2)\n",
    "            class_2_test_zero_count, class_2_test_one_count = convert_data(test_y, 1, 0, 2)\n",
    "\n",
    "            models[i].one_count = class_2_train_one_count\n",
    "            models[i].zero_count = class_2_train_zero_count\n",
    "            count += 1\n",
    "        \n",
    "        else:\n",
    "            if count == 2:\n",
    "                class_3_train_zero_count, class_3_train_one_count = convert_data(train_y, 2, 0, 1)\n",
    "                class_3_val_zero_count, class_3_val_one_count = convert_data(val_y, 2, 0, 1)\n",
    "                class_3_test_zero_count, class_3_test_one_count = convert_data(test_y, 2, 0, 1)\n",
    "\n",
    "                models[i].one_count = class_3_train_one_count\n",
    "                models[i].zero_count = class_3_train_zero_count\n",
    "                count += 1\n",
    "        \n",
    "        models[i].train(train_X, train_y, val_X, val_y)\n",
    "        y_pred = models[i].predict(test_X)\n",
    "        acc = models[i].accuracy(y_pred, test_y)\n",
    "        \n",
    "        #save best model and test set for it\n",
    "        if acc > best_acc:\n",
    "            best_model = models[i]\n",
    "            best_model_test_y = test_y\n",
    "            best_model_y_pred = y_pred \n",
    "\n",
    "       \n",
    "        \n",
    "\n",
    "        \n",
    "    else:\n",
    "        models[i].train(train_X, train_y, val_X, val_y)\n",
    "    \n",
    "\n",
    "print(best_model)\n",
    "    \n"
   ]
  },
  {
   "cell_type": "code",
   "execution_count": 21,
   "metadata": {},
   "outputs": [
    {
     "name": "stdout",
     "output_type": "stream",
     "text": [
      "the current accuracy of this tree (Gradient boosting) on test set: 97.88732394366197\n",
      "feature importances: [0.         0.         0.         0.         0.         0.\n",
      " 0.         0.13039737 0.02881021 0.24047257 0.         0.\n",
      " 0.         0.07181807 0.         0.         0.         0.52850178\n",
      " 0.         0.         0.        ]\n",
      "\n",
      "[array([[348,  37,   3],\n",
      "       [  7,   7,  24],\n",
      "       [  0,   0,   0]]), array([[354,  30,   4],\n",
      "       [  5,  17,  16],\n",
      "       [  0,   0,   0]]), array([[384,   4],\n",
      "       [  5,  33]])]\n"
     ]
    }
   ],
   "source": [
    "predictions = []\n",
    "outputs = []\n",
    "confusion_matrices = []\n",
    "accuracies = []\n",
    "recalls = []\n",
    "precisions = []\n",
    "f1s = []\n",
    "\n",
    "#add to models list best model\n",
    "models = models[0:2] + [best_model]\n",
    "\n",
    "\n",
    "\n",
    "for i in range(0, len(models)):\n",
    "    if modelNames[i] != \"Gradient Boosting\":\n",
    "        output = models[i].predict(test_X)\n",
    "        pred = np.argmax(output.data, axis=1)\n",
    "        predictions.append(pred)\n",
    "        accuracies.append(accuracy_score(test_y, pred))\n",
    "\n",
    "\n",
    "    else:\n",
    "        pred = best_model_y_pred\n",
    "        acc = models[i].accuracy(y_pred, test_y)\n",
    "        pred[:] = [1 if x > 0 else 0 for x in pred]\n",
    "        pred = [int(i) for i in pred]\n",
    "        accuracies.append(acc)\n",
    "\n",
    "        #print(test_y)\n",
    "        #print(pred)\n",
    "\n",
    "    #if models[i] == \"Gradient Boosting\":\n",
    "    #    print(\"confusion matrix: \" + confusion_matrix(test_y, pred))\n",
    "   \n",
    "    confusion_matrices.append(confusion_matrix(test_y, pred))\n",
    "    precisions.append(precision_score(test_y, pred, average=None, zero_division=1))\n",
    "    recalls.append(recall_score(test_y, pred, average=None, zero_division=1))\n",
    "    f1s.append(f1_score(test_y, pred, average=None))\n",
    "        \n",
    "    if modelNames[i] != \"Gradient Boosting\":\n",
    "        outputs.append(output)\n",
    "\n",
    "#print()\n",
    "print(confusion_matrices)"
   ]
  },
  {
   "cell_type": "code",
   "execution_count": 27,
   "metadata": {},
   "outputs": [
    {
     "name": "stdout",
     "output_type": "stream",
     "text": [
      "Accuracies:\n",
      "Neural Network has an accuracy of 0.8333333333333334\n",
      "Random Forest has an accuracy of 0.8708920187793427\n",
      "Gradient Boosting has an accuracy of 97.88732394366197\n"
     ]
    }
   ],
   "source": [
    "print(\"Accuracies:\")\n",
    "for i in range(len(models)):\n",
    "    print(f\"{modelNames[i]} has an accuracy of {accuracies[i]}\")\n"
   ]
  },
  {
   "cell_type": "code",
   "execution_count": 28,
   "metadata": {},
   "outputs": [
    {
     "name": "stdout",
     "output_type": "stream",
     "text": [
      "F1 Scores:\n",
      "Neural Network has an F1 score of [0.93674293 0.17073171 0.        ].\n",
      "Random Forest has an F1 score of [0.94779116 0.4        0.        ].\n",
      "Gradient Boosting has an F1 score of [0.98841699 0.88      ].\n"
     ]
    }
   ],
   "source": [
    "print(\"F1 Scores:\")\n",
    "for i in range(len(models)):\n",
    "    print(f\"{modelNames[i]} has an F1 score of {f1s[i]}.\")\n"
   ]
  },
  {
   "cell_type": "code",
   "execution_count": 30,
   "metadata": {},
   "outputs": [
    {
     "name": "stdout",
     "output_type": "stream",
     "text": [
      "Precisions:\n",
      "Neural Network has a precision score of [0.98028169 0.15909091 0.        ].\n",
      "Random Forest has a precision score of [0.98607242 0.36170213 0.        ].\n",
      "Gradient Boosting has a precision score of [0.98714653 0.89189189].\n"
     ]
    }
   ],
   "source": [
    "print(\"Precisions:\")\n",
    "for i in range(len(models)):\n",
    "    print(f\"{modelNames[i]} has a precision score of {precisions[i]}.\")\n"
   ]
  },
  {
   "cell_type": "code",
   "execution_count": 31,
   "metadata": {},
   "outputs": [
    {
     "name": "stdout",
     "output_type": "stream",
     "text": [
      "Recalls:\n",
      "Neural Network has a recall score of [0.89690722 0.18421053 1.        ].\n",
      "Random Forest has a recall score of [0.91237113 0.44736842 1.        ].\n",
      "Gradient Boosting has a recall score of [0.98969072 0.86842105].\n"
     ]
    }
   ],
   "source": [
    "print(\"Recalls:\")\n",
    "for i in range(len(models)):\n",
    "  print(f\"{modelNames[i]} has a recall score of {recalls[i]}.\")\n"
   ]
  },
  {
   "cell_type": "code",
   "execution_count": 38,
   "metadata": {},
   "outputs": [
    {
     "data": {
      "image/png": "[encoded data removed]",
      "text/plain": [
       "<Figure size 432x288 with 2 Axes>"
      ]
     },
     "metadata": {
      "needs_background": "light"
     },
     "output_type": "display_data"
    },
    {
     "data": {
      "image/png": "[encoded data removed]",
      "text/plain": [
       "<Figure size 432x288 with 2 Axes>"
      ]
     },
     "metadata": {
      "needs_background": "light"
     },
     "output_type": "display_data"
    },
    {
     "ename": "ValueError",
     "evalue": "The number of FixedLocator locations (2), usually from a call to set_ticks, does not match the number of ticklabels (3).",
     "output_type": "error",
     "traceback": [
      "\u001b[0;31m---------------------------------------------------------------------------\u001b[0m",
      "\u001b[0;31mValueError\u001b[0m                                Traceback (most recent call last)",
      "Input \u001b[0;32mIn [38]\u001b[0m, in \u001b[0;36m<module>\u001b[0;34m\u001b[0m\n\u001b[1;32m     16\u001b[0m     plt\u001b[38;5;241m.\u001b[39mshow()\n\u001b[1;32m     19\u001b[0m \u001b[38;5;28;01melse\u001b[39;00m:\n\u001b[0;32m---> 20\u001b[0m     \u001b[43max\u001b[49m\u001b[38;5;241;43m.\u001b[39;49m\u001b[43mxaxis\u001b[49m\u001b[38;5;241;43m.\u001b[39;49m\u001b[43mset_ticklabels\u001b[49m\u001b[43m(\u001b[49m\u001b[43m[\u001b[49m\u001b[38;5;241;43m0\u001b[39;49m\u001b[43m,\u001b[49m\u001b[43m \u001b[49m\u001b[38;5;241;43m1\u001b[39;49m\u001b[43m,\u001b[49m\u001b[43m \u001b[49m\u001b[38;5;241;43m2\u001b[39;49m\u001b[43m]\u001b[49m\u001b[43m)\u001b[49m\n\u001b[1;32m     21\u001b[0m     ax\u001b[38;5;241m.\u001b[39myaxis\u001b[38;5;241m.\u001b[39mset_ticklabels([\u001b[38;5;241m0\u001b[39m, \u001b[38;5;241m1\u001b[39m, \u001b[38;5;241m2\u001b[39m])\n\u001b[1;32m     22\u001b[0m     plt\u001b[38;5;241m.\u001b[39mshow()\n",
      "File \u001b[0;32m/Library/Frameworks/Python.framework/Versions/3.9/lib/python3.9/site-packages/matplotlib/axis.py:1720\u001b[0m, in \u001b[0;36mAxis.set_ticklabels\u001b[0;34m(self, ticklabels, minor, **kwargs)\u001b[0m\n\u001b[1;32m   1716\u001b[0m \u001b[38;5;28;01mif\u001b[39;00m \u001b[38;5;28misinstance\u001b[39m(locator, mticker\u001b[38;5;241m.\u001b[39mFixedLocator):\n\u001b[1;32m   1717\u001b[0m     \u001b[38;5;66;03m# Passing [] as a list of ticklabels is often used as a way to\u001b[39;00m\n\u001b[1;32m   1718\u001b[0m     \u001b[38;5;66;03m# remove all tick labels, so only error for > 0 ticklabels\u001b[39;00m\n\u001b[1;32m   1719\u001b[0m     \u001b[38;5;28;01mif\u001b[39;00m \u001b[38;5;28mlen\u001b[39m(locator\u001b[38;5;241m.\u001b[39mlocs) \u001b[38;5;241m!=\u001b[39m \u001b[38;5;28mlen\u001b[39m(ticklabels) \u001b[38;5;129;01mand\u001b[39;00m \u001b[38;5;28mlen\u001b[39m(ticklabels) \u001b[38;5;241m!=\u001b[39m \u001b[38;5;241m0\u001b[39m:\n\u001b[0;32m-> 1720\u001b[0m         \u001b[38;5;28;01mraise\u001b[39;00m \u001b[38;5;167;01mValueError\u001b[39;00m(\n\u001b[1;32m   1721\u001b[0m             \u001b[38;5;124m\"\u001b[39m\u001b[38;5;124mThe number of FixedLocator locations\u001b[39m\u001b[38;5;124m\"\u001b[39m\n\u001b[1;32m   1722\u001b[0m             \u001b[38;5;124mf\u001b[39m\u001b[38;5;124m\"\u001b[39m\u001b[38;5;124m (\u001b[39m\u001b[38;5;132;01m{\u001b[39;00m\u001b[38;5;28mlen\u001b[39m(locator\u001b[38;5;241m.\u001b[39mlocs)\u001b[38;5;132;01m}\u001b[39;00m\u001b[38;5;124m), usually from a call to\u001b[39m\u001b[38;5;124m\"\u001b[39m\n\u001b[1;32m   1723\u001b[0m             \u001b[38;5;124m\"\u001b[39m\u001b[38;5;124m set_ticks, does not match\u001b[39m\u001b[38;5;124m\"\u001b[39m\n\u001b[1;32m   1724\u001b[0m             \u001b[38;5;124mf\u001b[39m\u001b[38;5;124m\"\u001b[39m\u001b[38;5;124m the number of ticklabels (\u001b[39m\u001b[38;5;132;01m{\u001b[39;00m\u001b[38;5;28mlen\u001b[39m(ticklabels)\u001b[38;5;132;01m}\u001b[39;00m\u001b[38;5;124m).\u001b[39m\u001b[38;5;124m\"\u001b[39m)\n\u001b[1;32m   1725\u001b[0m     tickd \u001b[38;5;241m=\u001b[39m {loc: lab \u001b[38;5;28;01mfor\u001b[39;00m loc, lab \u001b[38;5;129;01min\u001b[39;00m \u001b[38;5;28mzip\u001b[39m(locator\u001b[38;5;241m.\u001b[39mlocs, ticklabels)}\n\u001b[1;32m   1726\u001b[0m     func \u001b[38;5;241m=\u001b[39m functools\u001b[38;5;241m.\u001b[39mpartial(\u001b[38;5;28mself\u001b[39m\u001b[38;5;241m.\u001b[39m_format_with_dict, tickd)\n",
      "\u001b[0;31mValueError\u001b[0m: The number of FixedLocator locations (2), usually from a call to set_ticks, does not match the number of ticklabels (3)."
     ]
    },
    {
     "data": {
      "image/png": "[encoded data removed]",
      "text/plain": [
       "<Figure size 432x288 with 2 Axes>"
      ]
     },
     "metadata": {
      "needs_background": "light"
     },
     "output_type": "display_data"
    }
   ],
   "source": [
    "for i in range(len(models)):\n",
    "    \n",
    "    ax = sn.heatmap(confusion_matrices[i], annot=True, cmap='Blues')\n",
    "    ax.set_title(f'{modelNames[i]} Confusion Matrix')\n",
    "    ax.set_xlabel('Predicted Values')\n",
    "    ax.set_ylabel('Actual Values ')\n",
    "    \n",
    "    #ax2 = sn.heatmap(confusion_matrices[i], annot=True, cmap='Blues')\n",
    "    #ax2.set_title(f'{modelNames[i]} Confusion Matrix')\n",
    "    #ax2.set_xlabel('Predicted Values')\n",
    "    #ax2.set_ylabel('Actual Values ')\n",
    "\n",
    "    if models[i] == \"Gradient Boosting\":\n",
    "        ax2.xaxis.set_ticklabels([0, 1])\n",
    "        ax2.yaxis.set_ticklabels([0, 1])\n",
    "        plt.show()\n",
    "        \n",
    "\n",
    "    else:\n",
    "        ax.xaxis.set_ticklabels([0, 1, 2])\n",
    "        ax.yaxis.set_ticklabels([0, 1, 2])\n",
    "        plt.show()"
   ]
  },
  {
   "cell_type": "code",
   "execution_count": 34,
   "metadata": {},
   "outputs": [
    {
     "ename": "ValueError",
     "evalue": "Found input variables with inconsistent numbers of samples: [852, 1278]",
     "output_type": "error",
     "traceback": [
      "\u001b[0;31m---------------------------------------------------------------------------\u001b[0m",
      "\u001b[0;31mValueError\u001b[0m                                Traceback (most recent call last)",
      "Input \u001b[0;32mIn [34]\u001b[0m, in \u001b[0;36m<module>\u001b[0;34m\u001b[0m\n\u001b[1;32m     10\u001b[0m     fpr[i], tpr[i], _ \u001b[38;5;241m=\u001b[39m roc_curve(test_onehot[:, i], output[:, i])\n\u001b[1;32m     11\u001b[0m     roc_auc[i] \u001b[38;5;241m=\u001b[39m auc(fpr[i], tpr[i])\n\u001b[0;32m---> 13\u001b[0m fpr[\u001b[38;5;124m\"\u001b[39m\u001b[38;5;124mmicro\u001b[39m\u001b[38;5;124m\"\u001b[39m], tpr[\u001b[38;5;124m\"\u001b[39m\u001b[38;5;124mmicro\u001b[39m\u001b[38;5;124m\"\u001b[39m], _ \u001b[38;5;241m=\u001b[39m \u001b[43mroc_curve\u001b[49m\u001b[43m(\u001b[49m\n\u001b[1;32m     14\u001b[0m \u001b[43m    \u001b[49m\u001b[43mtest_onehot\u001b[49m\u001b[38;5;241;43m.\u001b[39;49m\u001b[43mravel\u001b[49m\u001b[43m(\u001b[49m\u001b[43m)\u001b[49m\u001b[43m,\u001b[49m\u001b[43m \u001b[49m\u001b[43moutputs\u001b[49m\u001b[43m[\u001b[49m\u001b[38;5;241;43m0\u001b[39;49m\u001b[43m]\u001b[49m\u001b[38;5;241;43m.\u001b[39;49m\u001b[43mravel\u001b[49m\u001b[43m(\u001b[49m\u001b[43m)\u001b[49m\u001b[43m)\u001b[49m\n\u001b[1;32m     15\u001b[0m roc_auc[\u001b[38;5;124m\"\u001b[39m\u001b[38;5;124mmicro\u001b[39m\u001b[38;5;124m\"\u001b[39m] \u001b[38;5;241m=\u001b[39m auc(fpr[\u001b[38;5;124m\"\u001b[39m\u001b[38;5;124mmicro\u001b[39m\u001b[38;5;124m\"\u001b[39m], tpr[\u001b[38;5;124m\"\u001b[39m\u001b[38;5;124mmicro\u001b[39m\u001b[38;5;124m\"\u001b[39m])\n\u001b[1;32m     17\u001b[0m lw \u001b[38;5;241m=\u001b[39m \u001b[38;5;241m2\u001b[39m\n",
      "File \u001b[0;32m/Library/Frameworks/Python.framework/Versions/3.9/lib/python3.9/site-packages/sklearn/metrics/_ranking.py:962\u001b[0m, in \u001b[0;36mroc_curve\u001b[0;34m(y_true, y_score, pos_label, sample_weight, drop_intermediate)\u001b[0m\n\u001b[1;32m    873\u001b[0m \u001b[38;5;28;01mdef\u001b[39;00m \u001b[38;5;21mroc_curve\u001b[39m(\n\u001b[1;32m    874\u001b[0m     y_true, y_score, \u001b[38;5;241m*\u001b[39m, pos_label\u001b[38;5;241m=\u001b[39m\u001b[38;5;28;01mNone\u001b[39;00m, sample_weight\u001b[38;5;241m=\u001b[39m\u001b[38;5;28;01mNone\u001b[39;00m, drop_intermediate\u001b[38;5;241m=\u001b[39m\u001b[38;5;28;01mTrue\u001b[39;00m\n\u001b[1;32m    875\u001b[0m ):\n\u001b[1;32m    876\u001b[0m     \u001b[38;5;124;03m\"\"\"Compute Receiver operating characteristic (ROC).\u001b[39;00m\n\u001b[1;32m    877\u001b[0m \n\u001b[1;32m    878\u001b[0m \u001b[38;5;124;03m    Note: this implementation is restricted to the binary classification task.\u001b[39;00m\n\u001b[0;32m   (...)\u001b[0m\n\u001b[1;32m    960\u001b[0m \n\u001b[1;32m    961\u001b[0m \u001b[38;5;124;03m    \"\"\"\u001b[39;00m\n\u001b[0;32m--> 962\u001b[0m     fps, tps, thresholds \u001b[38;5;241m=\u001b[39m \u001b[43m_binary_clf_curve\u001b[49m\u001b[43m(\u001b[49m\n\u001b[1;32m    963\u001b[0m \u001b[43m        \u001b[49m\u001b[43my_true\u001b[49m\u001b[43m,\u001b[49m\u001b[43m \u001b[49m\u001b[43my_score\u001b[49m\u001b[43m,\u001b[49m\u001b[43m \u001b[49m\u001b[43mpos_label\u001b[49m\u001b[38;5;241;43m=\u001b[39;49m\u001b[43mpos_label\u001b[49m\u001b[43m,\u001b[49m\u001b[43m \u001b[49m\u001b[43msample_weight\u001b[49m\u001b[38;5;241;43m=\u001b[39;49m\u001b[43msample_weight\u001b[49m\n\u001b[1;32m    964\u001b[0m \u001b[43m    \u001b[49m\u001b[43m)\u001b[49m\n\u001b[1;32m    966\u001b[0m     \u001b[38;5;66;03m# Attempt to drop thresholds corresponding to points in between and\u001b[39;00m\n\u001b[1;32m    967\u001b[0m     \u001b[38;5;66;03m# collinear with other points. These are always suboptimal and do not\u001b[39;00m\n\u001b[1;32m    968\u001b[0m     \u001b[38;5;66;03m# appear on a plotted ROC curve (and thus do not affect the AUC).\u001b[39;00m\n\u001b[0;32m   (...)\u001b[0m\n\u001b[1;32m    973\u001b[0m     \u001b[38;5;66;03m# but does not drop more complicated cases like fps = [1, 3, 7],\u001b[39;00m\n\u001b[1;32m    974\u001b[0m     \u001b[38;5;66;03m# tps = [1, 2, 4]; there is no harm in keeping too many thresholds.\u001b[39;00m\n\u001b[1;32m    975\u001b[0m     \u001b[38;5;28;01mif\u001b[39;00m drop_intermediate \u001b[38;5;129;01mand\u001b[39;00m \u001b[38;5;28mlen\u001b[39m(fps) \u001b[38;5;241m>\u001b[39m \u001b[38;5;241m2\u001b[39m:\n",
      "File \u001b[0;32m/Library/Frameworks/Python.framework/Versions/3.9/lib/python3.9/site-packages/sklearn/metrics/_ranking.py:733\u001b[0m, in \u001b[0;36m_binary_clf_curve\u001b[0;34m(y_true, y_score, pos_label, sample_weight)\u001b[0m\n\u001b[1;32m    730\u001b[0m \u001b[38;5;28;01mif\u001b[39;00m \u001b[38;5;129;01mnot\u001b[39;00m (y_type \u001b[38;5;241m==\u001b[39m \u001b[38;5;124m\"\u001b[39m\u001b[38;5;124mbinary\u001b[39m\u001b[38;5;124m\"\u001b[39m \u001b[38;5;129;01mor\u001b[39;00m (y_type \u001b[38;5;241m==\u001b[39m \u001b[38;5;124m\"\u001b[39m\u001b[38;5;124mmulticlass\u001b[39m\u001b[38;5;124m\"\u001b[39m \u001b[38;5;129;01mand\u001b[39;00m pos_label \u001b[38;5;129;01mis\u001b[39;00m \u001b[38;5;129;01mnot\u001b[39;00m \u001b[38;5;28;01mNone\u001b[39;00m)):\n\u001b[1;32m    731\u001b[0m     \u001b[38;5;28;01mraise\u001b[39;00m \u001b[38;5;167;01mValueError\u001b[39;00m(\u001b[38;5;124m\"\u001b[39m\u001b[38;5;132;01m{0}\u001b[39;00m\u001b[38;5;124m format is not supported\u001b[39m\u001b[38;5;124m\"\u001b[39m\u001b[38;5;241m.\u001b[39mformat(y_type))\n\u001b[0;32m--> 733\u001b[0m \u001b[43mcheck_consistent_length\u001b[49m\u001b[43m(\u001b[49m\u001b[43my_true\u001b[49m\u001b[43m,\u001b[49m\u001b[43m \u001b[49m\u001b[43my_score\u001b[49m\u001b[43m,\u001b[49m\u001b[43m \u001b[49m\u001b[43msample_weight\u001b[49m\u001b[43m)\u001b[49m\n\u001b[1;32m    734\u001b[0m y_true \u001b[38;5;241m=\u001b[39m column_or_1d(y_true)\n\u001b[1;32m    735\u001b[0m y_score \u001b[38;5;241m=\u001b[39m column_or_1d(y_score)\n",
      "File \u001b[0;32m/Library/Frameworks/Python.framework/Versions/3.9/lib/python3.9/site-packages/sklearn/utils/validation.py:332\u001b[0m, in \u001b[0;36mcheck_consistent_length\u001b[0;34m(*arrays)\u001b[0m\n\u001b[1;32m    330\u001b[0m uniques \u001b[38;5;241m=\u001b[39m np\u001b[38;5;241m.\u001b[39munique(lengths)\n\u001b[1;32m    331\u001b[0m \u001b[38;5;28;01mif\u001b[39;00m \u001b[38;5;28mlen\u001b[39m(uniques) \u001b[38;5;241m>\u001b[39m \u001b[38;5;241m1\u001b[39m:\n\u001b[0;32m--> 332\u001b[0m     \u001b[38;5;28;01mraise\u001b[39;00m \u001b[38;5;167;01mValueError\u001b[39;00m(\n\u001b[1;32m    333\u001b[0m         \u001b[38;5;124m\"\u001b[39m\u001b[38;5;124mFound input variables with inconsistent numbers of samples: \u001b[39m\u001b[38;5;132;01m%r\u001b[39;00m\u001b[38;5;124m\"\u001b[39m\n\u001b[1;32m    334\u001b[0m         \u001b[38;5;241m%\u001b[39m [\u001b[38;5;28mint\u001b[39m(l) \u001b[38;5;28;01mfor\u001b[39;00m l \u001b[38;5;129;01min\u001b[39;00m lengths]\n\u001b[1;32m    335\u001b[0m     )\n",
      "\u001b[0;31mValueError\u001b[0m: Found input variables with inconsistent numbers of samples: [852, 1278]"
     ]
    },
    {
     "data": {
      "text/plain": [
       "<Figure size 432x288 with 0 Axes>"
      ]
     },
     "metadata": {},
     "output_type": "display_data"
    }
   ],
   "source": [
    "# Adapted from: https://scikit-learn.org/stable/auto_examples/model_selection/plot_roc.html\n",
    "n_values = np.max(test_y) + 1\n",
    "test_onehot = np.eye(n_values)[test_y]\n",
    "plt.figure()\n",
    "for idx, output in enumerate(outputs):\n",
    "    fpr = dict()\n",
    "    tpr = dict()\n",
    "    roc_auc = dict()\n",
    "    for i in range(n_values):\n",
    "        fpr[i], tpr[i], _ = roc_curve(test_onehot[:, i], output[:, i])\n",
    "        roc_auc[i] = auc(fpr[i], tpr[i])\n",
    "\n",
    "    fpr[\"micro\"], tpr[\"micro\"], _ = roc_curve(\n",
    "        test_onehot.ravel(), outputs[0].ravel())\n",
    "    roc_auc[\"micro\"] = auc(fpr[\"micro\"], tpr[\"micro\"])\n",
    "\n",
    "    lw = 2\n",
    "    plt.plot(\n",
    "        fpr[2],\n",
    "        tpr[2],\n",
    "        color=list(mcolors.TABLEAU_COLORS.values())[idx],\n",
    "        lw=lw,\n",
    "        label=f\"ROC curve for {modelNames[idx]} (area = {roc_auc[2]:0.2f})\",\n",
    "    )\n",
    "\n",
    "plt.plot([0, 1], [0, 1], color=\"navy\", lw=lw, linestyle=\"--\")\n",
    "plt.xlim([0.0, 1.0])\n",
    "plt.ylim([0.0, 1.05])\n",
    "plt.xlabel(\"False Positive Rate\")\n",
    "plt.ylabel(\"True Positive Rate\")\n",
    "plt.title(\"ROC Curves\")\n",
    "plt.legend(loc=\"lower right\")\n",
    "plt.show()"
   ]
  },
  {
   "cell_type": "code",
   "execution_count": null,
   "metadata": {},
   "outputs": [],
   "source": []
  },
  {
   "cell_type": "code",
   "execution_count": null,
   "metadata": {},
   "outputs": [],
   "source": []
  },
  {
   "cell_type": "code",
   "execution_count": null,
   "metadata": {},
   "outputs": [],
   "source": []
  },
  {
   "cell_type": "code",
   "execution_count": null,
   "metadata": {},
   "outputs": [],
   "source": []
  },
  {
   "cell_type": "code",
   "execution_count": null,
   "metadata": {},
   "outputs": [],
   "source": []
  },
  {
   "cell_type": "code",
   "execution_count": null,
   "metadata": {},
   "outputs": [],
   "source": []
  }
 ],
 "metadata": {
  "interpreter": {
   "hash": "cc0c8797f89a6d69e35298ae4709fccbe5e161afe95a021e6d382944c3c823f0"
  },
  "kernelspec": {
   "display_name": "Python 3 (ipykernel)",
   "language": "python",
   "name": "python3"
  },
  "language_info": {
   "codemirror_mode": {
    "name": "ipython",
    "version": 3
   },
   "file_extension": ".py",
   "mimetype": "text/x-python",
   "name": "python",
   "nbconvert_exporter": "python",
   "pygments_lexer": "ipython3",
   "version": "3.9.0"
  }
 },
 "nbformat": 4,
 "nbformat_minor": 2
}
