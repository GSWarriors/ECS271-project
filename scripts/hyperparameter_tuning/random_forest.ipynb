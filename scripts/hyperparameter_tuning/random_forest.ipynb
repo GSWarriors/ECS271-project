{
 "cells": [
  {
   "cell_type": "code",
   "execution_count": 1,
   "metadata": {},
   "outputs": [],
   "source": [
    "import sys\n",
    "sys.path.append('../../')\n",
    "import optuna\n",
    "import pandas as pd\n",
    "from models.random_forest.random_forest_interface import *\n",
    "from data.data import get_data"
   ]
  },
  {
   "cell_type": "code",
   "execution_count": 2,
   "metadata": {},
   "outputs": [],
   "source": [
    "train_X, train_y, val_X, val_y, test_X, test_y = get_data()"
   ]
  },
  {
   "cell_type": "code",
   "execution_count": 3,
   "metadata": {},
   "outputs": [],
   "source": [
    "def objective(trial):\n",
    "    hyperparam = RandomForestHyperparamters(\n",
    "        num_trees = trial.suggest_int(\"num_trees\", 50, 150),\n",
    "        num_features = trial.suggest_int(\"num_features\", 2, 21),\n",
    "        max_depth = trial.suggest_int(\"max_depth\", 1, 40)\n",
    "    )\n",
    "    forest = RandomForest(hyperparam)\n",
    "    forest.train(train_X, train_y, val_X, val_y)\n",
    "    return forest.accuracy(val_X, val_y)"
   ]
  },
  {
   "cell_type": "code",
   "execution_count": 4,
   "metadata": {},
   "outputs": [
    {
     "name": "stderr",
     "output_type": "stream",
     "text": [
      "\u001b[32m[I 2022-03-07 12:07:05,821]\u001b[0m A new study created in memory with name: no-name-43dfa816-4ec1-46d6-ba7a-259ed7d7a430\u001b[0m\n"
     ]
    },
    {
     "name": "stdout",
     "output_type": "stream",
     "text": [
      "Finished training! Time elapsed: 224.55899953842163\n"
     ]
    },
    {
     "name": "stderr",
     "output_type": "stream",
     "text": [
      "\u001b[32m[I 2022-03-07 12:10:51,093]\u001b[0m Trial 0 finished with value: 0.8329411764705882 and parameters: {'num_trees': 119, 'num_features': 3, 'max_depth': 27}. Best is trial 0 with value: 0.8329411764705882.\u001b[0m\n",
      "\u001b[32m[I 2022-03-07 12:17:34,124]\u001b[0m Trial 1 finished with value: 0.8894117647058823 and parameters: {'num_trees': 98, 'num_features': 16, 'max_depth': 7}. Best is trial 1 with value: 0.8894117647058823.\u001b[0m\n"
     ]
    },
    {
     "name": "stdout",
     "output_type": "stream",
     "text": [
      "Finished training! Time elapsed: 402.9450144767761\n",
      "Finished training! Time elapsed: 526.2637388706207\n"
     ]
    },
    {
     "name": "stderr",
     "output_type": "stream",
     "text": [
      "\u001b[32m[I 2022-03-07 12:26:20,875]\u001b[0m Trial 2 finished with value: 0.8988235294117647 and parameters: {'num_trees': 149, 'num_features': 19, 'max_depth': 35}. Best is trial 2 with value: 0.8988235294117647.\u001b[0m\n",
      "\u001b[32m[I 2022-03-07 12:29:29,413]\u001b[0m Trial 3 finished with value: 0.9011764705882352 and parameters: {'num_trees': 66, 'num_features': 16, 'max_depth': 30}. Best is trial 3 with value: 0.9011764705882352.\u001b[0m\n"
     ]
    },
    {
     "name": "stdout",
     "output_type": "stream",
     "text": [
      "Finished training! Time elapsed: 188.39059734344482\n",
      "Finished training! Time elapsed: 547.8309752941132\n"
     ]
    },
    {
     "name": "stderr",
     "output_type": "stream",
     "text": [
      "\u001b[32m[I 2022-03-07 12:38:37,553]\u001b[0m Trial 4 finished with value: 0.8894117647058823 and parameters: {'num_trees': 107, 'num_features': 12, 'max_depth': 36}. Best is trial 3 with value: 0.9011764705882352.\u001b[0m\n",
      "\u001b[32m[I 2022-03-07 12:39:55,102]\u001b[0m Trial 5 finished with value: 0.9058823529411765 and parameters: {'num_trees': 66, 'num_features': 6, 'max_depth': 40}. Best is trial 5 with value: 0.9058823529411765.\u001b[0m\n"
     ]
    },
    {
     "name": "stdout",
     "output_type": "stream",
     "text": [
      "Finished training! Time elapsed: 77.4033465385437\n"
     ]
    },
    {
     "name": "stderr",
     "output_type": "stream",
     "text": [
      "\u001b[32m[I 2022-03-07 12:40:28,808]\u001b[0m Trial 6 finished with value: 0.7905882352941176 and parameters: {'num_trees': 88, 'num_features': 9, 'max_depth': 1}. Best is trial 5 with value: 0.9058823529411765.\u001b[0m\n"
     ]
    },
    {
     "name": "stdout",
     "output_type": "stream",
     "text": [
      "Finished training! Time elapsed: 33.681912660598755\n"
     ]
    },
    {
     "name": "stderr",
     "output_type": "stream",
     "text": [
      "\u001b[32m[I 2022-03-07 12:42:28,058]\u001b[0m Trial 7 finished with value: 0.9011764705882352 and parameters: {'num_trees': 60, 'num_features': 18, 'max_depth': 7}. Best is trial 5 with value: 0.9058823529411765.\u001b[0m\n"
     ]
    },
    {
     "name": "stdout",
     "output_type": "stream",
     "text": [
      "Finished training! Time elapsed: 119.20582556724548\n",
      "Finished training! Time elapsed: 504.27103662490845\n"
     ]
    },
    {
     "name": "stderr",
     "output_type": "stream",
     "text": [
      "\u001b[32m[I 2022-03-07 12:50:52,760]\u001b[0m Trial 8 finished with value: 0.8964705882352941 and parameters: {'num_trees': 112, 'num_features': 20, 'max_depth': 36}. Best is trial 5 with value: 0.9058823529411765.\u001b[0m\n"
     ]
    },
    {
     "name": "stdout",
     "output_type": "stream",
     "text": [
      "Finished training! Time elapsed: 651.6075055599213\n"
     ]
    },
    {
     "name": "stderr",
     "output_type": "stream",
     "text": [
      "\u001b[32m[I 2022-03-07 13:01:45,172]\u001b[0m Trial 9 finished with value: 0.8870588235294118 and parameters: {'num_trees': 146, 'num_features': 21, 'max_depth': 34}. Best is trial 5 with value: 0.9058823529411765.\u001b[0m\n",
      "\u001b[32m[I 2022-03-07 13:02:09,582]\u001b[0m Trial 10 finished with value: 0.8211764705882353 and parameters: {'num_trees': 51, 'num_features': 2, 'max_depth': 20}. Best is trial 5 with value: 0.9058823529411765.\u001b[0m\n"
     ]
    },
    {
     "name": "stdout",
     "output_type": "stream",
     "text": [
      "Finished training! Time elapsed: 24.300658702850342\n"
     ]
    },
    {
     "name": "stderr",
     "output_type": "stream",
     "text": [
      "\u001b[32m[I 2022-03-07 13:04:15,304]\u001b[0m Trial 11 finished with value: 0.8376470588235294 and parameters: {'num_trees': 73, 'num_features': 8, 'max_depth': 26}. Best is trial 5 with value: 0.9058823529411765.\u001b[0m\n"
     ]
    },
    {
     "name": "stdout",
     "output_type": "stream",
     "text": [
      "Finished training! Time elapsed: 125.52766585350037\n",
      "Finished training! Time elapsed: 217.31505012512207\n"
     ]
    },
    {
     "name": "stderr",
     "output_type": "stream",
     "text": [
      "\u001b[32m[I 2022-03-07 13:07:52,841]\u001b[0m Trial 12 finished with value: 0.8964705882352941 and parameters: {'num_trees': 74, 'num_features': 13, 'max_depth': 26}. Best is trial 5 with value: 0.9058823529411765.\u001b[0m\n"
     ]
    },
    {
     "name": "stdout",
     "output_type": "stream",
     "text": [
      "Finished training! Time elapsed: 105.85535979270935\n"
     ]
    },
    {
     "name": "stderr",
     "output_type": "stream",
     "text": [
      "\u001b[32m[I 2022-03-07 13:09:39,020]\u001b[0m Trial 13 finished with value: 0.8658823529411764 and parameters: {'num_trees': 72, 'num_features': 6, 'max_depth': 40}. Best is trial 5 with value: 0.9058823529411765.\u001b[0m\n"
     ]
    },
    {
     "name": "stdout",
     "output_type": "stream",
     "text": [
      "Finished training! Time elapsed: 391.7545907497406\n"
     ]
    },
    {
     "name": "stderr",
     "output_type": "stream",
     "text": [
      "\u001b[32m[I 2022-03-07 13:16:11,239]\u001b[0m Trial 14 finished with value: 0.9011764705882352 and parameters: {'num_trees': 87, 'num_features': 16, 'max_depth': 30}. Best is trial 5 with value: 0.9058823529411765.\u001b[0m\n",
      "\u001b[32m[I 2022-03-07 13:19:33,861]\u001b[0m Trial 15 finished with value: 0.8894117647058823 and parameters: {'num_trees': 60, 'num_features': 14, 'max_depth': 19}. Best is trial 5 with value: 0.9058823529411765.\u001b[0m\n"
     ]
    },
    {
     "name": "stdout",
     "output_type": "stream",
     "text": [
      "Finished training! Time elapsed: 202.4450843334198\n",
      "Finished training! Time elapsed: 370.77650904655457\n"
     ]
    },
    {
     "name": "stderr",
     "output_type": "stream",
     "text": [
      "\u001b[32m[I 2022-03-07 13:25:45,432]\u001b[0m Trial 16 finished with value: 0.908235294117647 and parameters: {'num_trees': 126, 'num_features': 10, 'max_depth': 39}. Best is trial 16 with value: 0.908235294117647.\u001b[0m\n"
     ]
    },
    {
     "name": "stdout",
     "output_type": "stream",
     "text": [
      "Finished training! Time elapsed: 130.8534905910492\n"
     ]
    },
    {
     "name": "stderr",
     "output_type": "stream",
     "text": [
      "\u001b[32m[I 2022-03-07 13:27:56,597]\u001b[0m Trial 17 finished with value: 0.8352941176470589 and parameters: {'num_trees': 130, 'num_features': 5, 'max_depth': 40}. Best is trial 16 with value: 0.908235294117647.\u001b[0m\n"
     ]
    },
    {
     "name": "stdout",
     "output_type": "stream",
     "text": [
      "Finished training! Time elapsed: 181.83120203018188\n"
     ]
    },
    {
     "name": "stderr",
     "output_type": "stream",
     "text": [
      "\u001b[32m[I 2022-03-07 13:30:58,620]\u001b[0m Trial 18 finished with value: 0.9035294117647059 and parameters: {'num_trees': 132, 'num_features': 10, 'max_depth': 15}. Best is trial 16 with value: 0.908235294117647.\u001b[0m\n"
     ]
    },
    {
     "name": "stdout",
     "output_type": "stream",
     "text": [
      "Finished training! Time elapsed: 165.7220208644867\n"
     ]
    },
    {
     "name": "stderr",
     "output_type": "stream",
     "text": [
      "\u001b[32m[I 2022-03-07 13:33:44,649]\u001b[0m Trial 19 finished with value: 0.8541176470588235 and parameters: {'num_trees': 131, 'num_features': 7, 'max_depth': 31}. Best is trial 16 with value: 0.908235294117647.\u001b[0m\n",
      "\u001b[32m[I 2022-03-07 13:34:56,454]\u001b[0m Trial 20 finished with value: 0.8282352941176471 and parameters: {'num_trees': 91, 'num_features': 4, 'max_depth': 40}. Best is trial 16 with value: 0.908235294117647.\u001b[0m\n"
     ]
    },
    {
     "name": "stdout",
     "output_type": "stream",
     "text": [
      "Finished training! Time elapsed: 71.61405324935913\n"
     ]
    },
    {
     "name": "stderr",
     "output_type": "stream",
     "text": [
      "\u001b[32m[I 2022-03-07 13:38:11,111]\u001b[0m Trial 21 finished with value: 0.9058823529411765 and parameters: {'num_trees': 135, 'num_features': 10, 'max_depth': 17}. Best is trial 16 with value: 0.908235294117647.\u001b[0m\n"
     ]
    },
    {
     "name": "stdout",
     "output_type": "stream",
     "text": [
      "Finished training! Time elapsed: 194.45545506477356\n"
     ]
    },
    {
     "name": "stderr",
     "output_type": "stream",
     "text": [
      "\u001b[32m[I 2022-03-07 13:41:19,157]\u001b[0m Trial 22 finished with value: 0.9058823529411765 and parameters: {'num_trees': 138, 'num_features': 10, 'max_depth': 15}. Best is trial 16 with value: 0.908235294117647.\u001b[0m\n"
     ]
    },
    {
     "name": "stdout",
     "output_type": "stream",
     "text": [
      "Finished training! Time elapsed: 187.8639850616455\n"
     ]
    },
    {
     "name": "stderr",
     "output_type": "stream",
     "text": [
      "\u001b[32m[I 2022-03-07 13:44:45,134]\u001b[0m Trial 23 finished with value: 0.8447058823529412 and parameters: {'num_trees': 121, 'num_features': 11, 'max_depth': 15}. Best is trial 16 with value: 0.908235294117647.\u001b[0m\n"
     ]
    },
    {
     "name": "stdout",
     "output_type": "stream",
     "text": [
      "Finished training! Time elapsed: 205.81419777870178\n",
      "Finished training! Time elapsed: 134.31043195724487\n"
     ]
    },
    {
     "name": "stderr",
     "output_type": "stream",
     "text": [
      "\u001b[32m[I 2022-03-07 13:46:59,687]\u001b[0m Trial 24 finished with value: 0.8423529411764706 and parameters: {'num_trees': 119, 'num_features': 7, 'max_depth': 23}. Best is trial 16 with value: 0.908235294117647.\u001b[0m\n",
      "\u001b[32m[I 2022-03-07 13:49:48,805]\u001b[0m Trial 25 finished with value: 0.9129411764705883 and parameters: {'num_trees': 143, 'num_features': 9, 'max_depth': 11}. Best is trial 25 with value: 0.9129411764705883.\u001b[0m\n"
     ]
    },
    {
     "name": "stdout",
     "output_type": "stream",
     "text": [
      "Finished training! Time elapsed: 168.94783282279968\n"
     ]
    },
    {
     "name": "stderr",
     "output_type": "stream",
     "text": [
      "\u001b[32m[I 2022-03-07 13:54:10,829]\u001b[0m Trial 26 finished with value: 0.908235294117647 and parameters: {'num_trees': 141, 'num_features': 14, 'max_depth': 9}. Best is trial 25 with value: 0.9129411764705883.\u001b[0m\n"
     ]
    },
    {
     "name": "stdout",
     "output_type": "stream",
     "text": [
      "Finished training! Time elapsed: 261.88060092926025\n"
     ]
    },
    {
     "name": "stderr",
     "output_type": "stream",
     "text": [
      "\u001b[32m[I 2022-03-07 13:58:09,402]\u001b[0m Trial 27 finished with value: 0.9105882352941177 and parameters: {'num_trees': 143, 'num_features': 13, 'max_depth': 9}. Best is trial 25 with value: 0.9129411764705883.\u001b[0m\n"
     ]
    },
    {
     "name": "stdout",
     "output_type": "stream",
     "text": [
      "Finished training! Time elapsed: 238.41851496696472\n"
     ]
    },
    {
     "name": "stderr",
     "output_type": "stream",
     "text": [
      "\u001b[32m[I 2022-03-07 14:02:32,192]\u001b[0m Trial 28 finished with value: 0.8776470588235294 and parameters: {'num_trees': 141, 'num_features': 14, 'max_depth': 10}. Best is trial 25 with value: 0.9129411764705883.\u001b[0m\n"
     ]
    },
    {
     "name": "stdout",
     "output_type": "stream",
     "text": [
      "Finished training! Time elapsed: 262.6436679363251\n"
     ]
    },
    {
     "name": "stderr",
     "output_type": "stream",
     "text": [
      "\u001b[32m[I 2022-03-07 14:06:48,128]\u001b[0m Trial 29 finished with value: 0.8988235294117647 and parameters: {'num_trees': 144, 'num_features': 14, 'max_depth': 10}. Best is trial 25 with value: 0.9129411764705883.\u001b[0m\n"
     ]
    },
    {
     "name": "stdout",
     "output_type": "stream",
     "text": [
      "Finished training! Time elapsed: 255.7418656349182\n"
     ]
    },
    {
     "name": "stderr",
     "output_type": "stream",
     "text": [
      "\u001b[32m[I 2022-03-07 14:08:05,936]\u001b[0m Trial 30 finished with value: 0.8541176470588235 and parameters: {'num_trees': 150, 'num_features': 12, 'max_depth': 1}. Best is trial 25 with value: 0.9129411764705883.\u001b[0m\n"
     ]
    },
    {
     "name": "stdout",
     "output_type": "stream",
     "text": [
      "Finished training! Time elapsed: 77.7523341178894\n"
     ]
    },
    {
     "name": "stderr",
     "output_type": "stream",
     "text": [
      "\u001b[32m[I 2022-03-07 14:10:12,272]\u001b[0m Trial 31 finished with value: 0.9011764705882352 and parameters: {'num_trees': 123, 'num_features': 11, 'max_depth': 5}. Best is trial 25 with value: 0.9129411764705883.\u001b[0m\n"
     ]
    },
    {
     "name": "stdout",
     "output_type": "stream",
     "text": [
      "Finished training! Time elapsed: 126.25315403938293\n"
     ]
    },
    {
     "name": "stderr",
     "output_type": "stream",
     "text": [
      "\u001b[32m[I 2022-03-07 14:14:44,027]\u001b[0m Trial 32 finished with value: 0.8988235294117647 and parameters: {'num_trees': 137, 'num_features': 15, 'max_depth': 11}. Best is trial 25 with value: 0.9129411764705883.\u001b[0m\n"
     ]
    },
    {
     "name": "stdout",
     "output_type": "stream",
     "text": [
      "Finished training! Time elapsed: 271.5816693305969\n"
     ]
    },
    {
     "name": "stderr",
     "output_type": "stream",
     "text": [
      "\u001b[32m[I 2022-03-07 14:18:14,880]\u001b[0m Trial 33 finished with value: 0.9058823529411765 and parameters: {'num_trees': 126, 'num_features': 17, 'max_depth': 6}. Best is trial 25 with value: 0.9129411764705883.\u001b[0m\n"
     ]
    },
    {
     "name": "stdout",
     "output_type": "stream",
     "text": [
      "Finished training! Time elapsed: 210.75172662734985\n",
      "Finished training! Time elapsed: 1140.1597368717194\n"
     ]
    },
    {
     "name": "stderr",
     "output_type": "stream",
     "text": [
      "\u001b[32m[I 2022-03-07 14:37:15,696]\u001b[0m Trial 34 finished with value: 0.9011764705882352 and parameters: {'num_trees': 142, 'num_features': 13, 'max_depth': 13}. Best is trial 25 with value: 0.9129411764705883.\u001b[0m\n"
     ]
    },
    {
     "name": "stdout",
     "output_type": "stream",
     "text": [
      "Finished training! Time elapsed: 403.7292470932007\n"
     ]
    },
    {
     "name": "stderr",
     "output_type": "stream",
     "text": [
      "\u001b[32m[I 2022-03-07 14:43:59,653]\u001b[0m Trial 35 finished with value: 0.8988235294117647 and parameters: {'num_trees': 114, 'num_features': 9, 'max_depth': 23}. Best is trial 25 with value: 0.9129411764705883.\u001b[0m\n",
      "\u001b[32m[I 2022-03-07 14:46:07,895]\u001b[0m Trial 36 finished with value: 0.9058823529411765 and parameters: {'num_trees': 146, 'num_features': 13, 'max_depth': 3}. Best is trial 25 with value: 0.9129411764705883.\u001b[0m\n"
     ]
    },
    {
     "name": "stdout",
     "output_type": "stream",
     "text": [
      "Finished training! Time elapsed: 128.16657519340515\n"
     ]
    },
    {
     "name": "stderr",
     "output_type": "stream",
     "text": [
      "\u001b[32m[I 2022-03-07 14:48:21,801]\u001b[0m Trial 37 finished with value: 0.8917647058823529 and parameters: {'num_trees': 103, 'num_features': 12, 'max_depth': 7}. Best is trial 25 with value: 0.9129411764705883.\u001b[0m\n"
     ]
    },
    {
     "name": "stdout",
     "output_type": "stream",
     "text": [
      "Finished training! Time elapsed: 133.81097054481506\n"
     ]
    },
    {
     "name": "stderr",
     "output_type": "stream",
     "text": [
      "\u001b[32m[I 2022-03-07 14:51:14,965]\u001b[0m Trial 38 finished with value: 0.8988235294117647 and parameters: {'num_trees': 150, 'num_features': 9, 'max_depth': 12}. Best is trial 25 with value: 0.9129411764705883.\u001b[0m\n"
     ]
    },
    {
     "name": "stdout",
     "output_type": "stream",
     "text": [
      "Finished training! Time elapsed: 172.9920883178711\n"
     ]
    },
    {
     "name": "stderr",
     "output_type": "stream",
     "text": [
      "\u001b[32m[I 2022-03-07 14:55:02,557]\u001b[0m Trial 39 finished with value: 0.9058823529411765 and parameters: {'num_trees': 127, 'num_features': 15, 'max_depth': 10}. Best is trial 25 with value: 0.9129411764705883.\u001b[0m\n"
     ]
    },
    {
     "name": "stdout",
     "output_type": "stream",
     "text": [
      "Finished training! Time elapsed: 227.45834708213806\n",
      "Finished training! Time elapsed: 591.292690038681\n"
     ]
    },
    {
     "name": "stderr",
     "output_type": "stream",
     "text": [
      "\u001b[32m[I 2022-03-07 15:04:55,240]\u001b[0m Trial 40 finished with value: 0.8988235294117647 and parameters: {'num_trees': 137, 'num_features': 18, 'max_depth': 5}. Best is trial 25 with value: 0.9129411764705883.\u001b[0m\n"
     ]
    },
    {
     "name": "stdout",
     "output_type": "stream",
     "text": [
      "Finished training! Time elapsed: 623.0464022159576\n"
     ]
    },
    {
     "name": "stderr",
     "output_type": "stream",
     "text": [
      "\u001b[32m[I 2022-03-07 15:15:18,651]\u001b[0m Trial 41 finished with value: 0.8941176470588236 and parameters: {'num_trees': 145, 'num_features': 13, 'max_depth': 3}. Best is trial 25 with value: 0.9129411764705883.\u001b[0m\n"
     ]
    },
    {
     "name": "stdout",
     "output_type": "stream",
     "text": [
      "Finished training! Time elapsed: 1027.958143234253\n"
     ]
    },
    {
     "name": "stderr",
     "output_type": "stream",
     "text": [
      "\u001b[32m[I 2022-03-07 15:32:27,426]\u001b[0m Trial 42 finished with value: 0.9058823529411765 and parameters: {'num_trees': 134, 'num_features': 10, 'max_depth': 18}. Best is trial 25 with value: 0.9129411764705883.\u001b[0m\n"
     ]
    },
    {
     "name": "stdout",
     "output_type": "stream",
     "text": [
      "Finished training! Time elapsed: 840.124712228775\n"
     ]
    },
    {
     "name": "stderr",
     "output_type": "stream",
     "text": [
      "\u001b[32m[I 2022-03-07 15:46:28,304]\u001b[0m Trial 43 finished with value: 0.9035294117647059 and parameters: {'num_trees': 140, 'num_features': 8, 'max_depth': 17}. Best is trial 25 with value: 0.9129411764705883.\u001b[0m\n"
     ]
    },
    {
     "name": "stdout",
     "output_type": "stream",
     "text": [
      "Finished training! Time elapsed: 762.7112927436829\n"
     ]
    },
    {
     "name": "stderr",
     "output_type": "stream",
     "text": [
      "\u001b[32m[I 2022-03-07 15:59:11,574]\u001b[0m Trial 44 finished with value: 0.8964705882352941 and parameters: {'num_trees': 116, 'num_features': 11, 'max_depth': 8}. Best is trial 25 with value: 0.9129411764705883.\u001b[0m\n"
     ]
    },
    {
     "name": "stdout",
     "output_type": "stream",
     "text": [
      "Finished training! Time elapsed: 641.5101571083069\n"
     ]
    },
    {
     "name": "stderr",
     "output_type": "stream",
     "text": [
      "\u001b[32m[I 2022-03-07 16:09:53,620]\u001b[0m Trial 45 finished with value: 0.8941176470588236 and parameters: {'num_trees': 110, 'num_features': 8, 'max_depth': 13}. Best is trial 25 with value: 0.9129411764705883.\u001b[0m\n"
     ]
    },
    {
     "name": "stdout",
     "output_type": "stream",
     "text": [
      "Finished training! Time elapsed: 728.2958769798279\n"
     ]
    },
    {
     "name": "stderr",
     "output_type": "stream",
     "text": [
      "\u001b[32m[I 2022-03-07 16:22:02,358]\u001b[0m Trial 46 finished with value: 0.9058823529411765 and parameters: {'num_trees': 136, 'num_features': 10, 'max_depth': 8}. Best is trial 25 with value: 0.9129411764705883.\u001b[0m\n"
     ]
    },
    {
     "name": "stdout",
     "output_type": "stream",
     "text": [
      "Finished training! Time elapsed: 539.8625557422638\n"
     ]
    },
    {
     "name": "stderr",
     "output_type": "stream",
     "text": [
      "\u001b[32m[I 2022-03-07 16:31:02,445]\u001b[0m Trial 47 finished with value: 0.8870588235294118 and parameters: {'num_trees': 127, 'num_features': 12, 'max_depth': 3}. Best is trial 25 with value: 0.9129411764705883.\u001b[0m\n"
     ]
    },
    {
     "name": "stdout",
     "output_type": "stream",
     "text": [
      "Finished training! Time elapsed: 1470.3507919311523\n"
     ]
    },
    {
     "name": "stderr",
     "output_type": "stream",
     "text": [
      "\u001b[32m[I 2022-03-07 16:55:33,244]\u001b[0m Trial 48 finished with value: 0.8894117647058823 and parameters: {'num_trees': 147, 'num_features': 16, 'max_depth': 9}. Best is trial 25 with value: 0.9129411764705883.\u001b[0m\n"
     ]
    },
    {
     "name": "stdout",
     "output_type": "stream",
     "text": [
      "Finished training! Time elapsed: 708.1279497146606\n"
     ]
    },
    {
     "name": "stderr",
     "output_type": "stream",
     "text": [
      "\u001b[32m[I 2022-03-07 17:07:24,154]\u001b[0m Trial 49 finished with value: 0.8635294117647059 and parameters: {'num_trees': 140, 'num_features': 7, 'max_depth': 15}. Best is trial 25 with value: 0.9129411764705883.\u001b[0m\n"
     ]
    },
    {
     "name": "stdout",
     "output_type": "stream",
     "text": [
      "Finished training! Time elapsed: 886.366354227066\n"
     ]
    },
    {
     "name": "stderr",
     "output_type": "stream",
     "text": [
      "\u001b[32m[I 2022-03-07 17:22:11,296]\u001b[0m Trial 50 finished with value: 0.9011764705882352 and parameters: {'num_trees': 133, 'num_features': 9, 'max_depth': 17}. Best is trial 25 with value: 0.9129411764705883.\u001b[0m\n"
     ]
    },
    {
     "name": "stdout",
     "output_type": "stream",
     "text": [
      "Finished training! Time elapsed: 744.6254897117615\n"
     ]
    },
    {
     "name": "stderr",
     "output_type": "stream",
     "text": [
      "\u001b[32m[I 2022-03-07 17:34:36,641]\u001b[0m Trial 51 finished with value: 0.8447058823529412 and parameters: {'num_trees': 134, 'num_features': 10, 'max_depth': 8}. Best is trial 25 with value: 0.9129411764705883.\u001b[0m\n"
     ]
    },
    {
     "name": "stdout",
     "output_type": "stream",
     "text": [
      "Finished training! Time elapsed: 785.0463922023773\n"
     ]
    },
    {
     "name": "stderr",
     "output_type": "stream",
     "text": [
      "\u001b[32m[I 2022-03-07 17:47:42,305]\u001b[0m Trial 52 finished with value: 0.8894117647058823 and parameters: {'num_trees': 126, 'num_features': 15, 'max_depth': 4}. Best is trial 25 with value: 0.9129411764705883.\u001b[0m\n"
     ]
    },
    {
     "name": "stdout",
     "output_type": "stream",
     "text": [
      "Finished training! Time elapsed: 1533.7200875282288\n"
     ]
    },
    {
     "name": "stderr",
     "output_type": "stream",
     "text": [
      "\u001b[32m[I 2022-03-07 18:13:20,268]\u001b[0m Trial 53 finished with value: 0.8941176470588236 and parameters: {'num_trees': 147, 'num_features': 13, 'max_depth': 22}. Best is trial 25 with value: 0.9129411764705883.\u001b[0m\n"
     ]
    },
    {
     "name": "stdout",
     "output_type": "stream",
     "text": [
      "Finished training! Time elapsed: 1189.2526490688324\n"
     ]
    },
    {
     "name": "stderr",
     "output_type": "stream",
     "text": [
      "\u001b[32m[I 2022-03-07 18:33:11,088]\u001b[0m Trial 54 finished with value: 0.8870588235294118 and parameters: {'num_trees': 130, 'num_features': 18, 'max_depth': 6}. Best is trial 25 with value: 0.9129411764705883.\u001b[0m\n"
     ]
    },
    {
     "name": "stdout",
     "output_type": "stream",
     "text": [
      "Finished training! Time elapsed: 751.56316447258\n"
     ]
    },
    {
     "name": "stderr",
     "output_type": "stream",
     "text": [
      "\u001b[32m[I 2022-03-07 18:45:42,983]\u001b[0m Trial 55 finished with value: 0.9058823529411765 and parameters: {'num_trees': 136, 'num_features': 11, 'max_depth': 13}. Best is trial 25 with value: 0.9129411764705883.\u001b[0m\n"
     ]
    },
    {
     "name": "stdout",
     "output_type": "stream",
     "text": [
      "Finished training! Time elapsed: 195.1237132549286\n"
     ]
    },
    {
     "name": "stderr",
     "output_type": "stream",
     "text": [
      "\u001b[32m[I 2022-03-07 18:48:58,351]\u001b[0m Trial 56 finished with value: 0.8423529411764706 and parameters: {'num_trees': 143, 'num_features': 9, 'max_depth': 19}. Best is trial 25 with value: 0.9129411764705883.\u001b[0m\n",
      "\u001b[32m[I 2022-03-07 18:50:25,554]\u001b[0m Trial 57 finished with value: 0.8329411764705882 and parameters: {'num_trees': 80, 'num_features': 6, 'max_depth': 38}. Best is trial 25 with value: 0.9129411764705883.\u001b[0m\n"
     ]
    },
    {
     "name": "stdout",
     "output_type": "stream",
     "text": [
      "Finished training! Time elapsed: 87.02421021461487\n"
     ]
    },
    {
     "name": "stderr",
     "output_type": "stream",
     "text": [
      "\u001b[32m[I 2022-03-07 18:51:21,396]\u001b[0m Trial 58 finished with value: 0.8282352941176471 and parameters: {'num_trees': 94, 'num_features': 3, 'max_depth': 38}. Best is trial 25 with value: 0.9129411764705883.\u001b[0m\n"
     ]
    },
    {
     "name": "stdout",
     "output_type": "stream",
     "text": [
      "Finished training! Time elapsed: 55.66859841346741\n"
     ]
    },
    {
     "name": "stderr",
     "output_type": "stream",
     "text": [
      "\u001b[32m[I 2022-03-07 18:52:15,071]\u001b[0m Trial 59 finished with value: 0.8423529411764706 and parameters: {'num_trees': 57, 'num_features': 5, 'max_depth': 33}. Best is trial 25 with value: 0.9129411764705883.\u001b[0m\n"
     ]
    },
    {
     "name": "stdout",
     "output_type": "stream",
     "text": [
      "Finished training! Time elapsed: 53.559542655944824\n"
     ]
    },
    {
     "name": "stderr",
     "output_type": "stream",
     "text": [
      "\u001b[32m[I 2022-03-07 18:56:07,801]\u001b[0m Trial 60 finished with value: 0.8964705882352941 and parameters: {'num_trees': 122, 'num_features': 15, 'max_depth': 11}. Best is trial 25 with value: 0.9129411764705883.\u001b[0m\n"
     ]
    },
    {
     "name": "stdout",
     "output_type": "stream",
     "text": [
      "Finished training! Time elapsed: 232.59078884124756\n"
     ]
    },
    {
     "name": "stderr",
     "output_type": "stream",
     "text": [
      "\u001b[32m[I 2022-03-07 19:00:13,364]\u001b[0m Trial 61 finished with value: 0.8917647058823529 and parameters: {'num_trees': 126, 'num_features': 17, 'max_depth': 8}. Best is trial 25 with value: 0.9129411764705883.\u001b[0m\n"
     ]
    },
    {
     "name": "stdout",
     "output_type": "stream",
     "text": [
      "Finished training! Time elapsed: 245.44494438171387\n",
      "Finished training! Time elapsed: 1417.0123023986816\n"
     ]
    },
    {
     "name": "stderr",
     "output_type": "stream",
     "text": [
      "\u001b[32m[I 2022-03-07 19:23:50,626]\u001b[0m Trial 62 finished with value: 0.8894117647058823 and parameters: {'num_trees': 140, 'num_features': 20, 'max_depth': 14}. Best is trial 25 with value: 0.9129411764705883.\u001b[0m\n",
      "\u001b[32m[I 2022-03-07 19:28:49,726]\u001b[0m Trial 63 finished with value: 0.9058823529411765 and parameters: {'num_trees': 129, 'num_features': 17, 'max_depth': 10}. Best is trial 25 with value: 0.9129411764705883.\u001b[0m\n"
     ]
    },
    {
     "name": "stdout",
     "output_type": "stream",
     "text": [
      "Finished training! Time elapsed: 298.95310735702515\n"
     ]
    },
    {
     "name": "stderr",
     "output_type": "stream",
     "text": [
      "\u001b[32m[I 2022-03-07 19:32:31,706]\u001b[0m Trial 64 finished with value: 0.9058823529411765 and parameters: {'num_trees': 130, 'num_features': 10, 'max_depth': 16}. Best is trial 25 with value: 0.9129411764705883.\u001b[0m\n"
     ]
    },
    {
     "name": "stdout",
     "output_type": "stream",
     "text": [
      "Finished training! Time elapsed: 221.79676127433777\n"
     ]
    },
    {
     "name": "stderr",
     "output_type": "stream",
     "text": [
      "\u001b[32m[I 2022-03-07 19:36:52,389]\u001b[0m Trial 65 finished with value: 0.8964705882352941 and parameters: {'num_trees': 118, 'num_features': 12, 'max_depth': 21}. Best is trial 25 with value: 0.9129411764705883.\u001b[0m\n"
     ]
    },
    {
     "name": "stdout",
     "output_type": "stream",
     "text": [
      "Finished training! Time elapsed: 260.4733200073242\n",
      "Finished training! Time elapsed: 456.8710069656372\n"
     ]
    },
    {
     "name": "stderr",
     "output_type": "stream",
     "text": [
      "\u001b[32m[I 2022-03-07 19:44:29,907]\u001b[0m Trial 66 finished with value: 0.9105882352941177 and parameters: {'num_trees': 146, 'num_features': 14, 'max_depth': 27}. Best is trial 25 with value: 0.9129411764705883.\u001b[0m\n"
     ]
    },
    {
     "name": "stdout",
     "output_type": "stream",
     "text": [
      "Finished training! Time elapsed: 360.2081651687622\n"
     ]
    },
    {
     "name": "stderr",
     "output_type": "stream",
     "text": [
      "\u001b[32m[I 2022-03-07 19:50:30,591]\u001b[0m Trial 67 finished with value: 0.8964705882352941 and parameters: {'num_trees': 130, 'num_features': 14, 'max_depth': 28}. Best is trial 25 with value: 0.9129411764705883.\u001b[0m\n"
     ]
    },
    {
     "name": "stdout",
     "output_type": "stream",
     "text": [
      "Finished training! Time elapsed: 355.78655648231506\n"
     ]
    },
    {
     "name": "stderr",
     "output_type": "stream",
     "text": [
      "\u001b[32m[I 2022-03-07 19:56:26,841]\u001b[0m Trial 68 finished with value: 0.8964705882352941 and parameters: {'num_trees': 148, 'num_features': 13, 'max_depth': 25}. Best is trial 25 with value: 0.9129411764705883.\u001b[0m\n"
     ]
    },
    {
     "name": "stdout",
     "output_type": "stream",
     "text": [
      "Finished training! Time elapsed: 403.08650827407837\n"
     ]
    },
    {
     "name": "stderr",
     "output_type": "stream",
     "text": [
      "\u001b[32m[I 2022-03-07 20:03:10,387]\u001b[0m Trial 69 finished with value: 0.9035294117647059 and parameters: {'num_trees': 145, 'num_features': 14, 'max_depth': 33}. Best is trial 25 with value: 0.9129411764705883.\u001b[0m\n"
     ]
    },
    {
     "name": "stdout",
     "output_type": "stream",
     "text": [
      "Finished training! Time elapsed: 478.0774610042572\n"
     ]
    },
    {
     "name": "stderr",
     "output_type": "stream",
     "text": [
      "\u001b[32m[I 2022-03-07 20:11:09,143]\u001b[0m Trial 70 finished with value: 0.8870588235294118 and parameters: {'num_trees': 142, 'num_features': 17, 'max_depth': 30}. Best is trial 25 with value: 0.9129411764705883.\u001b[0m\n",
      "\u001b[32m[I 2022-03-07 20:14:46,719]\u001b[0m Trial 71 finished with value: 0.8941176470588236 and parameters: {'num_trees': 138, 'num_features': 11, 'max_depth': 11}. Best is trial 25 with value: 0.9129411764705883.\u001b[0m\n"
     ]
    },
    {
     "name": "stdout",
     "output_type": "stream",
     "text": [
      "Finished training! Time elapsed: 217.42494463920593\n"
     ]
    },
    {
     "name": "stderr",
     "output_type": "stream",
     "text": [
      "\u001b[32m[I 2022-03-07 20:17:46,071]\u001b[0m Trial 72 finished with value: 0.9058823529411765 and parameters: {'num_trees': 135, 'num_features': 10, 'max_depth': 12}. Best is trial 25 with value: 0.9129411764705883.\u001b[0m\n"
     ]
    },
    {
     "name": "stdout",
     "output_type": "stream",
     "text": [
      "Finished training! Time elapsed: 179.19115710258484\n"
     ]
    },
    {
     "name": "stderr",
     "output_type": "stream",
     "text": [
      "\u001b[32m[I 2022-03-07 20:23:26,939]\u001b[0m Trial 73 finished with value: 0.8988235294117647 and parameters: {'num_trees': 150, 'num_features': 16, 'max_depth': 16}. Best is trial 25 with value: 0.9129411764705883.\u001b[0m\n"
     ]
    },
    {
     "name": "stdout",
     "output_type": "stream",
     "text": [
      "Finished training! Time elapsed: 340.651083946228\n",
      "Finished training! Time elapsed: 534.0439019203186\n"
     ]
    },
    {
     "name": "stderr",
     "output_type": "stream",
     "text": [
      "\u001b[32m[I 2022-03-07 20:32:21,967]\u001b[0m Trial 74 finished with value: 0.8964705882352941 and parameters: {'num_trees': 145, 'num_features': 15, 'max_depth': 9}. Best is trial 25 with value: 0.9129411764705883.\u001b[0m\n"
     ]
    },
    {
     "name": "stdout",
     "output_type": "stream",
     "text": [
      "Finished training! Time elapsed: 832.9058594703674\n"
     ]
    },
    {
     "name": "stderr",
     "output_type": "stream",
     "text": [
      "\u001b[32m[I 2022-03-07 20:46:15,249]\u001b[0m Trial 75 finished with value: 0.8894117647058823 and parameters: {'num_trees': 136, 'num_features': 11, 'max_depth': 7}. Best is trial 25 with value: 0.9129411764705883.\u001b[0m\n"
     ]
    },
    {
     "name": "stdout",
     "output_type": "stream",
     "text": [
      "Finished training! Time elapsed: 1252.295753479004\n"
     ]
    },
    {
     "name": "stderr",
     "output_type": "stream",
     "text": [
      "\u001b[32m[I 2022-03-07 21:07:08,967]\u001b[0m Trial 76 finished with value: 0.8988235294117647 and parameters: {'num_trees': 124, 'num_features': 19, 'max_depth': 6}. Best is trial 25 with value: 0.9129411764705883.\u001b[0m\n"
     ]
    },
    {
     "name": "stdout",
     "output_type": "stream",
     "text": [
      "Finished training! Time elapsed: 850.9886243343353\n"
     ]
    },
    {
     "name": "stderr",
     "output_type": "stream",
     "text": [
      "\u001b[32m[I 2022-03-07 21:21:20,831]\u001b[0m Trial 77 finished with value: 0.9058823529411765 and parameters: {'num_trees': 139, 'num_features': 8, 'max_depth': 19}. Best is trial 25 with value: 0.9129411764705883.\u001b[0m\n"
     ]
    },
    {
     "name": "stdout",
     "output_type": "stream",
     "text": [
      "Finished training! Time elapsed: 422.6633322238922\n"
     ]
    },
    {
     "name": "stderr",
     "output_type": "stream",
     "text": [
      "\u001b[32m[I 2022-03-07 21:28:23,709]\u001b[0m Trial 78 finished with value: 0.8352941176470589 and parameters: {'num_trees': 144, 'num_features': 8, 'max_depth': 3}. Best is trial 25 with value: 0.9129411764705883.\u001b[0m\n"
     ]
    },
    {
     "name": "stdout",
     "output_type": "stream",
     "text": [
      "Finished training! Time elapsed: 618.3238921165466\n"
     ]
    },
    {
     "name": "stderr",
     "output_type": "stream",
     "text": [
      "\u001b[32m[I 2022-03-07 21:38:42,868]\u001b[0m Trial 79 finished with value: 0.8988235294117647 and parameters: {'num_trees': 142, 'num_features': 14, 'max_depth': 2}. Best is trial 25 with value: 0.9129411764705883.\u001b[0m\n"
     ]
    },
    {
     "name": "stdout",
     "output_type": "stream",
     "text": [
      "Finished training! Time elapsed: 1117.7331557273865\n"
     ]
    },
    {
     "name": "stderr",
     "output_type": "stream",
     "text": [
      "\u001b[32m[I 2022-03-07 21:57:21,499]\u001b[0m Trial 80 finished with value: 0.8376470588235294 and parameters: {'num_trees': 105, 'num_features': 12, 'max_depth': 28}. Best is trial 25 with value: 0.9129411764705883.\u001b[0m\n"
     ]
    },
    {
     "name": "stdout",
     "output_type": "stream",
     "text": [
      "Finished training! Time elapsed: 1366.1907587051392\n"
     ]
    },
    {
     "name": "stderr",
     "output_type": "stream",
     "text": [
      "\u001b[32m[I 2022-03-07 22:20:07,954]\u001b[0m Trial 81 finished with value: 0.9058823529411765 and parameters: {'num_trees': 148, 'num_features': 13, 'max_depth': 14}. Best is trial 25 with value: 0.9129411764705883.\u001b[0m\n",
      "\u001b[32m[I 2022-03-07 22:24:51,666]\u001b[0m Trial 82 finished with value: 0.8894117647058823 and parameters: {'num_trees': 139, 'num_features': 15, 'max_depth': 12}. Best is trial 25 with value: 0.9129411764705883.\u001b[0m\n"
     ]
    },
    {
     "name": "stdout",
     "output_type": "stream",
     "text": [
      "Finished training! Time elapsed: 283.53946185112\n"
     ]
    },
    {
     "name": "stderr",
     "output_type": "stream",
     "text": [
      "\u001b[32m[I 2022-03-07 22:28:21,168]\u001b[0m Trial 83 finished with value: 0.8894117647058823 and parameters: {'num_trees': 133, 'num_features': 13, 'max_depth': 9}. Best is trial 25 with value: 0.9129411764705883.\u001b[0m\n"
     ]
    },
    {
     "name": "stdout",
     "output_type": "stream",
     "text": [
      "Finished training! Time elapsed: 209.36591029167175\n"
     ]
    },
    {
     "name": "stderr",
     "output_type": "stream",
     "text": [
      "\u001b[32m[I 2022-03-07 22:32:41,207]\u001b[0m Trial 84 finished with value: 0.8917647058823529 and parameters: {'num_trees': 129, 'num_features': 16, 'max_depth': 10}. Best is trial 25 with value: 0.9129411764705883.\u001b[0m\n"
     ]
    },
    {
     "name": "stdout",
     "output_type": "stream",
     "text": [
      "Finished training! Time elapsed: 259.90097522735596\n"
     ]
    },
    {
     "name": "stderr",
     "output_type": "stream",
     "text": [
      "\u001b[32m[I 2022-03-07 22:35:30,589]\u001b[0m Trial 85 finished with value: 0.9011764705882352 and parameters: {'num_trees': 132, 'num_features': 10, 'max_depth': 12}. Best is trial 25 with value: 0.9129411764705883.\u001b[0m\n"
     ]
    },
    {
     "name": "stdout",
     "output_type": "stream",
     "text": [
      "Finished training! Time elapsed: 169.2317819595337\n"
     ]
    },
    {
     "name": "stderr",
     "output_type": "stream",
     "text": [
      "\u001b[32m[I 2022-03-07 22:37:29,227]\u001b[0m Trial 86 finished with value: 0.9035294117647059 and parameters: {'num_trees': 146, 'num_features': 9, 'max_depth': 5}. Best is trial 25 with value: 0.9129411764705883.\u001b[0m\n"
     ]
    },
    {
     "name": "stdout",
     "output_type": "stream",
     "text": [
      "Finished training! Time elapsed: 118.53857517242432\n",
      "Finished training! Time elapsed: 617.8405396938324\n"
     ]
    },
    {
     "name": "stderr",
     "output_type": "stream",
     "text": [
      "\u001b[32m[I 2022-03-07 22:47:47,555]\u001b[0m Trial 87 finished with value: 0.8964705882352941 and parameters: {'num_trees': 119, 'num_features': 12, 'max_depth': 6}. Best is trial 25 with value: 0.9129411764705883.\u001b[0m\n"
     ]
    },
    {
     "name": "stdout",
     "output_type": "stream",
     "text": [
      "Finished training! Time elapsed: 705.881026506424\n"
     ]
    },
    {
     "name": "stderr",
     "output_type": "stream",
     "text": [
      "\u001b[32m[I 2022-03-07 22:59:35,560]\u001b[0m Trial 88 finished with value: 0.8894117647058823 and parameters: {'num_trees': 50, 'num_features': 14, 'max_depth': 40}. Best is trial 25 with value: 0.9129411764705883.\u001b[0m\n",
      "\u001b[32m[I 2022-03-07 23:06:19,874]\u001b[0m Trial 89 finished with value: 0.851764705882353 and parameters: {'num_trees': 124, 'num_features': 15, 'max_depth': 1}. Best is trial 25 with value: 0.9129411764705883.\u001b[0m\n"
     ]
    },
    {
     "name": "stdout",
     "output_type": "stream",
     "text": [
      "Finished training! Time elapsed: 404.08202266693115\n",
      "Finished training! Time elapsed: 1348.2574503421783\n"
     ]
    },
    {
     "name": "stderr",
     "output_type": "stream",
     "text": [
      "\u001b[32m[I 2022-03-07 23:28:49,055]\u001b[0m Trial 90 finished with value: 0.8894117647058823 and parameters: {'num_trees': 148, 'num_features': 13, 'max_depth': 13}. Best is trial 25 with value: 0.9129411764705883.\u001b[0m\n"
     ]
    },
    {
     "name": "stdout",
     "output_type": "stream",
     "text": [
      "Finished training! Time elapsed: 804.5835092067719\n"
     ]
    },
    {
     "name": "stderr",
     "output_type": "stream",
     "text": [
      "\u001b[32m[I 2022-03-07 23:42:14,126]\u001b[0m Trial 91 finished with value: 0.8376470588235294 and parameters: {'num_trees': 135, 'num_features': 9, 'max_depth': 11}. Best is trial 25 with value: 0.9129411764705883.\u001b[0m\n"
     ]
    },
    {
     "name": "stdout",
     "output_type": "stream",
     "text": [
      "Finished training! Time elapsed: 1092.2342162132263\n"
     ]
    },
    {
     "name": "stderr",
     "output_type": "stream",
     "text": [
      "\u001b[32m[I 2022-03-08 00:00:26,949]\u001b[0m Trial 92 finished with value: 0.8541176470588235 and parameters: {'num_trees': 136, 'num_features': 11, 'max_depth': 14}. Best is trial 25 with value: 0.9129411764705883.\u001b[0m\n"
     ]
    },
    {
     "name": "stdout",
     "output_type": "stream",
     "text": [
      "Finished training! Time elapsed: 794.6085839271545\n"
     ]
    },
    {
     "name": "stderr",
     "output_type": "stream",
     "text": [
      "\u001b[32m[I 2022-03-08 00:13:44,128]\u001b[0m Trial 93 finished with value: 0.8376470588235294 and parameters: {'num_trees': 139, 'num_features': 7, 'max_depth': 18}. Best is trial 25 with value: 0.9129411764705883.\u001b[0m\n"
     ]
    },
    {
     "name": "stdout",
     "output_type": "stream",
     "text": [
      "Finished training! Time elapsed: 1709.8012008666992\n"
     ]
    },
    {
     "name": "stderr",
     "output_type": "stream",
     "text": [
      "\u001b[32m[I 2022-03-08 00:42:14,677]\u001b[0m Trial 94 finished with value: 0.8894117647058823 and parameters: {'num_trees': 128, 'num_features': 17, 'max_depth': 16}. Best is trial 25 with value: 0.9129411764705883.\u001b[0m\n"
     ]
    },
    {
     "name": "stdout",
     "output_type": "stream",
     "text": [
      "Finished training! Time elapsed: 636.1732587814331\n"
     ]
    },
    {
     "name": "stderr",
     "output_type": "stream",
     "text": [
      "\u001b[32m[I 2022-03-08 00:52:51,205]\u001b[0m Trial 95 finished with value: 0.9011764705882352 and parameters: {'num_trees': 143, 'num_features': 8, 'max_depth': 7}. Best is trial 25 with value: 0.9129411764705883.\u001b[0m\n"
     ]
    },
    {
     "name": "stdout",
     "output_type": "stream",
     "text": [
      "Finished training! Time elapsed: 1148.855967283249\n"
     ]
    },
    {
     "name": "stderr",
     "output_type": "stream",
     "text": [
      "\u001b[32m[I 2022-03-08 01:12:00,902]\u001b[0m Trial 96 finished with value: 0.9058823529411765 and parameters: {'num_trees': 140, 'num_features': 10, 'max_depth': 20}. Best is trial 25 with value: 0.9129411764705883.\u001b[0m\n"
     ]
    },
    {
     "name": "stdout",
     "output_type": "stream",
     "text": [
      "Finished training! Time elapsed: 1188.6636981964111\n"
     ]
    },
    {
     "name": "stderr",
     "output_type": "stream",
     "text": [
      "\u001b[32m[I 2022-03-08 01:31:50,437]\u001b[0m Trial 97 finished with value: 0.9058823529411765 and parameters: {'num_trees': 140, 'num_features': 10, 'max_depth': 21}. Best is trial 25 with value: 0.9129411764705883.\u001b[0m\n"
     ]
    },
    {
     "name": "stdout",
     "output_type": "stream",
     "text": [
      "Finished training! Time elapsed: 774.2607820034027\n"
     ]
    },
    {
     "name": "stderr",
     "output_type": "stream",
     "text": [
      "\u001b[32m[I 2022-03-08 01:44:45,397]\u001b[0m Trial 98 finished with value: 0.9035294117647059 and parameters: {'num_trees': 112, 'num_features': 8, 'max_depth': 24}. Best is trial 25 with value: 0.9129411764705883.\u001b[0m\n"
     ]
    },
    {
     "name": "stdout",
     "output_type": "stream",
     "text": [
      "Finished training! Time elapsed: 1462.3594198226929\n"
     ]
    },
    {
     "name": "stderr",
     "output_type": "stream",
     "text": [
      "\u001b[32m[I 2022-03-08 02:09:08,390]\u001b[0m Trial 99 finished with value: 0.8964705882352941 and parameters: {'num_trees': 148, 'num_features': 13, 'max_depth': 14}. Best is trial 25 with value: 0.9129411764705883.\u001b[0m\n"
     ]
    }
   ],
   "source": [
    "study = optuna.create_study(direction='maximize')\n",
    "study.optimize(objective, n_trials=100)"
   ]
  },
  {
   "cell_type": "code",
   "execution_count": 5,
   "metadata": {},
   "outputs": [
    {
     "name": "stdout",
     "output_type": "stream",
     "text": [
      "Best hyperparameters are: {'num_trees': 143, 'num_features': 9, 'max_depth': 11}\n",
      "Best validation accuracy is: 0.9129411764705883\n"
     ]
    }
   ],
   "source": [
    "print(\"Best hyperparameters are:\", study.best_params)\n",
    "print(\"Best validation accuracy is:\", study.best_value)"
   ]
  },
  {
   "cell_type": "code",
   "execution_count": null,
   "metadata": {},
   "outputs": [],
   "source": []
  }
 ],
 "metadata": {
  "kernelspec": {
   "display_name": "Python 3",
   "language": "python",
   "name": "python3"
  },
  "language_info": {
   "codemirror_mode": {
    "name": "ipython",
    "version": 3
   },
   "file_extension": ".py",
   "mimetype": "text/x-python",
   "name": "python",
   "nbconvert_exporter": "python",
   "pygments_lexer": "ipython3",
   "version": "3.8.3"
  }
 },
 "nbformat": 4,
 "nbformat_minor": 4
}
